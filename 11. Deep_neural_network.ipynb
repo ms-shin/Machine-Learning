{
 "cells": [
  {
   "cell_type": "code",
   "execution_count": 1,
   "id": "widespread-defense",
   "metadata": {},
   "outputs": [],
   "source": [
    "import tensorflow as tf\n",
    "from tensorflow import keras\n",
    "import numpy as np"
   ]
  },
  {
   "cell_type": "code",
   "execution_count": 2,
   "id": "recent-kazakhstan",
   "metadata": {},
   "outputs": [],
   "source": [
    "(X_train_full, y_train_full), (X_test, y_test) = keras.datasets.fashion_mnist.load_data()\n",
    "X_train_full = X_train_full / 255.0\n",
    "X_test = X_test / 255.0\n",
    "X_valid, X_train = X_train_full[:5000], X_train_full[5000:]\n",
    "y_valid, y_train = y_train_full[:5000], y_train_full[5000:]"
   ]
  },
  {
   "cell_type": "code",
   "execution_count": 3,
   "id": "sexual-stack",
   "metadata": {},
   "outputs": [],
   "source": [
    "model = keras.models.Sequential([\n",
    "    keras.layers.Flatten(input_shape=[28, 28]),\n",
    "    keras.layers.Dense(300, kernel_initializer=\"he_normal\"),\n",
    "    keras.layers.LeakyReLU(),\n",
    "    keras.layers.Dense(100, kernel_initializer=\"he_normal\"),\n",
    "    keras.layers.LeakyReLU(),\n",
    "    keras.layers.Dense(10, activation=\"softmax\")\n",
    "])"
   ]
  },
  {
   "cell_type": "code",
   "execution_count": 4,
   "id": "wireless-charity",
   "metadata": {},
   "outputs": [],
   "source": [
    "model.compile(loss=\"sparse_categorical_crossentropy\",\n",
    "              optimizer=keras.optimizers.SGD(lr=1e-3),\n",
    "              metrics=[\"accuracy\"])"
   ]
  },
  {
   "cell_type": "code",
   "execution_count": 5,
   "id": "painful-network",
   "metadata": {},
   "outputs": [
    {
     "name": "stdout",
     "output_type": "stream",
     "text": [
      "Train on 55000 samples, validate on 5000 samples\n",
      "Epoch 1/10\n",
      "55000/55000 [==============================] - 4s 70us/sample - loss: 1.3070 - accuracy: 0.5927 - val_loss: 0.8794 - val_accuracy: 0.7186\n",
      "Epoch 2/10\n",
      "55000/55000 [==============================] - 3s 63us/sample - loss: 0.7923 - accuracy: 0.7413 - val_loss: 0.7045 - val_accuracy: 0.7728\n",
      "Epoch 3/10\n",
      "55000/55000 [==============================] - 3s 58us/sample - loss: 0.6772 - accuracy: 0.7775 - val_loss: 0.6305 - val_accuracy: 0.7964\n",
      "Epoch 4/10\n",
      "55000/55000 [==============================] - 3s 56us/sample - loss: 0.6172 - accuracy: 0.7959 - val_loss: 0.5830 - val_accuracy: 0.8118\n",
      "Epoch 5/10\n",
      "55000/55000 [==============================] - 3s 56us/sample - loss: 0.5796 - accuracy: 0.8080 - val_loss: 0.5541 - val_accuracy: 0.8182\n",
      "Epoch 6/10\n",
      "55000/55000 [==============================] - 3s 56us/sample - loss: 0.5530 - accuracy: 0.8151 - val_loss: 0.5293 - val_accuracy: 0.8254\n",
      "Epoch 7/10\n",
      "55000/55000 [==============================] - 3s 54us/sample - loss: 0.5331 - accuracy: 0.8207 - val_loss: 0.5123 - val_accuracy: 0.8256\n",
      "Epoch 8/10\n",
      "55000/55000 [==============================] - 4s 70us/sample - loss: 0.5172 - accuracy: 0.8244 - val_loss: 0.5009 - val_accuracy: 0.8310\n",
      "Epoch 9/10\n",
      "55000/55000 [==============================] - 3s 63us/sample - loss: 0.5045 - accuracy: 0.8287 - val_loss: 0.4881 - val_accuracy: 0.8324\n",
      "Epoch 10/10\n",
      "55000/55000 [==============================] - 3s 55us/sample - loss: 0.4935 - accuracy: 0.8317 - val_loss: 0.4811 - val_accuracy: 0.8332\n"
     ]
    }
   ],
   "source": [
    "history = model.fit(X_train, y_train, epochs=10,\n",
    "                    validation_data=(X_valid, y_valid))"
   ]
  },
  {
   "cell_type": "code",
   "execution_count": 6,
   "id": "excellent-voltage",
   "metadata": {},
   "outputs": [],
   "source": [
    "model = keras.models.Sequential([\n",
    "    keras.layers.Flatten(input_shape=[28, 28]),\n",
    "    keras.layers.Dense(300, kernel_initializer=\"he_normal\"),\n",
    "    keras.layers.PReLU(),\n",
    "    keras.layers.Dense(100, kernel_initializer=\"he_normal\"),\n",
    "    keras.layers.PReLU(),\n",
    "    keras.layers.Dense(10, activation=\"softmax\")\n",
    "])"
   ]
  },
  {
   "cell_type": "code",
   "execution_count": 7,
   "id": "comfortable-egyptian",
   "metadata": {},
   "outputs": [],
   "source": [
    "model.compile(loss=\"sparse_categorical_crossentropy\",\n",
    "              optimizer=keras.optimizers.SGD(lr=1e-3),\n",
    "              metrics=[\"accuracy\"])"
   ]
  },
  {
   "cell_type": "code",
   "execution_count": 8,
   "id": "defined-latin",
   "metadata": {},
   "outputs": [
    {
     "name": "stdout",
     "output_type": "stream",
     "text": [
      "Train on 55000 samples, validate on 5000 samples\n",
      "Epoch 1/10\n",
      "55000/55000 [==============================] - 4s 70us/sample - loss: 1.2803 - accuracy: 0.6263 - val_loss: 0.8973 - val_accuracy: 0.7256\n",
      "Epoch 2/10\n",
      "55000/55000 [==============================] - 4s 68us/sample - loss: 0.8049 - accuracy: 0.7501 - val_loss: 0.7199 - val_accuracy: 0.7780\n",
      "Epoch 3/10\n",
      "55000/55000 [==============================] - 4s 69us/sample - loss: 0.6875 - accuracy: 0.7824 - val_loss: 0.6396 - val_accuracy: 0.8016\n",
      "Epoch 4/10\n",
      "55000/55000 [==============================] - ETA: 0s - loss: 0.6249 - accuracy: 0.80 - 4s 67us/sample - loss: 0.6249 - accuracy: 0.8000 - val_loss: 0.5914 - val_accuracy: 0.8080\n",
      "Epoch 5/10\n",
      "55000/55000 [==============================] - 4s 65us/sample - loss: 0.5837 - accuracy: 0.8101 - val_loss: 0.5573 - val_accuracy: 0.8210\n",
      "Epoch 6/10\n",
      "55000/55000 [==============================] - 4s 65us/sample - loss: 0.5545 - accuracy: 0.8169 - val_loss: 0.5322 - val_accuracy: 0.8280\n",
      "Epoch 7/10\n",
      "55000/55000 [==============================] - 4s 65us/sample - loss: 0.5332 - accuracy: 0.8223 - val_loss: 0.5139 - val_accuracy: 0.8300\n",
      "Epoch 8/10\n",
      "55000/55000 [==============================] - 3s 64us/sample - loss: 0.5158 - accuracy: 0.8269 - val_loss: 0.4984 - val_accuracy: 0.8358\n",
      "Epoch 9/10\n",
      "55000/55000 [==============================] - 3s 62us/sample - loss: 0.5023 - accuracy: 0.8297 - val_loss: 0.4859 - val_accuracy: 0.8390\n",
      "Epoch 10/10\n",
      "55000/55000 [==============================] - 3s 59us/sample - loss: 0.4911 - accuracy: 0.8321 - val_loss: 0.4763 - val_accuracy: 0.8402\n"
     ]
    }
   ],
   "source": [
    "history = model.fit(X_train, y_train, epochs=10,\n",
    "                    validation_data=(X_valid, y_valid))"
   ]
  },
  {
   "cell_type": "code",
   "execution_count": 9,
   "id": "formal-devil",
   "metadata": {},
   "outputs": [],
   "source": [
    "model = keras.models.Sequential([\n",
    "    keras.layers.Flatten(input_shape=[28, 28]),\n",
    "    keras.layers.BatchNormalization(),\n",
    "    keras.layers.Dense(300, activation=\"relu\"),\n",
    "    keras.layers.BatchNormalization(),\n",
    "    keras.layers.Dense(100, activation=\"relu\"),\n",
    "    keras.layers.BatchNormalization(),\n",
    "    keras.layers.Dense(10, activation=\"softmax\")\n",
    "])"
   ]
  },
  {
   "cell_type": "code",
   "execution_count": 10,
   "id": "entire-dylan",
   "metadata": {},
   "outputs": [
    {
     "name": "stdout",
     "output_type": "stream",
     "text": [
      "Model: \"sequential_2\"\n",
      "_________________________________________________________________\n",
      "Layer (type)                 Output Shape              Param #   \n",
      "=================================================================\n",
      "flatten_2 (Flatten)          (None, 784)               0         \n",
      "_________________________________________________________________\n",
      "batch_normalization (BatchNo (None, 784)               3136      \n",
      "_________________________________________________________________\n",
      "dense_6 (Dense)              (None, 300)               235500    \n",
      "_________________________________________________________________\n",
      "batch_normalization_1 (Batch (None, 300)               1200      \n",
      "_________________________________________________________________\n",
      "dense_7 (Dense)              (None, 100)               30100     \n",
      "_________________________________________________________________\n",
      "batch_normalization_2 (Batch (None, 100)               400       \n",
      "_________________________________________________________________\n",
      "dense_8 (Dense)              (None, 10)                1010      \n",
      "=================================================================\n",
      "Total params: 271,346\n",
      "Trainable params: 268,978\n",
      "Non-trainable params: 2,368\n",
      "_________________________________________________________________\n"
     ]
    }
   ],
   "source": [
    "model.summary()"
   ]
  },
  {
   "cell_type": "code",
   "execution_count": 11,
   "id": "cooked-princeton",
   "metadata": {},
   "outputs": [
    {
     "data": {
      "text/plain": [
       "[('batch_normalization/gamma:0', True),\n",
       " ('batch_normalization/beta:0', True),\n",
       " ('batch_normalization/moving_mean:0', False),\n",
       " ('batch_normalization/moving_variance:0', False)]"
      ]
     },
     "execution_count": 11,
     "metadata": {},
     "output_type": "execute_result"
    }
   ],
   "source": [
    "bn1 = model.layers[1]\n",
    "[(var.name, var.trainable) for var in bn1.variables]"
   ]
  },
  {
   "cell_type": "code",
   "execution_count": 12,
   "id": "electric-providence",
   "metadata": {},
   "outputs": [],
   "source": [
    "model.compile(loss=\"sparse_categorical_crossentropy\",\n",
    "              optimizer=keras.optimizers.SGD(lr=1e-3),\n",
    "              metrics=[\"accuracy\"])"
   ]
  },
  {
   "cell_type": "code",
   "execution_count": 13,
   "id": "lucky-polish",
   "metadata": {},
   "outputs": [
    {
     "name": "stdout",
     "output_type": "stream",
     "text": [
      "Train on 55000 samples, validate on 5000 samples\n",
      "Epoch 1/10\n",
      "55000/55000 [==============================] - 6s 102us/sample - loss: 0.8589 - accuracy: 0.7126 - val_loss: 0.5565 - val_accuracy: 0.8138\n",
      "Epoch 2/10\n",
      "55000/55000 [==============================] - 5s 98us/sample - loss: 0.5740 - accuracy: 0.8030 - val_loss: 0.4803 - val_accuracy: 0.8346\n",
      "Epoch 3/10\n",
      "55000/55000 [==============================] - 5s 95us/sample - loss: 0.5157 - accuracy: 0.8216 - val_loss: 0.4447 - val_accuracy: 0.8456\n",
      "Epoch 4/10\n",
      "55000/55000 [==============================] - 6s 101us/sample - loss: 0.4789 - accuracy: 0.8330 - val_loss: 0.4225 - val_accuracy: 0.8538\n",
      "Epoch 5/10\n",
      "55000/55000 [==============================] - 5s 98us/sample - loss: 0.4587 - accuracy: 0.8401 - val_loss: 0.4074 - val_accuracy: 0.8576\n",
      "Epoch 6/10\n",
      "55000/55000 [==============================] - 5s 95us/sample - loss: 0.4375 - accuracy: 0.8477 - val_loss: 0.3952 - val_accuracy: 0.8614\n",
      "Epoch 7/10\n",
      "55000/55000 [==============================] - 6s 107us/sample - loss: 0.4238 - accuracy: 0.8521 - val_loss: 0.3866 - val_accuracy: 0.8650\n",
      "Epoch 8/10\n",
      "55000/55000 [==============================] - 5s 97us/sample - loss: 0.4118 - accuracy: 0.8556 - val_loss: 0.3785 - val_accuracy: 0.8664\n",
      "Epoch 9/10\n",
      "55000/55000 [==============================] - 5s 96us/sample - loss: 0.4032 - accuracy: 0.8590 - val_loss: 0.3732 - val_accuracy: 0.8668\n",
      "Epoch 10/10\n",
      "55000/55000 [==============================] - 5s 97us/sample - loss: 0.3944 - accuracy: 0.8625 - val_loss: 0.3680 - val_accuracy: 0.8712\n"
     ]
    }
   ],
   "source": [
    "history = model.fit(X_train, y_train, epochs=10,\n",
    "                    validation_data=(X_valid, y_valid))"
   ]
  },
  {
   "cell_type": "code",
   "execution_count": 14,
   "id": "mighty-suite",
   "metadata": {},
   "outputs": [],
   "source": [
    "#### 활성화 함수 전에 사용하는 방법\n",
    "\n",
    "\n",
    "model = keras.models.Sequential([\n",
    "    keras.layers.Flatten(input_shape=[28, 28]),\n",
    "    keras.layers.BatchNormalization(),\n",
    "    keras.layers.Dense(300, use_bias=False),\n",
    "    keras.layers.BatchNormalization(),\n",
    "    keras.layers.Activation(\"relu\"),\n",
    "    keras.layers.Dense(100, use_bias=False),\n",
    "    keras.layers.BatchNormalization(),\n",
    "    keras.layers.Activation(\"relu\"),\n",
    "    keras.layers.Dense(10, activation=\"softmax\")\n",
    "])"
   ]
  },
  {
   "cell_type": "code",
   "execution_count": 15,
   "id": "developing-racing",
   "metadata": {},
   "outputs": [],
   "source": [
    "model.compile(loss=\"sparse_categorical_crossentropy\",\n",
    "              optimizer=keras.optimizers.SGD(lr=1e-3),\n",
    "              metrics=[\"accuracy\"])"
   ]
  },
  {
   "cell_type": "code",
   "execution_count": 16,
   "id": "integral-complexity",
   "metadata": {},
   "outputs": [
    {
     "name": "stdout",
     "output_type": "stream",
     "text": [
      "Train on 55000 samples, validate on 5000 samples\n",
      "Epoch 1/10\n",
      "55000/55000 [==============================] - 6s 111us/sample - loss: 1.0188 - accuracy: 0.6885 - val_loss: 0.6574 - val_accuracy: 0.7932\n",
      "Epoch 2/10\n",
      "55000/55000 [==============================] - 5s 95us/sample - loss: 0.6624 - accuracy: 0.7885 - val_loss: 0.5438 - val_accuracy: 0.8214\n",
      "Epoch 3/10\n",
      "55000/55000 [==============================] - 5s 94us/sample - loss: 0.5847 - accuracy: 0.8056 - val_loss: 0.4934 - val_accuracy: 0.8312\n",
      "Epoch 4/10\n",
      "55000/55000 [==============================] - 5s 93us/sample - loss: 0.5387 - accuracy: 0.8186 - val_loss: 0.4638 - val_accuracy: 0.8404\n",
      "Epoch 5/10\n",
      "55000/55000 [==============================] - 6s 102us/sample - loss: 0.5094 - accuracy: 0.8265 - val_loss: 0.4416 - val_accuracy: 0.8498\n",
      "Epoch 6/10\n",
      "55000/55000 [==============================] - 5s 94us/sample - loss: 0.4887 - accuracy: 0.8323 - val_loss: 0.4259 - val_accuracy: 0.8532\n",
      "Epoch 7/10\n",
      "55000/55000 [==============================] - 5s 95us/sample - loss: 0.4713 - accuracy: 0.8365 - val_loss: 0.4138 - val_accuracy: 0.8594\n",
      "Epoch 8/10\n",
      "55000/55000 [==============================] - 6s 101us/sample - loss: 0.4563 - accuracy: 0.8429 - val_loss: 0.4036 - val_accuracy: 0.8618\n",
      "Epoch 9/10\n",
      "55000/55000 [==============================] - 6s 106us/sample - loss: 0.4451 - accuracy: 0.8459 - val_loss: 0.3951 - val_accuracy: 0.8638\n",
      "Epoch 10/10\n",
      "55000/55000 [==============================] - 6s 103us/sample - loss: 0.4348 - accuracy: 0.8486 - val_loss: 0.3889 - val_accuracy: 0.8654\n"
     ]
    }
   ],
   "source": [
    "history = model.fit(X_train, y_train, epochs=10,\n",
    "                    validation_data=(X_valid, y_valid))"
   ]
  },
  {
   "cell_type": "code",
   "execution_count": 17,
   "id": "designing-grain",
   "metadata": {},
   "outputs": [],
   "source": [
    "def split_dataset(X, y):\n",
    "    y_5_or_6 = (y == 5) | (y == 6) # sandals or shirts\n",
    "    y_A = y[~y_5_or_6]\n",
    "    y_A[y_A > 6] -= 2 # class indices 7, 8, 9 should be moved to 5, 6, 7\n",
    "    y_B = (y[y_5_or_6] == 6).astype(np.float32) # binary classification task: is it a shirt (class 6)?\n",
    "    return ((X[~y_5_or_6], y_A),\n",
    "            (X[y_5_or_6], y_B))\n",
    "\n",
    "(X_train_A, y_train_A), (X_train_B, y_train_B) = split_dataset(X_train, y_train)\n",
    "(X_valid_A, y_valid_A), (X_valid_B, y_valid_B) = split_dataset(X_valid, y_valid)\n",
    "(X_test_A, y_test_A), (X_test_B, y_test_B) = split_dataset(X_test, y_test)\n",
    "X_train_B = X_train_B[:200]\n",
    "y_train_B = y_train_B[:200]"
   ]
  },
  {
   "cell_type": "code",
   "execution_count": 18,
   "id": "exposed-generator",
   "metadata": {},
   "outputs": [],
   "source": [
    "model_A = keras.models.Sequential()\n",
    "model_A.add(keras.layers.Flatten(input_shape=[28, 28]))\n",
    "for n_hidden in (300, 100, 50, 50, 50):\n",
    "    model_A.add(keras.layers.Dense(n_hidden, activation=\"selu\"))\n",
    "model_A.add(keras.layers.Dense(8, activation=\"softmax\"))"
   ]
  },
  {
   "cell_type": "code",
   "execution_count": 19,
   "id": "bright-snowboard",
   "metadata": {},
   "outputs": [],
   "source": [
    "model_A.compile(loss=\"sparse_categorical_crossentropy\",\n",
    "                optimizer=keras.optimizers.SGD(lr=1e-3),\n",
    "                metrics=[\"accuracy\"])"
   ]
  },
  {
   "cell_type": "code",
   "execution_count": 20,
   "id": "accepting-roller",
   "metadata": {},
   "outputs": [
    {
     "name": "stdout",
     "output_type": "stream",
     "text": [
      "Train on 43986 samples, validate on 4014 samples\n",
      "Epoch 1/20\n",
      "43986/43986 [==============================] - 3s 71us/sample - loss: 0.5535 - accuracy: 0.8238 - val_loss: 0.3730 - val_accuracy: 0.8754\n",
      "Epoch 2/20\n",
      "43986/43986 [==============================] - 4s 83us/sample - loss: 0.3449 - accuracy: 0.8822 - val_loss: 0.3145 - val_accuracy: 0.8941\n",
      "Epoch 3/20\n",
      "43986/43986 [==============================] - 3s 65us/sample - loss: 0.3100 - accuracy: 0.8939 - val_loss: 0.2942 - val_accuracy: 0.8986\n",
      "Epoch 4/20\n",
      "43986/43986 [==============================] - 3s 63us/sample - loss: 0.2911 - accuracy: 0.8990 - val_loss: 0.2823 - val_accuracy: 0.9031\n",
      "Epoch 5/20\n",
      "43986/43986 [==============================] - 3s 63us/sample - loss: 0.2784 - accuracy: 0.9042 - val_loss: 0.2699 - val_accuracy: 0.9106\n",
      "Epoch 6/20\n",
      "43986/43986 [==============================] - 3s 65us/sample - loss: 0.2690 - accuracy: 0.9073 - val_loss: 0.2648 - val_accuracy: 0.9093\n",
      "Epoch 7/20\n",
      "43986/43986 [==============================] - 3s 63us/sample - loss: 0.2612 - accuracy: 0.9107 - val_loss: 0.2605 - val_accuracy: 0.9126\n",
      "Epoch 8/20\n",
      "43986/43986 [==============================] - 3s 62us/sample - loss: 0.2552 - accuracy: 0.9127 - val_loss: 0.2566 - val_accuracy: 0.9108\n",
      "Epoch 9/20\n",
      "43986/43986 [==============================] - 3s 64us/sample - loss: 0.2499 - accuracy: 0.9143 - val_loss: 0.2555 - val_accuracy: 0.9128\n",
      "Epoch 10/20\n",
      "43986/43986 [==============================] - 3s 63us/sample - loss: 0.2450 - accuracy: 0.9158 - val_loss: 0.2494 - val_accuracy: 0.9145\n",
      "Epoch 11/20\n",
      "43986/43986 [==============================] - ETA: 0s - loss: 0.2409 - accuracy: 0.91 - 3s 62us/sample - loss: 0.2406 - accuracy: 0.9172 - val_loss: 0.2505 - val_accuracy: 0.9101\n",
      "Epoch 12/20\n",
      "43986/43986 [==============================] - 3s 63us/sample - loss: 0.2371 - accuracy: 0.9181 - val_loss: 0.2429 - val_accuracy: 0.9163\n",
      "Epoch 13/20\n",
      "43986/43986 [==============================] - 3s 63us/sample - loss: 0.2334 - accuracy: 0.9204 - val_loss: 0.2440 - val_accuracy: 0.9170\n",
      "Epoch 14/20\n",
      "43986/43986 [==============================] - 3s 63us/sample - loss: 0.2303 - accuracy: 0.9221 - val_loss: 0.2399 - val_accuracy: 0.9133\n",
      "Epoch 15/20\n",
      "43986/43986 [==============================] - 3s 64us/sample - loss: 0.2276 - accuracy: 0.9220 - val_loss: 0.2373 - val_accuracy: 0.9168\n",
      "Epoch 16/20\n",
      "43986/43986 [==============================] - 3s 62us/sample - loss: 0.2246 - accuracy: 0.9225 - val_loss: 0.2391 - val_accuracy: 0.9165\n",
      "Epoch 17/20\n",
      "43986/43986 [==============================] - 3s 62us/sample - loss: 0.2217 - accuracy: 0.9240 - val_loss: 0.2335 - val_accuracy: 0.9173\n",
      "Epoch 18/20\n",
      "43986/43986 [==============================] - 3s 63us/sample - loss: 0.2201 - accuracy: 0.9245 - val_loss: 0.2350 - val_accuracy: 0.9158\n",
      "Epoch 19/20\n",
      "43986/43986 [==============================] - 3s 64us/sample - loss: 0.2174 - accuracy: 0.9256 - val_loss: 0.2381 - val_accuracy: 0.9188\n",
      "Epoch 20/20\n",
      "43986/43986 [==============================] - 3s 63us/sample - loss: 0.2144 - accuracy: 0.9259 - val_loss: 0.2346 - val_accuracy: 0.9180\n"
     ]
    }
   ],
   "source": [
    "history = model_A.fit(X_train_A, y_train_A, epochs=20,\n",
    "                    validation_data=(X_valid_A, y_valid_A))"
   ]
  },
  {
   "cell_type": "code",
   "execution_count": 21,
   "id": "turkish-welcome",
   "metadata": {},
   "outputs": [],
   "source": [
    "#model_A.save(\"my_model_A.h5\")"
   ]
  },
  {
   "cell_type": "code",
   "execution_count": 22,
   "id": "eastern-major",
   "metadata": {},
   "outputs": [],
   "source": [
    "model_B = keras.models.Sequential()\n",
    "model_B.add(keras.layers.Flatten(input_shape=[28, 28]))\n",
    "for n_hidden in (300, 100, 50, 50, 50):\n",
    "    model_B.add(keras.layers.Dense(n_hidden, activation=\"selu\"))\n",
    "model_B.add(keras.layers.Dense(1, activation=\"sigmoid\"))"
   ]
  },
  {
   "cell_type": "code",
   "execution_count": 23,
   "id": "quantitative-confidence",
   "metadata": {},
   "outputs": [],
   "source": [
    "model_B.compile(loss=\"binary_crossentropy\",\n",
    "                optimizer=keras.optimizers.SGD(lr=1e-3),\n",
    "                metrics=[\"accuracy\"])"
   ]
  },
  {
   "cell_type": "code",
   "execution_count": 24,
   "id": "external-ceremony",
   "metadata": {},
   "outputs": [
    {
     "name": "stdout",
     "output_type": "stream",
     "text": [
      "Train on 200 samples, validate on 986 samples\n",
      "Epoch 1/20\n",
      "200/200 [==============================] - 0s 2ms/sample - loss: 0.6873 - accuracy: 0.6550 - val_loss: 0.5787 - val_accuracy: 0.7140\n",
      "Epoch 2/20\n",
      "200/200 [==============================] - 0s 291us/sample - loss: 0.5318 - accuracy: 0.7800 - val_loss: 0.4665 - val_accuracy: 0.8144\n",
      "Epoch 3/20\n",
      "200/200 [==============================] - 0s 284us/sample - loss: 0.4285 - accuracy: 0.8200 - val_loss: 0.3899 - val_accuracy: 0.8560\n",
      "Epoch 4/20\n",
      "200/200 [==============================] - 0s 308us/sample - loss: 0.3547 - accuracy: 0.8700 - val_loss: 0.3343 - val_accuracy: 0.8905\n",
      "Epoch 5/20\n",
      "200/200 [==============================] - 0s 292us/sample - loss: 0.3015 - accuracy: 0.9100 - val_loss: 0.2952 - val_accuracy: 0.9128\n",
      "Epoch 6/20\n",
      "200/200 [==============================] - 0s 309us/sample - loss: 0.2631 - accuracy: 0.9250 - val_loss: 0.2638 - val_accuracy: 0.9239\n",
      "Epoch 7/20\n",
      "200/200 [==============================] - 0s 326us/sample - loss: 0.2315 - accuracy: 0.9250 - val_loss: 0.2382 - val_accuracy: 0.9320\n",
      "Epoch 8/20\n",
      "200/200 [==============================] - 0s 309us/sample - loss: 0.2067 - accuracy: 0.9450 - val_loss: 0.2184 - val_accuracy: 0.9371\n",
      "Epoch 9/20\n",
      "200/200 [==============================] - 0s 290us/sample - loss: 0.1861 - accuracy: 0.9500 - val_loss: 0.2020 - val_accuracy: 0.9483\n",
      "Epoch 10/20\n",
      "200/200 [==============================] - 0s 334us/sample - loss: 0.1697 - accuracy: 0.9550 - val_loss: 0.1888 - val_accuracy: 0.9533\n",
      "Epoch 11/20\n",
      "200/200 [==============================] - 0s 309us/sample - loss: 0.1562 - accuracy: 0.9650 - val_loss: 0.1774 - val_accuracy: 0.9554\n",
      "Epoch 12/20\n",
      "200/200 [==============================] - 0s 327us/sample - loss: 0.1445 - accuracy: 0.9800 - val_loss: 0.1675 - val_accuracy: 0.9584\n",
      "Epoch 13/20\n",
      "200/200 [==============================] - 0s 316us/sample - loss: 0.1342 - accuracy: 0.9850 - val_loss: 0.1592 - val_accuracy: 0.9615\n",
      "Epoch 14/20\n",
      "200/200 [==============================] - 0s 305us/sample - loss: 0.1256 - accuracy: 0.9850 - val_loss: 0.1517 - val_accuracy: 0.9635\n",
      "Epoch 15/20\n",
      "200/200 [==============================] - 0s 308us/sample - loss: 0.1177 - accuracy: 0.9850 - val_loss: 0.1447 - val_accuracy: 0.9665\n",
      "Epoch 16/20\n",
      "200/200 [==============================] - 0s 308us/sample - loss: 0.1106 - accuracy: 0.9850 - val_loss: 0.1387 - val_accuracy: 0.9686\n",
      "Epoch 17/20\n",
      "200/200 [==============================] - 0s 300us/sample - loss: 0.1039 - accuracy: 0.9850 - val_loss: 0.1335 - val_accuracy: 0.9706\n",
      "Epoch 18/20\n",
      "200/200 [==============================] - 0s 334us/sample - loss: 0.0986 - accuracy: 0.9850 - val_loss: 0.1281 - val_accuracy: 0.9716\n",
      "Epoch 19/20\n",
      "200/200 [==============================] - 0s 335us/sample - loss: 0.0933 - accuracy: 0.9900 - val_loss: 0.1237 - val_accuracy: 0.9746\n",
      "Epoch 20/20\n",
      "200/200 [==============================] - 0s 324us/sample - loss: 0.0886 - accuracy: 0.9900 - val_loss: 0.1201 - val_accuracy: 0.9757\n"
     ]
    }
   ],
   "source": [
    "history = model_B.fit(X_train_B, y_train_B, epochs=20,\n",
    "                      validation_data=(X_valid_B, y_valid_B))"
   ]
  },
  {
   "cell_type": "code",
   "execution_count": 25,
   "id": "listed-confidence",
   "metadata": {},
   "outputs": [
    {
     "name": "stdout",
     "output_type": "stream",
     "text": [
      "Model: \"sequential_5\"\n",
      "_________________________________________________________________\n",
      "Layer (type)                 Output Shape              Param #   \n",
      "=================================================================\n",
      "flatten_5 (Flatten)          (None, 784)               0         \n",
      "_________________________________________________________________\n",
      "dense_18 (Dense)             (None, 300)               235500    \n",
      "_________________________________________________________________\n",
      "dense_19 (Dense)             (None, 100)               30100     \n",
      "_________________________________________________________________\n",
      "dense_20 (Dense)             (None, 50)                5050      \n",
      "_________________________________________________________________\n",
      "dense_21 (Dense)             (None, 50)                2550      \n",
      "_________________________________________________________________\n",
      "dense_22 (Dense)             (None, 50)                2550      \n",
      "_________________________________________________________________\n",
      "dense_23 (Dense)             (None, 1)                 51        \n",
      "=================================================================\n",
      "Total params: 275,801\n",
      "Trainable params: 275,801\n",
      "Non-trainable params: 0\n",
      "_________________________________________________________________\n"
     ]
    }
   ],
   "source": [
    "model_B.summary()"
   ]
  },
  {
   "cell_type": "code",
   "execution_count": 26,
   "id": "nominated-short",
   "metadata": {},
   "outputs": [],
   "source": [
    "\n",
    "model_B_on_A = keras.models.Sequential(model_A.layers[:-1])\n",
    "model_B_on_A.add(keras.layers.Dense(1, activation=\"sigmoid\"))"
   ]
  },
  {
   "cell_type": "code",
   "execution_count": 27,
   "id": "stretch-registration",
   "metadata": {},
   "outputs": [],
   "source": [
    "model_A_clone = keras.models.clone_model(model_A)\n",
    "model_A_clone.set_weights(model_A.get_weights())"
   ]
  },
  {
   "cell_type": "code",
   "execution_count": 28,
   "id": "knowing-turkey",
   "metadata": {},
   "outputs": [],
   "source": [
    "for layer in model_B_on_A.layers[:-1]:\n",
    "    layer.trainable = False\n",
    "\n",
    "model_B_on_A.compile(loss=\"binary_crossentropy\",\n",
    "                     optimizer=keras.optimizers.SGD(lr=1e-3),\n",
    "                     metrics=[\"accuracy\"])"
   ]
  },
  {
   "cell_type": "code",
   "execution_count": 29,
   "id": "renewable-artwork",
   "metadata": {},
   "outputs": [
    {
     "name": "stdout",
     "output_type": "stream",
     "text": [
      "Train on 200 samples, validate on 986 samples\n",
      "Epoch 1/4\n",
      "200/200 [==============================] - 0s 2ms/sample - loss: 1.5465 - accuracy: 0.0800 - val_loss: 1.4147 - val_accuracy: 0.1704\n",
      "Epoch 2/4\n",
      "200/200 [==============================] - 0s 252us/sample - loss: 1.4117 - accuracy: 0.1500 - val_loss: 1.2941 - val_accuracy: 0.2191\n",
      "Epoch 3/4\n",
      "200/200 [==============================] - 0s 256us/sample - loss: 1.2882 - accuracy: 0.1950 - val_loss: 1.1860 - val_accuracy: 0.2738\n",
      "Epoch 4/4\n",
      "200/200 [==============================] - 0s 266us/sample - loss: 1.1775 - accuracy: 0.2650 - val_loss: 1.0875 - val_accuracy: 0.3357\n",
      "Train on 200 samples, validate on 986 samples\n",
      "Epoch 1/16\n",
      "200/200 [==============================] - 0s 2ms/sample - loss: 0.8949 - accuracy: 0.4350 - val_loss: 0.6352 - val_accuracy: 0.6268\n",
      "Epoch 2/16\n",
      "200/200 [==============================] - 0s 298us/sample - loss: 0.5499 - accuracy: 0.7200 - val_loss: 0.4443 - val_accuracy: 0.8408\n",
      "Epoch 3/16\n",
      "200/200 [==============================] - 0s 311us/sample - loss: 0.3921 - accuracy: 0.8850 - val_loss: 0.3439 - val_accuracy: 0.9128\n",
      "Epoch 4/16\n",
      "200/200 [==============================] - 0s 320us/sample - loss: 0.3048 - accuracy: 0.9500 - val_loss: 0.2811 - val_accuracy: 0.9473\n",
      "Epoch 5/16\n",
      "200/200 [==============================] - 0s 339us/sample - loss: 0.2497 - accuracy: 0.9550 - val_loss: 0.2379 - val_accuracy: 0.9604\n",
      "Epoch 6/16\n",
      "200/200 [==============================] - 0s 352us/sample - loss: 0.2118 - accuracy: 0.9600 - val_loss: 0.2101 - val_accuracy: 0.9706\n",
      "Epoch 7/16\n",
      "200/200 [==============================] - 0s 315us/sample - loss: 0.1866 - accuracy: 0.9650 - val_loss: 0.1868 - val_accuracy: 0.9767\n",
      "Epoch 8/16\n",
      "200/200 [==============================] - 0s 298us/sample - loss: 0.1658 - accuracy: 0.9700 - val_loss: 0.1687 - val_accuracy: 0.9807\n",
      "Epoch 9/16\n",
      "200/200 [==============================] - 0s 303us/sample - loss: 0.1499 - accuracy: 0.9800 - val_loss: 0.1545 - val_accuracy: 0.9828\n",
      "Epoch 10/16\n",
      "200/200 [==============================] - 0s 306us/sample - loss: 0.1367 - accuracy: 0.9850 - val_loss: 0.1425 - val_accuracy: 0.9828\n",
      "Epoch 11/16\n",
      "200/200 [==============================] - 0s 317us/sample - loss: 0.1257 - accuracy: 0.9850 - val_loss: 0.1315 - val_accuracy: 0.9868\n",
      "Epoch 12/16\n",
      "200/200 [==============================] - 0s 296us/sample - loss: 0.1158 - accuracy: 0.9850 - val_loss: 0.1223 - val_accuracy: 0.9868\n",
      "Epoch 13/16\n",
      "200/200 [==============================] - 0s 291us/sample - loss: 0.1075 - accuracy: 0.9850 - val_loss: 0.1147 - val_accuracy: 0.9868\n",
      "Epoch 14/16\n",
      "200/200 [==============================] - 0s 329us/sample - loss: 0.1005 - accuracy: 0.9850 - val_loss: 0.1080 - val_accuracy: 0.9888\n",
      "Epoch 15/16\n",
      "200/200 [==============================] - 0s 307us/sample - loss: 0.0944 - accuracy: 0.9900 - val_loss: 0.1021 - val_accuracy: 0.9919\n",
      "Epoch 16/16\n",
      "200/200 [==============================] - 0s 284us/sample - loss: 0.0889 - accuracy: 0.9900 - val_loss: 0.0970 - val_accuracy: 0.9919\n"
     ]
    }
   ],
   "source": [
    "history = model_B_on_A.fit(X_train_B, y_train_B, epochs=4,\n",
    "                           validation_data=(X_valid_B, y_valid_B))\n",
    "\n",
    "for layer in model_B_on_A.layers[:-1]:\n",
    "    layer.trainable = True\n",
    "\n",
    "model_B_on_A.compile(loss=\"binary_crossentropy\",\n",
    "                     optimizer=keras.optimizers.SGD(lr=1e-3),\n",
    "                     metrics=[\"accuracy\"])\n",
    "history = model_B_on_A.fit(X_train_B, y_train_B, epochs=16,\n",
    "                           validation_data=(X_valid_B, y_valid_B))"
   ]
  },
  {
   "cell_type": "code",
   "execution_count": 30,
   "id": "stylish-technician",
   "metadata": {},
   "outputs": [
    {
     "name": "stdout",
     "output_type": "stream",
     "text": [
      "2000/2000 [==============================] - 0s 43us/sample - loss: 0.1177 - accuracy: 0.9755\n"
     ]
    },
    {
     "data": {
      "text/plain": [
       "[0.11773156529664994, 0.9755]"
      ]
     },
     "execution_count": 30,
     "metadata": {},
     "output_type": "execute_result"
    }
   ],
   "source": [
    "model_B.evaluate(X_test_B, y_test_B)"
   ]
  },
  {
   "cell_type": "code",
   "execution_count": 31,
   "id": "advised-torture",
   "metadata": {},
   "outputs": [
    {
     "name": "stdout",
     "output_type": "stream",
     "text": [
      "2000/2000 [==============================] - 0s 35us/sample - loss: 0.0991 - accuracy: 0.9880\n"
     ]
    },
    {
     "data": {
      "text/plain": [
       "[0.09911867654323578, 0.988]"
      ]
     },
     "execution_count": 31,
     "metadata": {},
     "output_type": "execute_result"
    }
   ],
   "source": [
    "model_B_on_A.evaluate(X_test_B, y_test_B)"
   ]
  },
  {
   "cell_type": "code",
   "execution_count": 32,
   "id": "israeli-utility",
   "metadata": {},
   "outputs": [],
   "source": [
    "optimizer = keras.optimizers.SGD(lr=0.01, decay=1e-4)"
   ]
  },
  {
   "cell_type": "code",
   "execution_count": 33,
   "id": "affiliated-capitol",
   "metadata": {},
   "outputs": [],
   "source": [
    "model = keras.models.Sequential([\n",
    "    keras.layers.Flatten(input_shape=[28, 28]),\n",
    "    keras.layers.Dense(300, activation=\"selu\", kernel_initializer=\"lecun_normal\"),\n",
    "    keras.layers.Dense(100, activation=\"selu\", kernel_initializer=\"lecun_normal\"),\n",
    "    keras.layers.Dense(10, activation=\"softmax\")\n",
    "])\n",
    "model.compile(loss=\"sparse_categorical_crossentropy\", optimizer=optimizer, metrics=[\"accuracy\"])"
   ]
  },
  {
   "cell_type": "code",
   "execution_count": 34,
   "id": "contemporary-device",
   "metadata": {},
   "outputs": [],
   "source": [
    "pixel_means = X_train.mean(axis=0, keepdims=True)\n",
    "pixel_stds = X_train.std(axis=0, keepdims=True)\n",
    "X_train_scaled = (X_train - pixel_means) / pixel_stds\n",
    "X_valid_scaled = (X_valid - pixel_means) / pixel_stds\n",
    "X_test_scaled = (X_test - pixel_means) / pixel_stds"
   ]
  },
  {
   "cell_type": "code",
   "execution_count": 35,
   "id": "portable-ebony",
   "metadata": {},
   "outputs": [
    {
     "name": "stdout",
     "output_type": "stream",
     "text": [
      "Train on 55000 samples, validate on 5000 samples\n",
      "Epoch 1/25\n",
      "55000/55000 [==============================] - 4s 67us/sample - loss: 0.4879 - accuracy: 0.8276 - val_loss: 0.4031 - val_accuracy: 0.8622\n",
      "Epoch 2/25\n",
      "55000/55000 [==============================] - 4s 64us/sample - loss: 0.3821 - accuracy: 0.8648 - val_loss: 0.3759 - val_accuracy: 0.8704\n",
      "Epoch 3/25\n",
      "55000/55000 [==============================] - 4s 65us/sample - loss: 0.3491 - accuracy: 0.8761 - val_loss: 0.3606 - val_accuracy: 0.8772\n",
      "Epoch 4/25\n",
      "55000/55000 [==============================] - 3s 59us/sample - loss: 0.3269 - accuracy: 0.8831 - val_loss: 0.3540 - val_accuracy: 0.8770\n",
      "Epoch 5/25\n",
      "55000/55000 [==============================] - 3s 63us/sample - loss: 0.3109 - accuracy: 0.8887 - val_loss: 0.3489 - val_accuracy: 0.8794\n",
      "Epoch 6/25\n",
      "55000/55000 [==============================] - 4s 66us/sample - loss: 0.2982 - accuracy: 0.8931 - val_loss: 0.3418 - val_accuracy: 0.8824\n",
      "Epoch 7/25\n",
      "55000/55000 [==============================] - 4s 66us/sample - loss: 0.2872 - accuracy: 0.8985 - val_loss: 0.3343 - val_accuracy: 0.8848\n",
      "Epoch 8/25\n",
      "55000/55000 [==============================] - 3s 61us/sample - loss: 0.2777 - accuracy: 0.9013 - val_loss: 0.3396 - val_accuracy: 0.8820\n",
      "Epoch 9/25\n",
      "55000/55000 [==============================] - 3s 62us/sample - loss: 0.2704 - accuracy: 0.9034 - val_loss: 0.3301 - val_accuracy: 0.8812\n",
      "Epoch 10/25\n",
      "55000/55000 [==============================] - 3s 61us/sample - loss: 0.2631 - accuracy: 0.9061 - val_loss: 0.3266 - val_accuracy: 0.8846\n",
      "Epoch 11/25\n",
      "55000/55000 [==============================] - 3s 61us/sample - loss: 0.2561 - accuracy: 0.9093 - val_loss: 0.3247 - val_accuracy: 0.8888\n",
      "Epoch 12/25\n",
      "55000/55000 [==============================] - 3s 60us/sample - loss: 0.2507 - accuracy: 0.9112 - val_loss: 0.3236 - val_accuracy: 0.8870\n",
      "Epoch 13/25\n",
      "55000/55000 [==============================] - 3s 60us/sample - loss: 0.2456 - accuracy: 0.9119 - val_loss: 0.3221 - val_accuracy: 0.8922\n",
      "Epoch 14/25\n",
      "55000/55000 [==============================] - 3s 60us/sample - loss: 0.2407 - accuracy: 0.9153 - val_loss: 0.3227 - val_accuracy: 0.8884\n",
      "Epoch 15/25\n",
      "55000/55000 [==============================] - 3s 60us/sample - loss: 0.2362 - accuracy: 0.9162 - val_loss: 0.3208 - val_accuracy: 0.8924\n",
      "Epoch 16/25\n",
      "55000/55000 [==============================] - 4s 64us/sample - loss: 0.2319 - accuracy: 0.9183 - val_loss: 0.3196 - val_accuracy: 0.8884\n",
      "Epoch 17/25\n",
      "55000/55000 [==============================] - 3s 60us/sample - loss: 0.2280 - accuracy: 0.9195 - val_loss: 0.3212 - val_accuracy: 0.8904\n",
      "Epoch 18/25\n",
      "55000/55000 [==============================] - 3s 60us/sample - loss: 0.2246 - accuracy: 0.9208 - val_loss: 0.3191 - val_accuracy: 0.8914\n",
      "Epoch 19/25\n",
      "55000/55000 [==============================] - 3s 63us/sample - loss: 0.2213 - accuracy: 0.9223 - val_loss: 0.3194 - val_accuracy: 0.8884\n",
      "Epoch 20/25\n",
      "55000/55000 [==============================] - 4s 70us/sample - loss: 0.2182 - accuracy: 0.9232 - val_loss: 0.3163 - val_accuracy: 0.8926\n",
      "Epoch 21/25\n",
      "55000/55000 [==============================] - 4s 65us/sample - loss: 0.2151 - accuracy: 0.9251 - val_loss: 0.3158 - val_accuracy: 0.8908\n",
      "Epoch 22/25\n",
      "55000/55000 [==============================] - 3s 60us/sample - loss: 0.2122 - accuracy: 0.9256 - val_loss: 0.3190 - val_accuracy: 0.8878\n",
      "Epoch 23/25\n",
      "55000/55000 [==============================] - 3s 60us/sample - loss: 0.2098 - accuracy: 0.9272 - val_loss: 0.3146 - val_accuracy: 0.8900\n",
      "Epoch 24/25\n",
      "55000/55000 [==============================] - 3s 59us/sample - loss: 0.2072 - accuracy: 0.9280 - val_loss: 0.3166 - val_accuracy: 0.8904\n",
      "Epoch 25/25\n",
      "55000/55000 [==============================] - 3s 60us/sample - loss: 0.2044 - accuracy: 0.9291 - val_loss: 0.3146 - val_accuracy: 0.8908\n"
     ]
    }
   ],
   "source": [
    "n_epochs = 25\n",
    "history = model.fit(X_train_scaled, y_train, epochs=n_epochs,\n",
    "                    validation_data=(X_valid_scaled, y_valid))"
   ]
  },
  {
   "cell_type": "code",
   "execution_count": 36,
   "id": "destroyed-point",
   "metadata": {},
   "outputs": [
    {
     "data": {
      "image/png": "[encoded data removed]",
      "text/plain": [
       "<Figure size 432x288 with 1 Axes>"
      ]
     },
     "metadata": {
      "needs_background": "light"
     },
     "output_type": "display_data"
    }
   ],
   "source": [
    "import math\n",
    "import matplotlib.pyplot as plt\n",
    "\n",
    "learning_rate = 0.01\n",
    "decay = 1e-4\n",
    "batch_size = 32\n",
    "n_steps_per_epoch = math.ceil(len(X_train) / batch_size)\n",
    "epochs = np.arange(n_epochs)\n",
    "lrs = learning_rate / (1 + decay * epochs * n_steps_per_epoch)\n",
    "\n",
    "plt.plot(epochs, lrs,  \"o-\")\n",
    "plt.axis([0, n_epochs - 1, 0, 0.01])\n",
    "plt.xlabel(\"Epoch\")\n",
    "plt.ylabel(\"Learning Rate\")\n",
    "plt.title(\"Power Scheduling\", fontsize=14)\n",
    "plt.grid(True)\n",
    "plt.show()"
   ]
  },
  {
   "cell_type": "code",
   "execution_count": 37,
   "id": "young-brook",
   "metadata": {},
   "outputs": [],
   "source": [
    "def exponential_decay_fn(epoch):\n",
    "    return 0.01 * 0.1**(epoch / 20)"
   ]
  },
  {
   "cell_type": "code",
   "execution_count": 38,
   "id": "lesser-polymer",
   "metadata": {},
   "outputs": [],
   "source": [
    "model = keras.models.Sequential([\n",
    "    keras.layers.Flatten(input_shape=[28, 28]),\n",
    "    keras.layers.Dense(300, activation=\"selu\", kernel_initializer=\"lecun_normal\"),\n",
    "    keras.layers.Dense(100, activation=\"selu\", kernel_initializer=\"lecun_normal\"),\n",
    "    keras.layers.Dense(10, activation=\"softmax\")\n",
    "])\n",
    "model.compile(loss=\"sparse_categorical_crossentropy\", optimizer=\"nadam\", metrics=[\"accuracy\"])\n",
    "n_epochs = 25"
   ]
  },
  {
   "cell_type": "code",
   "execution_count": 39,
   "id": "jewish-enemy",
   "metadata": {},
   "outputs": [
    {
     "name": "stdout",
     "output_type": "stream",
     "text": [
      "Train on 55000 samples, validate on 5000 samples\n",
      "Epoch 1/25\n",
      "55000/55000 [==============================] - 7s 125us/sample - loss: 0.8470 - accuracy: 0.7612 - val_loss: 0.8080 - val_accuracy: 0.7744\n",
      "Epoch 2/25\n",
      "55000/55000 [==============================] - 6s 106us/sample - loss: 0.6677 - accuracy: 0.7976 - val_loss: 0.5938 - val_accuracy: 0.8446\n",
      "Epoch 3/25\n",
      "55000/55000 [==============================] - 6s 107us/sample - loss: 0.5983 - accuracy: 0.8173 - val_loss: 0.6092 - val_accuracy: 0.8138\n",
      "Epoch 4/25\n",
      "55000/55000 [==============================] - 6s 105us/sample - loss: 0.5140 - accuracy: 0.8376 - val_loss: 0.7359 - val_accuracy: 0.8188\n",
      "Epoch 5/25\n",
      "55000/55000 [==============================] - 6s 105us/sample - loss: 0.4892 - accuracy: 0.8467 - val_loss: 0.5401 - val_accuracy: 0.8308\n",
      "Epoch 6/25\n",
      "55000/55000 [==============================] - 6s 111us/sample - loss: 0.4494 - accuracy: 0.8564 - val_loss: 0.5037 - val_accuracy: 0.8574\n",
      "Epoch 7/25\n",
      "55000/55000 [==============================] - 6s 105us/sample - loss: 0.4129 - accuracy: 0.8667 - val_loss: 0.4733 - val_accuracy: 0.8594\n",
      "Epoch 8/25\n",
      "55000/55000 [==============================] - 6s 108us/sample - loss: 0.3729 - accuracy: 0.8759 - val_loss: 0.4727 - val_accuracy: 0.8660\n",
      "Epoch 9/25\n",
      "55000/55000 [==============================] - 6s 110us/sample - loss: 0.3408 - accuracy: 0.8871 - val_loss: 0.5221 - val_accuracy: 0.8380\n",
      "Epoch 10/25\n",
      "55000/55000 [==============================] - 6s 109us/sample - loss: 0.3306 - accuracy: 0.8901 - val_loss: 0.4822 - val_accuracy: 0.8700\n",
      "Epoch 11/25\n",
      "55000/55000 [==============================] - 7s 126us/sample - loss: 0.3005 - accuracy: 0.8997 - val_loss: 0.4555 - val_accuracy: 0.8728\n",
      "Epoch 12/25\n",
      "55000/55000 [==============================] - 7s 119us/sample - loss: 0.2795 - accuracy: 0.9031 - val_loss: 0.4472 - val_accuracy: 0.8790\n",
      "Epoch 13/25\n",
      "55000/55000 [==============================] - 6s 116us/sample - loss: 0.2626 - accuracy: 0.9098 - val_loss: 0.4256 - val_accuracy: 0.8864\n",
      "Epoch 14/25\n",
      "55000/55000 [==============================] - 6s 114us/sample - loss: 0.2411 - accuracy: 0.9170 - val_loss: 0.4503 - val_accuracy: 0.8768\n",
      "Epoch 15/25\n",
      "55000/55000 [==============================] - 6s 113us/sample - loss: 0.2300 - accuracy: 0.9215 - val_loss: 0.4636 - val_accuracy: 0.8872\n",
      "Epoch 16/25\n",
      "55000/55000 [==============================] - 6s 115us/sample - loss: 0.2094 - accuracy: 0.9282 - val_loss: 0.5605 - val_accuracy: 0.8830\n",
      "Epoch 17/25\n",
      "55000/55000 [==============================] - 6s 112us/sample - loss: 0.1956 - accuracy: 0.9329 - val_loss: 0.4869 - val_accuracy: 0.8884\n",
      "Epoch 18/25\n",
      "55000/55000 [==============================] - 6s 113us/sample - loss: 0.1803 - accuracy: 0.9382 - val_loss: 0.5222 - val_accuracy: 0.8860\n",
      "Epoch 19/25\n",
      "55000/55000 [==============================] - 6s 115us/sample - loss: 0.1723 - accuracy: 0.9412 - val_loss: 0.4837 - val_accuracy: 0.8886\n",
      "Epoch 20/25\n",
      "55000/55000 [==============================] - 6s 117us/sample - loss: 0.1573 - accuracy: 0.9461 - val_loss: 0.5092 - val_accuracy: 0.8898\n",
      "Epoch 21/25\n",
      "55000/55000 [==============================] - 6s 115us/sample - loss: 0.1471 - accuracy: 0.9503 - val_loss: 0.5427 - val_accuracy: 0.8796\n",
      "Epoch 22/25\n",
      "55000/55000 [==============================] - 6s 115us/sample - loss: 0.1351 - accuracy: 0.9549 - val_loss: 0.5257 - val_accuracy: 0.8902\n",
      "Epoch 23/25\n",
      "55000/55000 [==============================] - 6s 112us/sample - loss: 0.1275 - accuracy: 0.9571 - val_loss: 0.5521 - val_accuracy: 0.8882\n",
      "Epoch 24/25\n",
      "55000/55000 [==============================] - 6s 107us/sample - loss: 0.1201 - accuracy: 0.9598 - val_loss: 0.5615 - val_accuracy: 0.8906\n",
      "Epoch 25/25\n",
      "55000/55000 [==============================] - 6s 115us/sample - loss: 0.1114 - accuracy: 0.9632 - val_loss: 0.6032 - val_accuracy: 0.8896\n"
     ]
    }
   ],
   "source": [
    "lr_scheduler = keras.callbacks.LearningRateScheduler(exponential_decay_fn)\n",
    "history = model.fit(X_train_scaled, y_train, epochs=n_epochs,\n",
    "                    validation_data=(X_valid_scaled, y_valid),\n",
    "                    callbacks=[lr_scheduler])"
   ]
  },
  {
   "cell_type": "code",
   "execution_count": 40,
   "id": "tamil-average",
   "metadata": {},
   "outputs": [
    {
     "data": {
      "image/png": "[encoded data removed]",
      "text/plain": [
       "<Figure size 432x288 with 1 Axes>"
      ]
     },
     "metadata": {
      "needs_background": "light"
     },
     "output_type": "display_data"
    }
   ],
   "source": [
    "plt.plot(history.epoch, history.history[\"lr\"], \"o-\")\n",
    "plt.axis([0, n_epochs - 1, 0, 0.011])\n",
    "plt.xlabel(\"Epoch\")\n",
    "plt.ylabel(\"Learning Rate\")\n",
    "plt.title(\"Exponential Scheduling\", fontsize=14)\n",
    "plt.grid(True)\n",
    "plt.show()"
   ]
  },
  {
   "cell_type": "code",
   "execution_count": 41,
   "id": "prime-bargain",
   "metadata": {},
   "outputs": [],
   "source": [
    "layer = keras.layers.Dense(100, activation=\"elu\",\n",
    "                           kernel_initializer=\"he_normal\",\n",
    "                           kernel_regularizer=keras.regularizers.l2(0.01))\n",
    "# or l1(0.1) for ℓ1 regularization with a factor or 0.1\n",
    "# or l1_l2(0.1, 0.01) for both ℓ1 and ℓ2 regularization, with factors 0.1 and 0.01 respectively"
   ]
  },
  {
   "cell_type": "code",
   "execution_count": 42,
   "id": "adolescent-medication",
   "metadata": {},
   "outputs": [
    {
     "name": "stdout",
     "output_type": "stream",
     "text": [
      "Train on 55000 samples, validate on 5000 samples\n",
      "Epoch 1/2\n",
      "55000/55000 [==============================] - 7s 126us/sample - loss: 1.6041 - accuracy: 0.8105 - val_loss: 0.7208 - val_accuracy: 0.8292\n",
      "Epoch 2/2\n",
      "55000/55000 [==============================] - 6s 111us/sample - loss: 0.7190 - accuracy: 0.8274 - val_loss: 0.7078 - val_accuracy: 0.8314\n"
     ]
    }
   ],
   "source": [
    "model = keras.models.Sequential([\n",
    "    keras.layers.Flatten(input_shape=[28, 28]),\n",
    "    keras.layers.Dense(300, activation=\"elu\",\n",
    "                       kernel_initializer=\"he_normal\",\n",
    "                       kernel_regularizer=keras.regularizers.l2(0.01)),\n",
    "    keras.layers.Dense(100, activation=\"elu\",\n",
    "                       kernel_initializer=\"he_normal\",\n",
    "                       kernel_regularizer=keras.regularizers.l2(0.01)),\n",
    "    keras.layers.Dense(10, activation=\"softmax\",\n",
    "                       kernel_regularizer=keras.regularizers.l2(0.01))\n",
    "])\n",
    "model.compile(loss=\"sparse_categorical_crossentropy\", optimizer=\"nadam\", metrics=[\"accuracy\"])\n",
    "n_epochs = 2\n",
    "history = model.fit(X_train_scaled, y_train, epochs=n_epochs,\n",
    "                    validation_data=(X_valid_scaled, y_valid))"
   ]
  },
  {
   "cell_type": "code",
   "execution_count": 43,
   "id": "infrared-columbus",
   "metadata": {},
   "outputs": [
    {
     "name": "stdout",
     "output_type": "stream",
     "text": [
      "Train on 55000 samples, validate on 5000 samples\n",
      "Epoch 1/2\n",
      "55000/55000 [==============================] - 8s 142us/sample - loss: 0.5782 - accuracy: 0.8021 - val_loss: 0.3729 - val_accuracy: 0.8676\n",
      "Epoch 2/2\n",
      "55000/55000 [==============================] - 7s 128us/sample - loss: 0.4218 - accuracy: 0.8445 - val_loss: 0.3368 - val_accuracy: 0.8730\n"
     ]
    }
   ],
   "source": [
    "model = keras.models.Sequential([\n",
    "    keras.layers.Flatten(input_shape=[28, 28]),\n",
    "    keras.layers.Dropout(rate=0.2),\n",
    "    keras.layers.Dense(300, activation=\"elu\", kernel_initializer=\"he_normal\"),\n",
    "    keras.layers.Dropout(rate=0.2),\n",
    "    keras.layers.Dense(100, activation=\"elu\", kernel_initializer=\"he_normal\"),\n",
    "    keras.layers.Dropout(rate=0.2),\n",
    "    keras.layers.Dense(10, activation=\"softmax\")\n",
    "])\n",
    "model.compile(loss=\"sparse_categorical_crossentropy\", optimizer=\"nadam\", metrics=[\"accuracy\"])\n",
    "n_epochs = 2\n",
    "history = model.fit(X_train_scaled, y_train, epochs=n_epochs,\n",
    "                    validation_data=(X_valid_scaled, y_valid))"
   ]
  },
  {
   "cell_type": "code",
   "execution_count": null,
   "id": "mineral-jenny",
   "metadata": {},
   "outputs": [],
   "source": []
  }
 ],
 "metadata": {
  "kernelspec": {
   "display_name": "Python 3",
   "language": "python",
   "name": "python3"
  },
  "language_info": {
   "codemirror_mode": {
    "name": "ipython",
    "version": 3
   },
   "file_extension": ".py",
   "mimetype": "text/x-python",
   "name": "python",
   "nbconvert_exporter": "python",
   "pygments_lexer": "ipython3",
   "version": "3.7.1"
  }
 },
 "nbformat": 4,
 "nbformat_minor": 5
}
