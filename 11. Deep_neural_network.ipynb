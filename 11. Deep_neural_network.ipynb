{
 "cells": [
  {
   "cell_type": "code",
   "execution_count": 1,
   "id": "widespread-defense",
   "metadata": {},
   "outputs": [],
   "source": [
    "import tensorflow as tf\n",
    "from tensorflow import keras\n",
    "import numpy as np"
   ]
  },
  {
   "cell_type": "code",
   "execution_count": 2,
   "id": "recent-kazakhstan",
   "metadata": {},
   "outputs": [],
   "source": [
    "(X_train_full, y_train_full), (X_test, y_test) = keras.datasets.fashion_mnist.load_data()\n",
    "X_train_full = X_train_full / 255.0\n",
    "X_test = X_test / 255.0\n",
    "X_valid, X_train = X_train_full[:5000], X_train_full[5000:]\n",
    "y_valid, y_train = y_train_full[:5000], y_train_full[5000:]"
   ]
  },
  {
   "cell_type": "code",
   "execution_count": 3,
   "id": "sexual-stack",
   "metadata": {},
   "outputs": [],
   "source": [
    "model = keras.models.Sequential([\n",
    "    keras.layers.Flatten(input_shape=[28, 28]),\n",
    "    keras.layers.Dense(300, kernel_initializer=\"he_normal\"),\n",
    "    keras.layers.LeakyReLU(),\n",
    "    keras.layers.Dense(100, kernel_initializer=\"he_normal\"),\n",
    "    keras.layers.LeakyReLU(),\n",
    "    keras.layers.Dense(10, activation=\"softmax\")\n",
    "])"
   ]
  },
  {
   "cell_type": "code",
   "execution_count": 4,
   "id": "wireless-charity",
   "metadata": {},
   "outputs": [],
   "source": [
    "model.compile(loss=\"sparse_categorical_crossentropy\",\n",
    "              optimizer=keras.optimizers.SGD(lr=1e-3),\n",
    "              metrics=[\"accuracy\"])"
   ]
  },
  {
   "cell_type": "code",
   "execution_count": 5,
   "id": "painful-network",
   "metadata": {},
   "outputs": [
    {
     "name": "stdout",
     "output_type": "stream",
     "text": [
      "Train on 55000 samples, validate on 5000 samples\n",
      "Epoch 1/10\n",
      "55000/55000 [==============================] - 4s 66us/sample - loss: 1.3176 - accuracy: 0.5899 - val_loss: 0.8969 - val_accuracy: 0.7066\n",
      "Epoch 2/10\n",
      "55000/55000 [==============================] - 3s 61us/sample - loss: 0.8075 - accuracy: 0.7303 - val_loss: 0.7176 - val_accuracy: 0.7676\n",
      "Epoch 3/10\n",
      "55000/55000 [==============================] - 3s 52us/sample - loss: 0.6861 - accuracy: 0.7751 - val_loss: 0.6348 - val_accuracy: 0.7966\n",
      "Epoch 4/10\n",
      "55000/55000 [==============================] - 3s 50us/sample - loss: 0.6231 - accuracy: 0.7959 - val_loss: 0.5868 - val_accuracy: 0.8112\n",
      "Epoch 5/10\n",
      "55000/55000 [==============================] - 4s 64us/sample - loss: 0.5832 - accuracy: 0.8075 - val_loss: 0.5550 - val_accuracy: 0.8174\n",
      "Epoch 6/10\n",
      "55000/55000 [==============================] - 3s 54us/sample - loss: 0.5552 - accuracy: 0.8148 - val_loss: 0.5312 - val_accuracy: 0.8258\n",
      "Epoch 7/10\n",
      "55000/55000 [==============================] - 3s 51us/sample - loss: 0.5343 - accuracy: 0.8206 - val_loss: 0.5155 - val_accuracy: 0.8296\n",
      "Epoch 8/10\n",
      "55000/55000 [==============================] - 3s 53us/sample - loss: 0.5179 - accuracy: 0.8243 - val_loss: 0.4997 - val_accuracy: 0.8366\n",
      "Epoch 9/10\n",
      "55000/55000 [==============================] - 3s 56us/sample - loss: 0.5046 - accuracy: 0.8275 - val_loss: 0.4906 - val_accuracy: 0.8404\n",
      "Epoch 10/10\n",
      "55000/55000 [==============================] - 3s 62us/sample - loss: 0.4934 - accuracy: 0.8301 - val_loss: 0.4791 - val_accuracy: 0.8416\n"
     ]
    }
   ],
   "source": [
    "history = model.fit(X_train, y_train, epochs=10,\n",
    "                    validation_data=(X_valid, y_valid))"
   ]
  },
  {
   "cell_type": "code",
   "execution_count": 6,
   "id": "excellent-voltage",
   "metadata": {},
   "outputs": [],
   "source": [
    "model = keras.models.Sequential([\n",
    "    keras.layers.Flatten(input_shape=[28, 28]),\n",
    "    keras.layers.Dense(300, kernel_initializer=\"he_normal\"),\n",
    "    keras.layers.PReLU(),\n",
    "    keras.layers.Dense(100, kernel_initializer=\"he_normal\"),\n",
    "    keras.layers.PReLU(),\n",
    "    keras.layers.Dense(10, activation=\"softmax\")\n",
    "])"
   ]
  },
  {
   "cell_type": "code",
   "execution_count": 7,
   "id": "comfortable-egyptian",
   "metadata": {},
   "outputs": [],
   "source": [
    "model.compile(loss=\"sparse_categorical_crossentropy\",\n",
    "              optimizer=keras.optimizers.SGD(lr=1e-3),\n",
    "              metrics=[\"accuracy\"])"
   ]
  },
  {
   "cell_type": "code",
   "execution_count": 8,
   "id": "defined-latin",
   "metadata": {},
   "outputs": [
    {
     "name": "stdout",
     "output_type": "stream",
     "text": [
      "Train on 55000 samples, validate on 5000 samples\n",
      "Epoch 1/10\n",
      "55000/55000 [==============================] - 3s 62us/sample - loss: 1.3752 - accuracy: 0.5899 - val_loss: 0.9197 - val_accuracy: 0.7090\n",
      "Epoch 2/10\n",
      "55000/55000 [==============================] - 3s 56us/sample - loss: 0.8212 - accuracy: 0.7353 - val_loss: 0.7269 - val_accuracy: 0.7658\n",
      "Epoch 3/10\n",
      "55000/55000 [==============================] - 3s 57us/sample - loss: 0.6971 - accuracy: 0.7734 - val_loss: 0.6466 - val_accuracy: 0.7906\n",
      "Epoch 4/10\n",
      "55000/55000 [==============================] - 3s 57us/sample - loss: 0.6330 - accuracy: 0.7928 - val_loss: 0.5964 - val_accuracy: 0.8104\n",
      "Epoch 5/10\n",
      "55000/55000 [==============================] - 3s 56us/sample - loss: 0.5917 - accuracy: 0.8042 - val_loss: 0.5635 - val_accuracy: 0.8216\n",
      "Epoch 6/10\n",
      "55000/55000 [==============================] - 3s 56us/sample - loss: 0.5626 - accuracy: 0.8120 - val_loss: 0.5379 - val_accuracy: 0.8252\n",
      "Epoch 7/10\n",
      "55000/55000 [==============================] - 3s 57us/sample - loss: 0.5405 - accuracy: 0.8183 - val_loss: 0.5187 - val_accuracy: 0.8274\n",
      "Epoch 8/10\n",
      "55000/55000 [==============================] - 3s 57us/sample - loss: 0.5232 - accuracy: 0.8218 - val_loss: 0.5035 - val_accuracy: 0.8370\n",
      "Epoch 9/10\n",
      "55000/55000 [==============================] - 3s 57us/sample - loss: 0.5094 - accuracy: 0.8265 - val_loss: 0.4910 - val_accuracy: 0.8362\n",
      "Epoch 10/10\n",
      "55000/55000 [==============================] - 3s 58us/sample - loss: 0.4973 - accuracy: 0.8298 - val_loss: 0.4834 - val_accuracy: 0.8396\n"
     ]
    }
   ],
   "source": [
    "history = model.fit(X_train, y_train, epochs=10,\n",
    "                    validation_data=(X_valid, y_valid))"
   ]
  },
  {
   "cell_type": "code",
   "execution_count": 9,
   "id": "formal-devil",
   "metadata": {},
   "outputs": [],
   "source": [
    "model = keras.models.Sequential([\n",
    "    keras.layers.Flatten(input_shape=[28, 28]),\n",
    "    keras.layers.BatchNormalization(),\n",
    "    keras.layers.Dense(300, activation=\"relu\"),\n",
    "    keras.layers.BatchNormalization(),\n",
    "    keras.layers.Dense(100, activation=\"relu\"),\n",
    "    keras.layers.BatchNormalization(),\n",
    "    keras.layers.Dense(10, activation=\"softmax\")\n",
    "])"
   ]
  },
  {
   "cell_type": "code",
   "execution_count": 10,
   "id": "entire-dylan",
   "metadata": {},
   "outputs": [
    {
     "name": "stdout",
     "output_type": "stream",
     "text": [
      "Model: \"sequential_2\"\n",
      "_________________________________________________________________\n",
      "Layer (type)                 Output Shape              Param #   \n",
      "=================================================================\n",
      "flatten_2 (Flatten)          (None, 784)               0         \n",
      "_________________________________________________________________\n",
      "batch_normalization (BatchNo (None, 784)               3136      \n",
      "_________________________________________________________________\n",
      "dense_6 (Dense)              (None, 300)               235500    \n",
      "_________________________________________________________________\n",
      "batch_normalization_1 (Batch (None, 300)               1200      \n",
      "_________________________________________________________________\n",
      "dense_7 (Dense)              (None, 100)               30100     \n",
      "_________________________________________________________________\n",
      "batch_normalization_2 (Batch (None, 100)               400       \n",
      "_________________________________________________________________\n",
      "dense_8 (Dense)              (None, 10)                1010      \n",
      "=================================================================\n",
      "Total params: 271,346\n",
      "Trainable params: 268,978\n",
      "Non-trainable params: 2,368\n",
      "_________________________________________________________________\n"
     ]
    }
   ],
   "source": [
    "model.summary()"
   ]
  },
  {
   "cell_type": "code",
   "execution_count": 11,
   "id": "cooked-princeton",
   "metadata": {},
   "outputs": [
    {
     "data": {
      "text/plain": [
       "[('batch_normalization/gamma:0', True),\n",
       " ('batch_normalization/beta:0', True),\n",
       " ('batch_normalization/moving_mean:0', False),\n",
       " ('batch_normalization/moving_variance:0', False)]"
      ]
     },
     "execution_count": 11,
     "metadata": {},
     "output_type": "execute_result"
    }
   ],
   "source": [
    "bn1 = model.layers[1]\n",
    "[(var.name, var.trainable) for var in bn1.variables]"
   ]
  },
  {
   "cell_type": "code",
   "execution_count": 12,
   "id": "electric-providence",
   "metadata": {},
   "outputs": [],
   "source": [
    "model.compile(loss=\"sparse_categorical_crossentropy\",\n",
    "              optimizer=keras.optimizers.SGD(lr=1e-3),\n",
    "              metrics=[\"accuracy\"])"
   ]
  },
  {
   "cell_type": "code",
   "execution_count": 13,
   "id": "lucky-polish",
   "metadata": {},
   "outputs": [
    {
     "name": "stdout",
     "output_type": "stream",
     "text": [
      "Train on 55000 samples, validate on 5000 samples\n",
      "Epoch 1/10\n",
      "55000/55000 [==============================] - 5s 99us/sample - loss: 0.8588 - accuracy: 0.7143 - val_loss: 0.5453 - val_accuracy: 0.8168\n",
      "Epoch 2/10\n",
      "55000/55000 [==============================] - 5s 90us/sample - loss: 0.5666 - accuracy: 0.8034 - val_loss: 0.4708 - val_accuracy: 0.8382\n",
      "Epoch 3/10\n",
      "55000/55000 [==============================] - 5s 88us/sample - loss: 0.5118 - accuracy: 0.8210 - val_loss: 0.4374 - val_accuracy: 0.8498\n",
      "Epoch 4/10\n",
      "55000/55000 [==============================] - 5s 90us/sample - loss: 0.4774 - accuracy: 0.8330 - val_loss: 0.4140 - val_accuracy: 0.8592\n",
      "Epoch 5/10\n",
      "55000/55000 [==============================] - 5s 88us/sample - loss: 0.4548 - accuracy: 0.8406 - val_loss: 0.3985 - val_accuracy: 0.8642\n",
      "Epoch 6/10\n",
      "55000/55000 [==============================] - 5s 89us/sample - loss: 0.4378 - accuracy: 0.8450 - val_loss: 0.3862 - val_accuracy: 0.8672\n",
      "Epoch 7/10\n",
      "55000/55000 [==============================] - 5s 88us/sample - loss: 0.4239 - accuracy: 0.8503 - val_loss: 0.3771 - val_accuracy: 0.8702\n",
      "Epoch 8/10\n",
      "55000/55000 [==============================] - 5s 90us/sample - loss: 0.4085 - accuracy: 0.8567 - val_loss: 0.3718 - val_accuracy: 0.8722\n",
      "Epoch 9/10\n",
      "55000/55000 [==============================] - 5s 89us/sample - loss: 0.4004 - accuracy: 0.8580 - val_loss: 0.3657 - val_accuracy: 0.8754\n",
      "Epoch 10/10\n",
      "55000/55000 [==============================] - 5s 95us/sample - loss: 0.3903 - accuracy: 0.8612 - val_loss: 0.3596 - val_accuracy: 0.8748\n"
     ]
    }
   ],
   "source": [
    "history = model.fit(X_train, y_train, epochs=10,\n",
    "                    validation_data=(X_valid, y_valid))"
   ]
  },
  {
   "cell_type": "code",
   "execution_count": 14,
   "id": "mighty-suite",
   "metadata": {},
   "outputs": [],
   "source": [
    "#### 활성화 함수 전에 사용하는 방법\n",
    "\n",
    "\n",
    "model = keras.models.Sequential([\n",
    "    keras.layers.Flatten(input_shape=[28, 28]),\n",
    "    keras.layers.BatchNormalization(),\n",
    "    keras.layers.Dense(300, use_bias=False),\n",
    "    keras.layers.BatchNormalization(),\n",
    "    keras.layers.Activation(\"relu\"),\n",
    "    keras.layers.Dense(100, use_bias=False),\n",
    "    keras.layers.BatchNormalization(),\n",
    "    keras.layers.Activation(\"relu\"),\n",
    "    keras.layers.Dense(10, activation=\"softmax\")\n",
    "])"
   ]
  },
  {
   "cell_type": "code",
   "execution_count": 15,
   "id": "developing-racing",
   "metadata": {},
   "outputs": [],
   "source": [
    "model.compile(loss=\"sparse_categorical_crossentropy\",\n",
    "              optimizer=keras.optimizers.SGD(lr=1e-3),\n",
    "              metrics=[\"accuracy\"])"
   ]
  },
  {
   "cell_type": "code",
   "execution_count": 16,
   "id": "integral-complexity",
   "metadata": {},
   "outputs": [
    {
     "name": "stdout",
     "output_type": "stream",
     "text": [
      "Train on 55000 samples, validate on 5000 samples\n",
      "Epoch 1/10\n",
      "55000/55000 [==============================] - 6s 105us/sample - loss: 1.0442 - accuracy: 0.6758 - val_loss: 0.6767 - val_accuracy: 0.7878\n",
      "Epoch 2/10\n",
      "55000/55000 [==============================] - 5s 90us/sample - loss: 0.6824 - accuracy: 0.7834 - val_loss: 0.5578 - val_accuracy: 0.8150\n",
      "Epoch 3/10\n",
      "55000/55000 [==============================] - 5s 90us/sample - loss: 0.5923 - accuracy: 0.8065 - val_loss: 0.5013 - val_accuracy: 0.8320\n",
      "Epoch 4/10\n",
      "55000/55000 [==============================] - 5s 93us/sample - loss: 0.5443 - accuracy: 0.8181 - val_loss: 0.4682 - val_accuracy: 0.8442\n",
      "Epoch 5/10\n",
      "55000/55000 [==============================] - 5s 90us/sample - loss: 0.5100 - accuracy: 0.8275 - val_loss: 0.4460 - val_accuracy: 0.8506\n",
      "Epoch 6/10\n",
      "55000/55000 [==============================] - 5s 89us/sample - loss: 0.4887 - accuracy: 0.8336 - val_loss: 0.4266 - val_accuracy: 0.8580\n",
      "Epoch 7/10\n",
      "55000/55000 [==============================] - 5s 89us/sample - loss: 0.4726 - accuracy: 0.8365 - val_loss: 0.4138 - val_accuracy: 0.8610\n",
      "Epoch 8/10\n",
      "55000/55000 [==============================] - 5s 89us/sample - loss: 0.4565 - accuracy: 0.8417 - val_loss: 0.4045 - val_accuracy: 0.8608\n",
      "Epoch 9/10\n",
      "55000/55000 [==============================] - ETA: 0s - loss: 0.4441 - accuracy: 0.84 - 5s 89us/sample - loss: 0.4441 - accuracy: 0.8462 - val_loss: 0.3960 - val_accuracy: 0.8648\n",
      "Epoch 10/10\n",
      "55000/55000 [==============================] - 5s 89us/sample - loss: 0.4325 - accuracy: 0.8509 - val_loss: 0.3881 - val_accuracy: 0.8676\n"
     ]
    }
   ],
   "source": [
    "history = model.fit(X_train, y_train, epochs=10,\n",
    "                    validation_data=(X_valid, y_valid))"
   ]
  },
  {
   "cell_type": "code",
   "execution_count": 17,
   "id": "designing-grain",
   "metadata": {},
   "outputs": [],
   "source": [
    "def split_dataset(X, y):\n",
    "    y_5_or_6 = (y == 5) | (y == 6) # sandals or shirts\n",
    "    y_A = y[~y_5_or_6]\n",
    "    y_A[y_A > 6] -= 2 # class indices 7, 8, 9 should be moved to 5, 6, 7\n",
    "    y_B = (y[y_5_or_6] == 6).astype(np.float32) # binary classification task: is it a shirt (class 6)?\n",
    "    return ((X[~y_5_or_6], y_A),\n",
    "            (X[y_5_or_6], y_B))\n",
    "\n",
    "(X_train_A, y_train_A), (X_train_B, y_train_B) = split_dataset(X_train, y_train)\n",
    "(X_valid_A, y_valid_A), (X_valid_B, y_valid_B) = split_dataset(X_valid, y_valid)\n",
    "(X_test_A, y_test_A), (X_test_B, y_test_B) = split_dataset(X_test, y_test)\n",
    "X_train_B = X_train_B[:200]\n",
    "y_train_B = y_train_B[:200]"
   ]
  },
  {
   "cell_type": "code",
   "execution_count": 18,
   "id": "exposed-generator",
   "metadata": {},
   "outputs": [],
   "source": [
    "model_A = keras.models.Sequential()\n",
    "model_A.add(keras.layers.Flatten(input_shape=[28, 28]))\n",
    "for n_hidden in (300, 100, 50, 50, 50):\n",
    "    model_A.add(keras.layers.Dense(n_hidden, activation=\"selu\"))\n",
    "model_A.add(keras.layers.Dense(8, activation=\"softmax\"))"
   ]
  },
  {
   "cell_type": "code",
   "execution_count": 19,
   "id": "bright-snowboard",
   "metadata": {},
   "outputs": [],
   "source": [
    "model_A.compile(loss=\"sparse_categorical_crossentropy\",\n",
    "                optimizer=keras.optimizers.SGD(lr=1e-3),\n",
    "                metrics=[\"accuracy\"])"
   ]
  },
  {
   "cell_type": "code",
   "execution_count": 20,
   "id": "accepting-roller",
   "metadata": {},
   "outputs": [
    {
     "name": "stdout",
     "output_type": "stream",
     "text": [
      "Train on 43986 samples, validate on 4014 samples\n",
      "Epoch 1/20\n",
      "43986/43986 [==============================] - 3s 66us/sample - loss: 0.5742 - accuracy: 0.8138 - val_loss: 0.3693 - val_accuracy: 0.8812\n",
      "Epoch 2/20\n",
      "43986/43986 [==============================] - 3s 60us/sample - loss: 0.3532 - accuracy: 0.8799 - val_loss: 0.3151 - val_accuracy: 0.8979\n",
      "Epoch 3/20\n",
      "43986/43986 [==============================] - 3s 59us/sample - loss: 0.3170 - accuracy: 0.8911 - val_loss: 0.2941 - val_accuracy: 0.8999\n",
      "Epoch 4/20\n",
      "43986/43986 [==============================] - 3s 58us/sample - loss: 0.2972 - accuracy: 0.8974 - val_loss: 0.2799 - val_accuracy: 0.9061\n",
      "Epoch 5/20\n",
      "43986/43986 [==============================] - 3s 60us/sample - loss: 0.2840 - accuracy: 0.9032 - val_loss: 0.2693 - val_accuracy: 0.9103\n",
      "Epoch 6/20\n",
      "43986/43986 [==============================] - 3s 58us/sample - loss: 0.2742 - accuracy: 0.9059 - val_loss: 0.2640 - val_accuracy: 0.9106\n",
      "Epoch 7/20\n",
      "43986/43986 [==============================] - 3s 59us/sample - loss: 0.2666 - accuracy: 0.9091 - val_loss: 0.2581 - val_accuracy: 0.9155\n",
      "Epoch 8/20\n",
      "43986/43986 [==============================] - 3s 59us/sample - loss: 0.2597 - accuracy: 0.9113 - val_loss: 0.2525 - val_accuracy: 0.9170\n",
      "Epoch 9/20\n",
      "43986/43986 [==============================] - 3s 62us/sample - loss: 0.2541 - accuracy: 0.9133 - val_loss: 0.2491 - val_accuracy: 0.9198\n",
      "Epoch 10/20\n",
      "43986/43986 [==============================] - ETA: 0s - loss: 0.2489 - accuracy: 0.91 - 3s 62us/sample - loss: 0.2488 - accuracy: 0.9153 - val_loss: 0.2489 - val_accuracy: 0.9173\n",
      "Epoch 11/20\n",
      "43986/43986 [==============================] - 3s 59us/sample - loss: 0.2448 - accuracy: 0.9163 - val_loss: 0.2451 - val_accuracy: 0.9178\n",
      "Epoch 12/20\n",
      "43986/43986 [==============================] - 3s 59us/sample - loss: 0.2404 - accuracy: 0.9178 - val_loss: 0.2430 - val_accuracy: 0.9193\n",
      "Epoch 13/20\n",
      "43986/43986 [==============================] - 3s 59us/sample - loss: 0.2371 - accuracy: 0.9183 - val_loss: 0.2392 - val_accuracy: 0.9180\n",
      "Epoch 14/20\n",
      "43986/43986 [==============================] - 3s 59us/sample - loss: 0.2341 - accuracy: 0.9197 - val_loss: 0.2376 - val_accuracy: 0.9213\n",
      "Epoch 15/20\n",
      "43986/43986 [==============================] - ETA: 0s - loss: 0.2306 - accuracy: 0.92 - 3s 63us/sample - loss: 0.2307 - accuracy: 0.9213 - val_loss: 0.2375 - val_accuracy: 0.9218\n",
      "Epoch 16/20\n",
      "43986/43986 [==============================] - 3s 60us/sample - loss: 0.2278 - accuracy: 0.9217 - val_loss: 0.2382 - val_accuracy: 0.9208\n",
      "Epoch 17/20\n",
      "43986/43986 [==============================] - 3s 59us/sample - loss: 0.2251 - accuracy: 0.9223 - val_loss: 0.2373 - val_accuracy: 0.9215\n",
      "Epoch 18/20\n",
      "43986/43986 [==============================] - 3s 60us/sample - loss: 0.2226 - accuracy: 0.9239 - val_loss: 0.2335 - val_accuracy: 0.9213\n",
      "Epoch 19/20\n",
      "43986/43986 [==============================] - 3s 62us/sample - loss: 0.2202 - accuracy: 0.9244 - val_loss: 0.2287 - val_accuracy: 0.9228\n",
      "Epoch 20/20\n",
      "43986/43986 [==============================] - 3s 60us/sample - loss: 0.2175 - accuracy: 0.9250 - val_loss: 0.2263 - val_accuracy: 0.9258\n"
     ]
    }
   ],
   "source": [
    "history = model_A.fit(X_train_A, y_train_A, epochs=20,\n",
    "                    validation_data=(X_valid_A, y_valid_A))"
   ]
  },
  {
   "cell_type": "code",
   "execution_count": 21,
   "id": "turkish-welcome",
   "metadata": {},
   "outputs": [],
   "source": [
    "#model_A.save(\"my_model_A.h5\")"
   ]
  },
  {
   "cell_type": "code",
   "execution_count": 22,
   "id": "eastern-major",
   "metadata": {},
   "outputs": [],
   "source": [
    "model_B = keras.models.Sequential()\n",
    "model_B.add(keras.layers.Flatten(input_shape=[28, 28]))\n",
    "for n_hidden in (300, 100, 50, 50, 50):\n",
    "    model_B.add(keras.layers.Dense(n_hidden, activation=\"selu\"))\n",
    "model_B.add(keras.layers.Dense(1, activation=\"sigmoid\"))"
   ]
  },
  {
   "cell_type": "code",
   "execution_count": 23,
   "id": "quantitative-confidence",
   "metadata": {},
   "outputs": [],
   "source": [
    "model_B.compile(loss=\"binary_crossentropy\",\n",
    "                optimizer=keras.optimizers.SGD(lr=1e-3),\n",
    "                metrics=[\"accuracy\"])"
   ]
  },
  {
   "cell_type": "code",
   "execution_count": 24,
   "id": "external-ceremony",
   "metadata": {},
   "outputs": [
    {
     "name": "stdout",
     "output_type": "stream",
     "text": [
      "Train on 200 samples, validate on 986 samples\n",
      "Epoch 1/20\n",
      "200/200 [==============================] - 0s 2ms/sample - loss: 0.6829 - accuracy: 0.6400 - val_loss: 0.5572 - val_accuracy: 0.7241\n",
      "Epoch 2/20\n",
      "200/200 [==============================] - 0s 282us/sample - loss: 0.4700 - accuracy: 0.7750 - val_loss: 0.4300 - val_accuracy: 0.8195\n",
      "Epoch 3/20\n",
      "200/200 [==============================] - 0s 267us/sample - loss: 0.3606 - accuracy: 0.8950 - val_loss: 0.3519 - val_accuracy: 0.8955\n",
      "Epoch 4/20\n",
      "200/200 [==============================] - 0s 276us/sample - loss: 0.2927 - accuracy: 0.9200 - val_loss: 0.2974 - val_accuracy: 0.9249\n",
      "Epoch 5/20\n",
      "200/200 [==============================] - 0s 275us/sample - loss: 0.2446 - accuracy: 0.9450 - val_loss: 0.2609 - val_accuracy: 0.9381\n",
      "Epoch 6/20\n",
      "200/200 [==============================] - 0s 293us/sample - loss: 0.2119 - accuracy: 0.9550 - val_loss: 0.2350 - val_accuracy: 0.9473\n",
      "Epoch 7/20\n",
      "200/200 [==============================] - 0s 291us/sample - loss: 0.1884 - accuracy: 0.9650 - val_loss: 0.2137 - val_accuracy: 0.9513\n",
      "Epoch 8/20\n",
      "200/200 [==============================] - 0s 286us/sample - loss: 0.1687 - accuracy: 0.9700 - val_loss: 0.1974 - val_accuracy: 0.9544\n",
      "Epoch 9/20\n",
      "200/200 [==============================] - 0s 293us/sample - loss: 0.1545 - accuracy: 0.9750 - val_loss: 0.1831 - val_accuracy: 0.9594\n",
      "Epoch 10/20\n",
      "200/200 [==============================] - 0s 287us/sample - loss: 0.1414 - accuracy: 0.9750 - val_loss: 0.1717 - val_accuracy: 0.9615\n",
      "Epoch 11/20\n",
      "200/200 [==============================] - 0s 298us/sample - loss: 0.1312 - accuracy: 0.9750 - val_loss: 0.1616 - val_accuracy: 0.9655\n",
      "Epoch 12/20\n",
      "200/200 [==============================] - 0s 278us/sample - loss: 0.1221 - accuracy: 0.9750 - val_loss: 0.1536 - val_accuracy: 0.9675\n",
      "Epoch 13/20\n",
      "200/200 [==============================] - 0s 296us/sample - loss: 0.1146 - accuracy: 0.9750 - val_loss: 0.1465 - val_accuracy: 0.9696\n",
      "Epoch 14/20\n",
      "200/200 [==============================] - 0s 284us/sample - loss: 0.1081 - accuracy: 0.9800 - val_loss: 0.1395 - val_accuracy: 0.9706\n",
      "Epoch 15/20\n",
      "200/200 [==============================] - 0s 301us/sample - loss: 0.1013 - accuracy: 0.9850 - val_loss: 0.1333 - val_accuracy: 0.9746\n",
      "Epoch 16/20\n",
      "200/200 [==============================] - 0s 284us/sample - loss: 0.0955 - accuracy: 0.9850 - val_loss: 0.1281 - val_accuracy: 0.9767\n",
      "Epoch 17/20\n",
      "200/200 [==============================] - 0s 281us/sample - loss: 0.0905 - accuracy: 0.9850 - val_loss: 0.1239 - val_accuracy: 0.9767\n",
      "Epoch 18/20\n",
      "200/200 [==============================] - 0s 281us/sample - loss: 0.0866 - accuracy: 0.9850 - val_loss: 0.1198 - val_accuracy: 0.9767\n",
      "Epoch 19/20\n",
      "200/200 [==============================] - 0s 298us/sample - loss: 0.0827 - accuracy: 0.9850 - val_loss: 0.1158 - val_accuracy: 0.9787\n",
      "Epoch 20/20\n",
      "200/200 [==============================] - 0s 272us/sample - loss: 0.0786 - accuracy: 0.9850 - val_loss: 0.1125 - val_accuracy: 0.9787\n"
     ]
    }
   ],
   "source": [
    "history = model_B.fit(X_train_B, y_train_B, epochs=20,\n",
    "                      validation_data=(X_valid_B, y_valid_B))"
   ]
  },
  {
   "cell_type": "code",
   "execution_count": 25,
   "id": "listed-confidence",
   "metadata": {},
   "outputs": [
    {
     "name": "stdout",
     "output_type": "stream",
     "text": [
      "Model: \"sequential_5\"\n",
      "_________________________________________________________________\n",
      "Layer (type)                 Output Shape              Param #   \n",
      "=================================================================\n",
      "flatten_5 (Flatten)          (None, 784)               0         \n",
      "_________________________________________________________________\n",
      "dense_18 (Dense)             (None, 300)               235500    \n",
      "_________________________________________________________________\n",
      "dense_19 (Dense)             (None, 100)               30100     \n",
      "_________________________________________________________________\n",
      "dense_20 (Dense)             (None, 50)                5050      \n",
      "_________________________________________________________________\n",
      "dense_21 (Dense)             (None, 50)                2550      \n",
      "_________________________________________________________________\n",
      "dense_22 (Dense)             (None, 50)                2550      \n",
      "_________________________________________________________________\n",
      "dense_23 (Dense)             (None, 1)                 51        \n",
      "=================================================================\n",
      "Total params: 275,801\n",
      "Trainable params: 275,801\n",
      "Non-trainable params: 0\n",
      "_________________________________________________________________\n"
     ]
    }
   ],
   "source": [
    "model_B.summary()"
   ]
  },
  {
   "cell_type": "code",
   "execution_count": 26,
   "id": "nominated-short",
   "metadata": {},
   "outputs": [],
   "source": [
    "\n",
    "model_B_on_A = keras.models.Sequential(model_A.layers[:-1])\n",
    "model_B_on_A.add(keras.layers.Dense(1, activation=\"sigmoid\"))"
   ]
  },
  {
   "cell_type": "code",
   "execution_count": 27,
   "id": "stretch-registration",
   "metadata": {},
   "outputs": [],
   "source": [
    "model_A_clone = keras.models.clone_model(model_A)\n",
    "model_A_clone.set_weights(model_A.get_weights())"
   ]
  },
  {
   "cell_type": "code",
   "execution_count": 28,
   "id": "knowing-turkey",
   "metadata": {},
   "outputs": [],
   "source": [
    "for layer in model_B_on_A.layers[:-1]:\n",
    "    layer.trainable = False\n",
    "\n",
    "model_B_on_A.compile(loss=\"binary_crossentropy\",\n",
    "                     optimizer=keras.optimizers.SGD(lr=1e-3),\n",
    "                     metrics=[\"accuracy\"])"
   ]
  },
  {
   "cell_type": "code",
   "execution_count": 29,
   "id": "renewable-artwork",
   "metadata": {},
   "outputs": [
    {
     "name": "stdout",
     "output_type": "stream",
     "text": [
      "Train on 200 samples, validate on 986 samples\n",
      "Epoch 1/4\n",
      "200/200 [==============================] - 0s 2ms/sample - loss: 0.6269 - accuracy: 0.6300 - val_loss: 0.6434 - val_accuracy: 0.6653\n",
      "Epoch 2/4\n",
      "200/200 [==============================] - 0s 294us/sample - loss: 0.5897 - accuracy: 0.6700 - val_loss: 0.6075 - val_accuracy: 0.6785\n",
      "Epoch 3/4\n",
      "200/200 [==============================] - 0s 275us/sample - loss: 0.5550 - accuracy: 0.6950 - val_loss: 0.5752 - val_accuracy: 0.7028\n",
      "Epoch 4/4\n",
      "200/200 [==============================] - 0s 273us/sample - loss: 0.5235 - accuracy: 0.7100 - val_loss: 0.5454 - val_accuracy: 0.7211\n",
      "Train on 200 samples, validate on 986 samples\n",
      "Epoch 1/16\n",
      "200/200 [==============================] - 0s 2ms/sample - loss: 0.3974 - accuracy: 0.8350 - val_loss: 0.3287 - val_accuracy: 0.8753\n",
      "Epoch 2/16\n",
      "200/200 [==============================] - 0s 300us/sample - loss: 0.2494 - accuracy: 0.9300 - val_loss: 0.2469 - val_accuracy: 0.9219\n",
      "Epoch 3/16\n",
      "200/200 [==============================] - 0s 269us/sample - loss: 0.1860 - accuracy: 0.9600 - val_loss: 0.2032 - val_accuracy: 0.9473\n",
      "Epoch 4/16\n",
      "200/200 [==============================] - 0s 287us/sample - loss: 0.1505 - accuracy: 0.9750 - val_loss: 0.1749 - val_accuracy: 0.9564\n",
      "Epoch 5/16\n",
      "200/200 [==============================] - 0s 296us/sample - loss: 0.1273 - accuracy: 0.9800 - val_loss: 0.1555 - val_accuracy: 0.9635\n",
      "Epoch 6/16\n",
      "200/200 [==============================] - 0s 292us/sample - loss: 0.1111 - accuracy: 0.9850 - val_loss: 0.1400 - val_accuracy: 0.9716\n",
      "Epoch 7/16\n",
      "200/200 [==============================] - 0s 305us/sample - loss: 0.0982 - accuracy: 0.9850 - val_loss: 0.1281 - val_accuracy: 0.9777\n",
      "Epoch 8/16\n",
      "200/200 [==============================] - 0s 322us/sample - loss: 0.0882 - accuracy: 0.9900 - val_loss: 0.1183 - val_accuracy: 0.9797\n",
      "Epoch 9/16\n",
      "200/200 [==============================] - 0s 313us/sample - loss: 0.0796 - accuracy: 0.9900 - val_loss: 0.1098 - val_accuracy: 0.9817\n",
      "Epoch 10/16\n",
      "200/200 [==============================] - 0s 298us/sample - loss: 0.0726 - accuracy: 0.9900 - val_loss: 0.1026 - val_accuracy: 0.9838\n",
      "Epoch 11/16\n",
      "200/200 [==============================] - 0s 294us/sample - loss: 0.0667 - accuracy: 0.9900 - val_loss: 0.0972 - val_accuracy: 0.9848\n",
      "Epoch 12/16\n",
      "200/200 [==============================] - 0s 297us/sample - loss: 0.0618 - accuracy: 0.9950 - val_loss: 0.0927 - val_accuracy: 0.9848\n",
      "Epoch 13/16\n",
      "200/200 [==============================] - 0s 286us/sample - loss: 0.0578 - accuracy: 0.9950 - val_loss: 0.0885 - val_accuracy: 0.9848\n",
      "Epoch 14/16\n",
      "200/200 [==============================] - 0s 293us/sample - loss: 0.0541 - accuracy: 0.9950 - val_loss: 0.0850 - val_accuracy: 0.9848\n",
      "Epoch 15/16\n",
      "200/200 [==============================] - 0s 283us/sample - loss: 0.0511 - accuracy: 0.9950 - val_loss: 0.0819 - val_accuracy: 0.9848\n",
      "Epoch 16/16\n",
      "200/200 [==============================] - 0s 285us/sample - loss: 0.0484 - accuracy: 0.9950 - val_loss: 0.0794 - val_accuracy: 0.9848\n"
     ]
    }
   ],
   "source": [
    "history = model_B_on_A.fit(X_train_B, y_train_B, epochs=4,\n",
    "                           validation_data=(X_valid_B, y_valid_B))\n",
    "\n",
    "for layer in model_B_on_A.layers[:-1]:\n",
    "    layer.trainable = True\n",
    "\n",
    "model_B_on_A.compile(loss=\"binary_crossentropy\",\n",
    "                     optimizer=keras.optimizers.SGD(lr=1e-3),\n",
    "                     metrics=[\"accuracy\"])\n",
    "history = model_B_on_A.fit(X_train_B, y_train_B, epochs=16,\n",
    "                           validation_data=(X_valid_B, y_valid_B))"
   ]
  },
  {
   "cell_type": "code",
   "execution_count": 30,
   "id": "stylish-technician",
   "metadata": {},
   "outputs": [
    {
     "name": "stdout",
     "output_type": "stream",
     "text": [
      "2000/2000 [==============================] - 0s 35us/sample - loss: 0.1090 - accuracy: 0.9725\n"
     ]
    },
    {
     "data": {
      "text/plain": [
       "[0.10897589540481567, 0.9725]"
      ]
     },
     "execution_count": 30,
     "metadata": {},
     "output_type": "execute_result"
    }
   ],
   "source": [
    "model_B.evaluate(X_test_B, y_test_B)"
   ]
  },
  {
   "cell_type": "code",
   "execution_count": 31,
   "id": "advised-torture",
   "metadata": {},
   "outputs": [
    {
     "name": "stdout",
     "output_type": "stream",
     "text": [
      "2000/2000 [==============================] - 0s 36us/sample - loss: 0.0627 - accuracy: 0.9900\n"
     ]
    },
    {
     "data": {
      "text/plain": [
       "[0.06273190346360207, 0.99]"
      ]
     },
     "execution_count": 31,
     "metadata": {},
     "output_type": "execute_result"
    }
   ],
   "source": [
    "model_B_on_A.evaluate(X_test_B, y_test_B)"
   ]
  },
  {
   "cell_type": "code",
   "execution_count": null,
   "id": "israeli-utility",
   "metadata": {},
   "outputs": [],
   "source": []
  }
 ],
 "metadata": {
  "kernelspec": {
   "display_name": "Python 3",
   "language": "python",
   "name": "python3"
  },
  "language_info": {
   "codemirror_mode": {
    "name": "ipython",
    "version": 3
   },
   "file_extension": ".py",
   "mimetype": "text/x-python",
   "name": "python",
   "nbconvert_exporter": "python",
   "pygments_lexer": "ipython3",
   "version": "3.7.1"
  }
 },
 "nbformat": 4,
 "nbformat_minor": 5
}
