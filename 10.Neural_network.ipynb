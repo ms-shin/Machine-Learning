{
 "cells": [
  {
   "cell_type": "code",
   "execution_count": 1,
   "id": "written-colorado",
   "metadata": {},
   "outputs": [],
   "source": [
    "from tensorflow.keras.models import Sequential\n",
    "\n",
    "model = Sequential()"
   ]
  },
  {
   "cell_type": "code",
   "execution_count": 2,
   "id": "continuing-attention",
   "metadata": {},
   "outputs": [],
   "source": [
    "from tensorflow.keras.layers import Dense\n",
    "\n",
    "model.add(Dense(units=12, activation='relu'))\n",
    "model.add(Dense(units=8, activation='relu'))\n",
    "model.add(Dense(units=1, activation='softmax'))"
   ]
  },
  {
   "cell_type": "code",
   "execution_count": 3,
   "id": "irish-territory",
   "metadata": {},
   "outputs": [],
   "source": [
    "model.compile(loss='binary_crossentropy',\n",
    "              optimizer='adam',\n",
    "              metrics=['accuracy'])"
   ]
  },
  {
   "cell_type": "code",
   "execution_count": 4,
   "id": "funky-contractor",
   "metadata": {},
   "outputs": [],
   "source": [
    "from sklearn.datasets import make_circles\n",
    "\n",
    "X, targets = make_circles(n_samples = 1000, factor=0.1)\n",
    "X_training = X[250:, :]\n",
    "X_testing = X[:250, :]\n",
    "Targets_training = targets[250:]\n",
    "Targets_testing = targets[:250]"
   ]
  },
  {
   "cell_type": "code",
   "execution_count": 5,
   "id": "legendary-peeing",
   "metadata": {},
   "outputs": [
    {
     "data": {
      "image/png": "[encoded data removed]",
      "text/plain": [
       "<Figure size 432x288 with 1 Axes>"
      ]
     },
     "metadata": {
      "needs_background": "light"
     },
     "output_type": "display_data"
    }
   ],
   "source": [
    "import matplotlib.pyplot as plt\n",
    "plt.scatter(X_training[:,0], X_training[:,1], Targets_training == 0, color='red')\n",
    "plt.scatter(X_training[:,0], X_training[:,1], Targets_training == 1, color='blue')\n",
    "\n",
    "plt.xlabel('X1')\n",
    "plt.ylabel('X2')\n",
    "plt.show()"
   ]
  },
  {
   "cell_type": "code",
   "execution_count": 6,
   "id": "contemporary-involvement",
   "metadata": {},
   "outputs": [
    {
     "name": "stdout",
     "output_type": "stream",
     "text": [
      "Train on 750 samples\n",
      "Epoch 1/30\n",
      "750/750 [==============================] - 0s 457us/sample - loss: 7.6043 - accuracy: 0.5013\n",
      "Epoch 2/30\n",
      "750/750 [==============================] - 0s 181us/sample - loss: 7.6043 - accuracy: 0.5013\n",
      "Epoch 3/30\n",
      "750/750 [==============================] - 0s 159us/sample - loss: 7.6043 - accuracy: 0.5013\n",
      "Epoch 4/30\n",
      "750/750 [==============================] - 0s 161us/sample - loss: 7.6043 - accuracy: 0.5013\n",
      "Epoch 5/30\n",
      "750/750 [==============================] - 0s 152us/sample - loss: 7.6043 - accuracy: 0.5013\n",
      "Epoch 6/30\n",
      "750/750 [==============================] - 0s 159us/sample - loss: 7.6043 - accuracy: 0.5013\n",
      "Epoch 7/30\n",
      "750/750 [==============================] - 0s 152us/sample - loss: 7.6043 - accuracy: 0.5013\n",
      "Epoch 8/30\n",
      "750/750 [==============================] - 0s 155us/sample - loss: 7.6043 - accuracy: 0.5013\n",
      "Epoch 9/30\n",
      "750/750 [==============================] - 0s 154us/sample - loss: 7.6043 - accuracy: 0.5013\n",
      "Epoch 10/30\n",
      "750/750 [==============================] - 0s 157us/sample - loss: 7.6043 - accuracy: 0.5013\n",
      "Epoch 11/30\n",
      "750/750 [==============================] - 0s 150us/sample - loss: 7.6043 - accuracy: 0.5013\n",
      "Epoch 12/30\n",
      "750/750 [==============================] - 0s 164us/sample - loss: 7.6043 - accuracy: 0.5013\n",
      "Epoch 13/30\n",
      "750/750 [==============================] - 0s 172us/sample - loss: 7.6043 - accuracy: 0.5013\n",
      "Epoch 14/30\n",
      "750/750 [==============================] - 0s 167us/sample - loss: 7.6043 - accuracy: 0.5013\n",
      "Epoch 15/30\n",
      "750/750 [==============================] - 0s 171us/sample - loss: 7.6043 - accuracy: 0.5013\n",
      "Epoch 16/30\n",
      "750/750 [==============================] - 0s 173us/sample - loss: 7.6043 - accuracy: 0.5013\n",
      "Epoch 17/30\n",
      "750/750 [==============================] - 0s 161us/sample - loss: 7.6043 - accuracy: 0.5013\n",
      "Epoch 18/30\n",
      "750/750 [==============================] - 0s 169us/sample - loss: 7.6043 - accuracy: 0.5013\n",
      "Epoch 19/30\n",
      "750/750 [==============================] - 0s 170us/sample - loss: 7.6043 - accuracy: 0.5013\n",
      "Epoch 20/30\n",
      "750/750 [==============================] - 0s 165us/sample - loss: 7.6043 - accuracy: 0.5013\n",
      "Epoch 21/30\n",
      "750/750 [==============================] - 0s 161us/sample - loss: 7.6043 - accuracy: 0.5013\n",
      "Epoch 22/30\n",
      "750/750 [==============================] - 0s 163us/sample - loss: 7.6043 - accuracy: 0.5013\n",
      "Epoch 23/30\n",
      "750/750 [==============================] - 0s 163us/sample - loss: 7.6043 - accuracy: 0.5013\n",
      "Epoch 24/30\n",
      "750/750 [==============================] - 0s 160us/sample - loss: 7.6043 - accuracy: 0.5013\n",
      "Epoch 25/30\n",
      "750/750 [==============================] - 0s 167us/sample - loss: 7.6043 - accuracy: 0.5013\n",
      "Epoch 26/30\n",
      "750/750 [==============================] - ETA: 0s - loss: 7.6124 - accuracy: 0.50 - 0s 166us/sample - loss: 7.6043 - accuracy: 0.5013\n",
      "Epoch 27/30\n",
      "750/750 [==============================] - 0s 168us/sample - loss: 7.6043 - accuracy: 0.5013\n",
      "Epoch 28/30\n",
      "750/750 [==============================] - 0s 169us/sample - loss: 7.6043 - accuracy: 0.5013\n",
      "Epoch 29/30\n",
      "750/750 [==============================] - 0s 163us/sample - loss: 7.6043 - accuracy: 0.5013\n",
      "Epoch 30/30\n",
      "750/750 [==============================] - 0s 162us/sample - loss: 7.6043 - accuracy: 0.5013\n"
     ]
    }
   ],
   "source": [
    "history = model.fit(X_training, Targets_training, epochs=30, batch_size=5)"
   ]
  },
  {
   "cell_type": "code",
   "execution_count": 7,
   "id": "fourth-correlation",
   "metadata": {},
   "outputs": [
    {
     "name": "stdout",
     "output_type": "stream",
     "text": [
      "250/250 [==============================] - 0s 239us/sample - loss: 7.6856 - accuracy: 0.4960\n",
      "[7.68561633682251, 0.496]\n"
     ]
    }
   ],
   "source": [
    "test_results = model.evaluate(X_testing, Targets_testing, verbose=1)\n",
    "print(test_results)"
   ]
  },
  {
   "cell_type": "code",
   "execution_count": 8,
   "id": "photographic-liver",
   "metadata": {},
   "outputs": [],
   "source": [
    "import tensorflow as tf\n",
    "from tensorflow import keras\n",
    "import matplotlib.pyplot as plt"
   ]
  },
  {
   "cell_type": "code",
   "execution_count": 9,
   "id": "professional-rough",
   "metadata": {},
   "outputs": [],
   "source": [
    "fashion_mnist = keras.datasets.fashion_mnist\n",
    "(X_train_full, y_train_full), (X_test, y_test) = fashion_mnist.load_data()"
   ]
  },
  {
   "cell_type": "code",
   "execution_count": 10,
   "id": "constant-pollution",
   "metadata": {},
   "outputs": [
    {
     "data": {
      "text/plain": [
       "(60000, 28, 28)"
      ]
     },
     "execution_count": 10,
     "metadata": {},
     "output_type": "execute_result"
    }
   ],
   "source": [
    "X_train_full.shape"
   ]
  },
  {
   "cell_type": "code",
   "execution_count": 11,
   "id": "clear-session",
   "metadata": {},
   "outputs": [
    {
     "data": {
      "text/plain": [
       "(60000,)"
      ]
     },
     "execution_count": 11,
     "metadata": {},
     "output_type": "execute_result"
    }
   ],
   "source": [
    "y_train_full.shape"
   ]
  },
  {
   "cell_type": "code",
   "execution_count": 12,
   "id": "ahead-tractor",
   "metadata": {},
   "outputs": [
    {
     "data": {
      "text/plain": [
       "array([9, 0, 0, ..., 3, 0, 5], dtype=uint8)"
      ]
     },
     "execution_count": 12,
     "metadata": {},
     "output_type": "execute_result"
    }
   ],
   "source": [
    "y_train_full"
   ]
  },
  {
   "cell_type": "code",
   "execution_count": 13,
   "id": "several-sleeping",
   "metadata": {},
   "outputs": [],
   "source": [
    "X_valid, X_train = X_train_full[:5000] / 255., X_train_full[5000:] / 255.\n",
    "y_valid, y_train = y_train_full[:5000], y_train_full[5000:]\n",
    "X_test = X_test / 255."
   ]
  },
  {
   "cell_type": "code",
   "execution_count": 14,
   "id": "governmental-carry",
   "metadata": {},
   "outputs": [
    {
     "data": {
      "image/png": "[encoded data removed]",
      "text/plain": [
       "<Figure size 432x288 with 1 Axes>"
      ]
     },
     "metadata": {
      "needs_background": "light"
     },
     "output_type": "display_data"
    }
   ],
   "source": [
    "plt.imshow(X_train[0], cmap=\"binary\")\n",
    "plt.axis('off')\n",
    "plt.show()"
   ]
  },
  {
   "cell_type": "code",
   "execution_count": 15,
   "id": "absolute-effort",
   "metadata": {},
   "outputs": [
    {
     "data": {
      "text/plain": [
       "array([4, 0, 7, ..., 3, 0, 5], dtype=uint8)"
      ]
     },
     "execution_count": 15,
     "metadata": {},
     "output_type": "execute_result"
    }
   ],
   "source": [
    "y_train"
   ]
  },
  {
   "cell_type": "code",
   "execution_count": 16,
   "id": "bored-reset",
   "metadata": {},
   "outputs": [],
   "source": [
    "class_names = [\"T-shirt/top\", \"Trouser\", \"Pullover\", \"Dress\", \"Coat\",\n",
    "               \"Sandal\", \"Shirt\", \"Sneaker\", \"Bag\", \"Ankle boot\"]"
   ]
  },
  {
   "cell_type": "code",
   "execution_count": 17,
   "id": "crazy-chain",
   "metadata": {},
   "outputs": [],
   "source": [
    "# 두 개의 은닉층이 있는 분류용 다층 퍼셉트론 \n",
    "model = keras.models.Sequential()\n",
    "model.add(keras.layers.Flatten(input_shape=[28, 28]))\n",
    "model.add(keras.layers.Dense(300, activation=\"relu\"))\n",
    "model.add(keras.layers.Dense(100, activation=\"relu\"))\n",
    "model.add(keras.layers.Dense(10, activation=\"softmax\"))"
   ]
  },
  {
   "cell_type": "code",
   "execution_count": 18,
   "id": "innocent-spirituality",
   "metadata": {},
   "outputs": [],
   "source": [
    "# 혹은 아래와 같이 표현할 수도 있다.\n",
    "\n",
    "model = keras.models.Sequential([\n",
    "    keras.layers.Flatten(input_shape=[28, 28]),\n",
    "    keras.layers.Dense(300, activation=\"relu\"),\n",
    "    keras.layers.Dense(100, activation=\"relu\"),\n",
    "    keras.layers.Dense(10, activation=\"softmax\")\n",
    "])"
   ]
  },
  {
   "cell_type": "code",
   "execution_count": 19,
   "id": "official-devil",
   "metadata": {},
   "outputs": [
    {
     "data": {
      "text/plain": [
       "[<tensorflow.python.keras.layers.core.Flatten at 0x21ab5cebe80>,\n",
       " <tensorflow.python.keras.layers.core.Dense at 0x21abb9e3d30>,\n",
       " <tensorflow.python.keras.layers.core.Dense at 0x21aac886b70>,\n",
       " <tensorflow.python.keras.layers.core.Dense at 0x21abb9f7be0>]"
      ]
     },
     "execution_count": 19,
     "metadata": {},
     "output_type": "execute_result"
    }
   ],
   "source": [
    "model.layers"
   ]
  },
  {
   "cell_type": "code",
   "execution_count": 20,
   "id": "sharing-export",
   "metadata": {},
   "outputs": [
    {
     "name": "stdout",
     "output_type": "stream",
     "text": [
      "Model: \"sequential_2\"\n",
      "_________________________________________________________________\n",
      "Layer (type)                 Output Shape              Param #   \n",
      "=================================================================\n",
      "flatten_1 (Flatten)          (None, 784)               0         \n",
      "_________________________________________________________________\n",
      "dense_6 (Dense)              (None, 300)               235500    \n",
      "_________________________________________________________________\n",
      "dense_7 (Dense)              (None, 100)               30100     \n",
      "_________________________________________________________________\n",
      "dense_8 (Dense)              (None, 10)                1010      \n",
      "=================================================================\n",
      "Total params: 266,610\n",
      "Trainable params: 266,610\n",
      "Non-trainable params: 0\n",
      "_________________________________________________________________\n"
     ]
    }
   ],
   "source": [
    "model.summary()"
   ]
  },
  {
   "cell_type": "code",
   "execution_count": 21,
   "id": "knowing-confusion",
   "metadata": {},
   "outputs": [
    {
     "name": "stdout",
     "output_type": "stream",
     "text": [
      "Failed to import pydot. You must install pydot and graphviz for `pydotprint` to work.\n"
     ]
    }
   ],
   "source": [
    "keras.utils.plot_model(model, \"my_fashion_mnist_model.png\", show_shapes=True)"
   ]
  },
  {
   "cell_type": "code",
   "execution_count": 22,
   "id": "verbal-pension",
   "metadata": {},
   "outputs": [
    {
     "data": {
      "text/plain": [
       "array([[ 0.07146296,  0.01100151,  0.02883052, ..., -0.0527301 ,\n",
       "        -0.00918613,  0.06356108],\n",
       "       [-0.03376814, -0.00288071, -0.06402626, ...,  0.0725659 ,\n",
       "        -0.0547841 ,  0.02675252],\n",
       "       [-0.07019319, -0.07203793, -0.02580024, ...,  0.00720804,\n",
       "         0.0727006 , -0.046088  ],\n",
       "       ...,\n",
       "       [ 0.01730656, -0.06784911,  0.02110595, ...,  0.02665871,\n",
       "         0.06151308, -0.03810609],\n",
       "       [-0.00930218, -0.01779923, -0.04046473, ..., -0.02802868,\n",
       "        -0.05858721,  0.01150858],\n",
       "       [-0.04339277, -0.00556736,  0.06916656, ..., -0.02809905,\n",
       "         0.05021138, -0.00643164]], dtype=float32)"
      ]
     },
     "execution_count": 22,
     "metadata": {},
     "output_type": "execute_result"
    }
   ],
   "source": [
    "weights, biases = model.layers[1].get_weights()\n",
    "weights"
   ]
  },
  {
   "cell_type": "code",
   "execution_count": 23,
   "id": "rapid-difficulty",
   "metadata": {},
   "outputs": [],
   "source": [
    "model.compile(loss=\"sparse_categorical_crossentropy\",\n",
    "              optimizer=\"sgd\",\n",
    "              metrics=[\"accuracy\"])"
   ]
  },
  {
   "cell_type": "code",
   "execution_count": 24,
   "id": "lasting-rebecca",
   "metadata": {},
   "outputs": [
    {
     "name": "stdout",
     "output_type": "stream",
     "text": [
      "Train on 55000 samples, validate on 5000 samples\n",
      "Epoch 1/30\n",
      "55000/55000 [==============================] - 4s 66us/sample - loss: 0.7102 - accuracy: 0.7672 - val_loss: 0.5010 - val_accuracy: 0.8328\n",
      "Epoch 2/30\n",
      "55000/55000 [==============================] - 3s 52us/sample - loss: 0.4887 - accuracy: 0.8292 - val_loss: 0.4441 - val_accuracy: 0.8530\n",
      "Epoch 3/30\n",
      "55000/55000 [==============================] - 3s 51us/sample - loss: 0.4431 - accuracy: 0.8439 - val_loss: 0.4469 - val_accuracy: 0.8492\n",
      "Epoch 4/30\n",
      "55000/55000 [==============================] - 3s 53us/sample - loss: 0.4156 - accuracy: 0.8532 - val_loss: 0.4079 - val_accuracy: 0.8598\n",
      "Epoch 5/30\n",
      "55000/55000 [==============================] - 3s 51us/sample - loss: 0.3933 - accuracy: 0.8618 - val_loss: 0.3769 - val_accuracy: 0.8704\n",
      "Epoch 6/30\n",
      "55000/55000 [==============================] - 3s 51us/sample - loss: 0.3791 - accuracy: 0.8665 - val_loss: 0.3893 - val_accuracy: 0.8670\n",
      "Epoch 7/30\n",
      "55000/55000 [==============================] - 3s 52us/sample - loss: 0.3646 - accuracy: 0.8707 - val_loss: 0.3807 - val_accuracy: 0.8704\n",
      "Epoch 8/30\n",
      "55000/55000 [==============================] - 3s 55us/sample - loss: 0.3531 - accuracy: 0.8758 - val_loss: 0.3591 - val_accuracy: 0.8752\n",
      "Epoch 9/30\n",
      "55000/55000 [==============================] - 3s 51us/sample - loss: 0.3419 - accuracy: 0.8787 - val_loss: 0.3634 - val_accuracy: 0.8742\n",
      "Epoch 10/30\n",
      "55000/55000 [==============================] - 3s 53us/sample - loss: 0.3326 - accuracy: 0.8808 - val_loss: 0.3420 - val_accuracy: 0.8788\n",
      "Epoch 11/30\n",
      "55000/55000 [==============================] - 3s 52us/sample - loss: 0.3248 - accuracy: 0.8842 - val_loss: 0.3512 - val_accuracy: 0.8704\n",
      "Epoch 12/30\n",
      "55000/55000 [==============================] - 3s 52us/sample - loss: 0.3165 - accuracy: 0.8863 - val_loss: 0.3368 - val_accuracy: 0.8808\n",
      "Epoch 13/30\n",
      "55000/55000 [==============================] - 3s 51us/sample - loss: 0.3090 - accuracy: 0.8887 - val_loss: 0.3351 - val_accuracy: 0.8834\n",
      "Epoch 14/30\n",
      "55000/55000 [==============================] - 3s 52us/sample - loss: 0.3025 - accuracy: 0.8908 - val_loss: 0.3259 - val_accuracy: 0.8808\n",
      "Epoch 15/30\n",
      "55000/55000 [==============================] - 3s 53us/sample - loss: 0.2958 - accuracy: 0.8926 - val_loss: 0.3184 - val_accuracy: 0.8864\n",
      "Epoch 16/30\n",
      "55000/55000 [==============================] - 3s 54us/sample - loss: 0.2891 - accuracy: 0.8960 - val_loss: 0.3229 - val_accuracy: 0.8850\n",
      "Epoch 17/30\n",
      "55000/55000 [==============================] - 3s 52us/sample - loss: 0.2831 - accuracy: 0.8977 - val_loss: 0.3151 - val_accuracy: 0.8878\n",
      "Epoch 18/30\n",
      "55000/55000 [==============================] - 3s 51us/sample - loss: 0.2779 - accuracy: 0.8996 - val_loss: 0.3356 - val_accuracy: 0.8800\n",
      "Epoch 19/30\n",
      "55000/55000 [==============================] - 3s 52us/sample - loss: 0.2740 - accuracy: 0.9013 - val_loss: 0.3177 - val_accuracy: 0.8886\n",
      "Epoch 20/30\n",
      "55000/55000 [==============================] - 3s 52us/sample - loss: 0.2683 - accuracy: 0.9023 - val_loss: 0.3052 - val_accuracy: 0.8890\n",
      "Epoch 21/30\n",
      "55000/55000 [==============================] - 3s 52us/sample - loss: 0.2627 - accuracy: 0.9044 - val_loss: 0.3114 - val_accuracy: 0.8918\n",
      "Epoch 22/30\n",
      "55000/55000 [==============================] - 3s 53us/sample - loss: 0.2580 - accuracy: 0.9069 - val_loss: 0.3154 - val_accuracy: 0.8874\n",
      "Epoch 23/30\n",
      "55000/55000 [==============================] - 3s 55us/sample - loss: 0.2540 - accuracy: 0.9069 - val_loss: 0.3166 - val_accuracy: 0.8886\n",
      "Epoch 24/30\n",
      "55000/55000 [==============================] - 3s 57us/sample - loss: 0.2499 - accuracy: 0.9092 - val_loss: 0.3002 - val_accuracy: 0.8920\n",
      "Epoch 25/30\n",
      "55000/55000 [==============================] - 3s 53us/sample - loss: 0.2452 - accuracy: 0.9111 - val_loss: 0.3244 - val_accuracy: 0.8808\n",
      "Epoch 26/30\n",
      "55000/55000 [==============================] - 3s 53us/sample - loss: 0.2412 - accuracy: 0.9122 - val_loss: 0.3147 - val_accuracy: 0.8862\n",
      "Epoch 27/30\n",
      "55000/55000 [==============================] - 3s 51us/sample - loss: 0.2374 - accuracy: 0.9146 - val_loss: 0.3140 - val_accuracy: 0.8858\n",
      "Epoch 28/30\n",
      "55000/55000 [==============================] - 3s 51us/sample - loss: 0.2327 - accuracy: 0.9154 - val_loss: 0.3007 - val_accuracy: 0.8902\n",
      "Epoch 29/30\n",
      "55000/55000 [==============================] - 3s 52us/sample - loss: 0.2293 - accuracy: 0.9176 - val_loss: 0.3166 - val_accuracy: 0.8840\n",
      "Epoch 30/30\n",
      "55000/55000 [==============================] - 3s 51us/sample - loss: 0.2258 - accuracy: 0.9177 - val_loss: 0.3225 - val_accuracy: 0.8904\n"
     ]
    }
   ],
   "source": [
    "# 신경망 훈련\n",
    "history = model.fit(X_train, y_train, epochs=30,\n",
    "                    validation_data=(X_valid, y_valid))"
   ]
  },
  {
   "cell_type": "code",
   "execution_count": 25,
   "id": "modern-bearing",
   "metadata": {},
   "outputs": [
    {
     "data": {
      "text/plain": [
       "{'batch_size': 32,\n",
       " 'epochs': 30,\n",
       " 'steps': 1719,\n",
       " 'samples': 55000,\n",
       " 'verbose': 0,\n",
       " 'do_validation': True,\n",
       " 'metrics': ['loss', 'accuracy', 'val_loss', 'val_accuracy']}"
      ]
     },
     "execution_count": 25,
     "metadata": {},
     "output_type": "execute_result"
    }
   ],
   "source": [
    "history.params"
   ]
  },
  {
   "cell_type": "code",
   "execution_count": 26,
   "id": "cleared-dallas",
   "metadata": {},
   "outputs": [
    {
     "data": {
      "text/plain": [
       "<tensorflow.python.keras.callbacks.History at 0x21abba92a58>"
      ]
     },
     "execution_count": 26,
     "metadata": {},
     "output_type": "execute_result"
    }
   ],
   "source": [
    "history"
   ]
  },
  {
   "cell_type": "code",
   "execution_count": 27,
   "id": "ordinary-mouth",
   "metadata": {},
   "outputs": [
    {
     "data": {
      "image/png": "[encoded data removed]",
      "text/plain": [
       "<Figure size 576x360 with 1 Axes>"
      ]
     },
     "metadata": {
      "needs_background": "light"
     },
     "output_type": "display_data"
    }
   ],
   "source": [
    "import pandas as pd\n",
    "\n",
    "pd.DataFrame(history.history).plot(figsize=(8, 5))\n",
    "plt.grid(True)\n",
    "plt.gca().set_ylim(0, 1)\n",
    "plt.show()"
   ]
  },
  {
   "cell_type": "code",
   "execution_count": 28,
   "id": "interim-astrology",
   "metadata": {},
   "outputs": [
    {
     "name": "stdout",
     "output_type": "stream",
     "text": [
      "10000/10000 [==============================] - 0s 32us/sample - loss: 0.3501 - accuracy: 0.8765\n"
     ]
    },
    {
     "data": {
      "text/plain": [
       "[0.3501100156903267, 0.8765]"
      ]
     },
     "execution_count": 28,
     "metadata": {},
     "output_type": "execute_result"
    }
   ],
   "source": [
    "model.evaluate(X_test, y_test)"
   ]
  },
  {
   "cell_type": "code",
   "execution_count": 29,
   "id": "entire-liabilities",
   "metadata": {},
   "outputs": [
    {
     "data": {
      "text/plain": [
       "array([[0.        , 0.        , 0.        , 0.        , 0.        ,\n",
       "        0.        , 0.        , 0.        , 0.00392157, 0.        ,\n",
       "        0.2627451 , 0.69411765, 0.50588235, 0.6       , 0.45882353,\n",
       "        0.50588235, 0.57254902, 0.55294118, 0.68627451, 0.        ,\n",
       "        0.        , 0.        , 0.        , 0.        , 0.        ,\n",
       "        0.        , 0.        , 0.        ],\n",
       "       [0.        , 0.        , 0.        , 0.        , 0.        ,\n",
       "        0.        , 0.        , 0.        , 0.00784314, 0.        ,\n",
       "        0.76862745, 1.        , 1.        , 1.        , 0.94509804,\n",
       "        0.98431373, 1.        , 0.96078431, 1.        , 0.29803922,\n",
       "        0.        , 0.        , 0.        , 0.        , 0.        ,\n",
       "        0.        , 0.        , 0.        ],\n",
       "       [0.        , 0.        , 0.        , 0.        , 0.        ,\n",
       "        0.        , 0.        , 0.        , 0.        , 0.        ,\n",
       "        0.95294118, 0.92941176, 0.85098039, 0.89411765, 0.90588235,\n",
       "        0.87058824, 0.85490196, 0.85882353, 1.        , 0.45490196,\n",
       "        0.        , 0.        , 0.        , 0.        , 0.        ,\n",
       "        0.        , 0.        , 0.        ],\n",
       "       [0.        , 0.        , 0.        , 0.        , 0.        ,\n",
       "        0.        , 0.        , 0.        , 0.        , 0.        ,\n",
       "        1.        , 0.92156863, 0.90588235, 0.91372549, 0.88627451,\n",
       "        0.88235294, 0.89803922, 0.87058824, 1.        , 0.56862745,\n",
       "        0.        , 0.        , 0.        , 0.        , 0.        ,\n",
       "        0.        , 0.        , 0.        ],\n",
       "       [0.        , 0.        , 0.        , 0.        , 0.        ,\n",
       "        0.        , 0.        , 0.        , 0.        , 0.09019608,\n",
       "        1.        , 0.90196078, 0.89803922, 0.91372549, 0.89803922,\n",
       "        0.88235294, 0.89019608, 0.86666667, 0.94509804, 0.65490196,\n",
       "        0.        , 0.        , 0.        , 0.        , 0.        ,\n",
       "        0.        , 0.        , 0.        ],\n",
       "       [0.        , 0.        , 0.        , 0.        , 0.        ,\n",
       "        0.        , 0.        , 0.        , 0.        , 0.2627451 ,\n",
       "        1.        , 0.88235294, 0.91764706, 0.90588235, 0.88627451,\n",
       "        0.89019608, 0.89411765, 0.87843137, 0.91764706, 0.73333333,\n",
       "        0.        , 0.        , 0.        , 0.        , 0.        ,\n",
       "        0.        , 0.        , 0.        ],\n",
       "       [0.        , 0.        , 0.        , 0.        , 0.        ,\n",
       "        0.        , 0.        , 0.        , 0.        , 0.44705882,\n",
       "        0.97647059, 0.85098039, 0.92156863, 0.93333333, 0.96078431,\n",
       "        0.89019608, 0.89019608, 0.88235294, 0.94509804, 0.69019608,\n",
       "        0.        , 0.        , 0.        , 0.        , 0.        ,\n",
       "        0.        , 0.        , 0.        ],\n",
       "       [0.        , 0.        , 0.        , 0.        , 0.        ,\n",
       "        0.        , 0.        , 0.        , 0.        , 0.65490196,\n",
       "        0.96862745, 0.89019608, 0.90588235, 0.98039216, 0.78431373,\n",
       "        0.97254902, 0.90588235, 0.87843137, 0.98431373, 0.57647059,\n",
       "        0.        , 0.        , 0.        , 0.        , 0.        ,\n",
       "        0.        , 0.        , 0.        ],\n",
       "       [0.        , 0.        , 0.        , 0.        , 0.        ,\n",
       "        0.        , 0.        , 0.        , 0.        , 0.81568627,\n",
       "        0.94901961, 0.88235294, 0.95294118, 0.88235294, 0.        ,\n",
       "        1.        , 0.91372549, 0.88627451, 1.        , 0.50588235,\n",
       "        0.        , 0.        , 0.        , 0.        , 0.        ,\n",
       "        0.        , 0.        , 0.        ],\n",
       "       [0.        , 0.        , 0.        , 0.        , 0.        ,\n",
       "        0.        , 0.        , 0.        , 0.        , 0.8745098 ,\n",
       "        0.93333333, 0.8745098 , 1.        , 0.63137255, 0.        ,\n",
       "        1.        , 0.9254902 , 0.8745098 , 1.        , 0.52941176,\n",
       "        0.        , 0.        , 0.        , 0.        , 0.        ,\n",
       "        0.        , 0.        , 0.        ],\n",
       "       [0.        , 0.        , 0.        , 0.        , 0.        ,\n",
       "        0.        , 0.        , 0.        , 0.        , 0.96078431,\n",
       "        0.92156863, 0.87058824, 1.        , 0.28235294, 0.        ,\n",
       "        0.97254902, 0.99607843, 0.85098039, 1.        , 0.56862745,\n",
       "        0.        , 0.        , 0.        , 0.        , 0.        ,\n",
       "        0.        , 0.        , 0.        ],\n",
       "       [0.        , 0.        , 0.        , 0.        , 0.        ,\n",
       "        0.        , 0.        , 0.        , 0.        , 1.        ,\n",
       "        0.91372549, 0.88627451, 1.        , 0.02745098, 0.        ,\n",
       "        0.74901961, 0.97254902, 0.8627451 , 1.        , 0.49411765,\n",
       "        0.        , 0.        , 0.        , 0.        , 0.        ,\n",
       "        0.        , 0.        , 0.        ],\n",
       "       [0.        , 0.        , 0.        , 0.        , 0.        ,\n",
       "        0.        , 0.        , 0.        , 0.        , 1.        ,\n",
       "        0.91372549, 0.90588235, 0.98431373, 0.        , 0.        ,\n",
       "        0.62352941, 0.98431373, 0.86666667, 1.        , 0.43529412,\n",
       "        0.        , 0.        , 0.        , 0.        , 0.        ,\n",
       "        0.        , 0.        , 0.        ],\n",
       "       [0.        , 0.        , 0.        , 0.        , 0.        ,\n",
       "        0.        , 0.        , 0.        , 0.        , 1.        ,\n",
       "        0.90980392, 0.9254902 , 0.84705882, 0.        , 0.        ,\n",
       "        0.51372549, 0.99215686, 0.8627451 , 1.        , 0.43529412,\n",
       "        0.        , 0.        , 0.        , 0.        , 0.        ,\n",
       "        0.        , 0.        , 0.        ],\n",
       "       [0.        , 0.        , 0.        , 0.        , 0.        ,\n",
       "        0.        , 0.        , 0.        , 0.        , 1.        ,\n",
       "        0.89411765, 0.95294118, 0.6745098 , 0.        , 0.        ,\n",
       "        0.22352941, 0.97647059, 0.87058824, 1.        , 0.43529412,\n",
       "        0.        , 0.        , 0.        , 0.        , 0.        ,\n",
       "        0.        , 0.        , 0.        ],\n",
       "       [0.        , 0.        , 0.        , 0.        , 0.        ,\n",
       "        0.        , 0.        , 0.        , 0.        , 1.        ,\n",
       "        0.90196078, 0.95686275, 0.54509804, 0.        , 0.        ,\n",
       "        0.03921569, 1.        , 0.89019608, 1.        , 0.39215686,\n",
       "        0.        , 0.        , 0.        , 0.        , 0.        ,\n",
       "        0.        , 0.        , 0.        ],\n",
       "       [0.        , 0.        , 0.        , 0.        , 0.        ,\n",
       "        0.        , 0.        , 0.        , 0.        , 0.89019608,\n",
       "        0.92941176, 0.94901961, 0.44313725, 0.        , 0.        ,\n",
       "        0.02352941, 1.        , 0.90196078, 1.        , 0.34901961,\n",
       "        0.        , 0.        , 0.        , 0.        , 0.        ,\n",
       "        0.        , 0.        , 0.        ],\n",
       "       [0.        , 0.        , 0.        , 0.        , 0.        ,\n",
       "        0.        , 0.        , 0.        , 0.        , 0.8       ,\n",
       "        0.9372549 , 0.96078431, 0.59215686, 0.        , 0.        ,\n",
       "        0.        , 1.        , 0.89019608, 1.        , 0.38823529,\n",
       "        0.        , 0.        , 0.        , 0.        , 0.        ,\n",
       "        0.        , 0.        , 0.        ],\n",
       "       [0.        , 0.        , 0.        , 0.        , 0.        ,\n",
       "        0.        , 0.        , 0.        , 0.        , 0.59215686,\n",
       "        0.96078431, 0.93333333, 0.77647059, 0.        , 0.        ,\n",
       "        0.        , 1.        , 0.91764706, 1.        , 0.36078431,\n",
       "        0.        , 0.        , 0.        , 0.        , 0.        ,\n",
       "        0.        , 0.        , 0.        ],\n",
       "       [0.        , 0.        , 0.        , 0.        , 0.        ,\n",
       "        0.        , 0.        , 0.        , 0.        , 0.34901961,\n",
       "        0.97254902, 0.91372549, 0.97254902, 0.        , 0.        ,\n",
       "        0.        , 0.98823529, 0.92941176, 1.        , 0.35294118,\n",
       "        0.        , 0.        , 0.        , 0.        , 0.        ,\n",
       "        0.        , 0.        , 0.        ],\n",
       "       [0.        , 0.        , 0.        , 0.        , 0.        ,\n",
       "        0.        , 0.        , 0.        , 0.        , 0.12156863,\n",
       "        0.94117647, 0.89803922, 0.88627451, 0.        , 0.        ,\n",
       "        0.        , 0.9372549 , 0.93333333, 1.        , 0.36078431,\n",
       "        0.        , 0.        , 0.        , 0.        , 0.        ,\n",
       "        0.        , 0.        , 0.        ],\n",
       "       [0.        , 0.        , 0.        , 0.        , 0.        ,\n",
       "        0.        , 0.        , 0.        , 0.        , 0.        ,\n",
       "        0.88627451, 0.91372549, 0.92941176, 0.13333333, 0.        ,\n",
       "        0.        , 0.91764706, 0.93333333, 1.        , 0.37254902,\n",
       "        0.        , 0.        , 0.        , 0.        , 0.        ,\n",
       "        0.        , 0.        , 0.        ],\n",
       "       [0.        , 0.        , 0.        , 0.        , 0.        ,\n",
       "        0.        , 0.        , 0.        , 0.        , 0.        ,\n",
       "        0.91372549, 0.9254902 , 0.95686275, 0.26666667, 0.        ,\n",
       "        0.        , 0.81960784, 0.94509804, 0.92941176, 0.38431373,\n",
       "        0.        , 0.        , 0.        , 0.        , 0.        ,\n",
       "        0.        , 0.        , 0.        ],\n",
       "       [0.        , 0.        , 0.        , 0.        , 0.        ,\n",
       "        0.        , 0.        , 0.        , 0.00392157, 0.        ,\n",
       "        0.59607843, 0.94901961, 0.96078431, 0.50196078, 0.        ,\n",
       "        0.        , 0.77647059, 0.94509804, 0.93333333, 0.31764706,\n",
       "        0.        , 0.        , 0.        , 0.        , 0.        ,\n",
       "        0.        , 0.        , 0.        ],\n",
       "       [0.        , 0.        , 0.        , 0.        , 0.        ,\n",
       "        0.        , 0.        , 0.        , 0.00784314, 0.        ,\n",
       "        0.28627451, 0.96470588, 0.94509804, 0.82745098, 0.        ,\n",
       "        0.        , 0.79215686, 0.94117647, 0.92941176, 0.29019608,\n",
       "        0.        , 0.        , 0.        , 0.        , 0.        ,\n",
       "        0.        , 0.        , 0.        ],\n",
       "       [0.        , 0.        , 0.        , 0.        , 0.        ,\n",
       "        0.        , 0.        , 0.        , 0.01568627, 0.        ,\n",
       "        0.        , 0.89803922, 0.9254902 , 0.81960784, 0.        ,\n",
       "        0.        , 0.61960784, 0.96862745, 0.93333333, 0.38823529,\n",
       "        0.        , 0.        , 0.        , 0.        , 0.        ,\n",
       "        0.        , 0.        , 0.        ],\n",
       "       [0.        , 0.        , 0.        , 0.        , 0.        ,\n",
       "        0.        , 0.        , 0.        , 0.00392157, 0.        ,\n",
       "        0.        , 0.78039216, 1.        , 0.96862745, 0.22745098,\n",
       "        0.        , 0.63137255, 1.        , 0.98823529, 0.46666667,\n",
       "        0.        , 0.        , 0.        , 0.        , 0.        ,\n",
       "        0.        , 0.        , 0.        ],\n",
       "       [0.        , 0.        , 0.        , 0.        , 0.        ,\n",
       "        0.        , 0.        , 0.        , 0.        , 0.        ,\n",
       "        0.        , 0.38431373, 0.62352941, 0.27843137, 0.        ,\n",
       "        0.        , 0.26666667, 0.69019608, 0.64313725, 0.22745098,\n",
       "        0.        , 0.        , 0.        , 0.        , 0.        ,\n",
       "        0.        , 0.        , 0.        ]])"
      ]
     },
     "execution_count": 29,
     "metadata": {},
     "output_type": "execute_result"
    }
   ],
   "source": [
    "X_new = X_test[:3]\n",
    "X_new[2]"
   ]
  },
  {
   "cell_type": "code",
   "execution_count": 30,
   "id": "heavy-commitment",
   "metadata": {},
   "outputs": [],
   "source": [
    "class_names = [\"T-shirt/top\", \"Trouser\", \"Pullover\", \"Dress\", \"Coat\",\n",
    "               \"Sandal\", \"Shirt\", \"Sneaker\", \"Bag\", \"Ankle boot\"]"
   ]
  },
  {
   "cell_type": "code",
   "execution_count": 31,
   "id": "severe-click",
   "metadata": {},
   "outputs": [
    {
     "data": {
      "image/png": "[encoded data removed]",
      "text/plain": [
       "<Figure size 432x288 with 1 Axes>"
      ]
     },
     "metadata": {
      "needs_background": "light"
     },
     "output_type": "display_data"
    }
   ],
   "source": [
    "plt.imshow(X_new[0], cmap=\"binary\")\n",
    "plt.axis('off')\n",
    "plt.show()"
   ]
  },
  {
   "cell_type": "code",
   "execution_count": 32,
   "id": "amateur-advice",
   "metadata": {},
   "outputs": [
    {
     "data": {
      "image/png": "[encoded data removed]",
      "text/plain": [
       "<Figure size 432x288 with 1 Axes>"
      ]
     },
     "metadata": {
      "needs_background": "light"
     },
     "output_type": "display_data"
    }
   ],
   "source": [
    "plt.imshow(X_new[1], cmap=\"binary\")\n",
    "plt.axis('off')\n",
    "plt.show()"
   ]
  },
  {
   "cell_type": "code",
   "execution_count": 33,
   "id": "headed-korean",
   "metadata": {},
   "outputs": [
    {
     "data": {
      "image/png": "[encoded data removed]",
      "text/plain": [
       "<Figure size 432x288 with 1 Axes>"
      ]
     },
     "metadata": {
      "needs_background": "light"
     },
     "output_type": "display_data"
    }
   ],
   "source": [
    "plt.imshow(X_new[2], cmap=\"binary\")\n",
    "plt.axis('off')\n",
    "plt.show()"
   ]
  },
  {
   "cell_type": "code",
   "execution_count": 34,
   "id": "proof-circulation",
   "metadata": {},
   "outputs": [
    {
     "data": {
      "text/plain": [
       "array([[0.  , 0.  , 0.  , 0.  , 0.  , 0.  , 0.  , 0.01, 0.  , 0.99],\n",
       "       [0.  , 0.  , 1.  , 0.  , 0.  , 0.  , 0.  , 0.  , 0.  , 0.  ],\n",
       "       [0.  , 1.  , 0.  , 0.  , 0.  , 0.  , 0.  , 0.  , 0.  , 0.  ]],\n",
       "      dtype=float32)"
      ]
     },
     "execution_count": 34,
     "metadata": {},
     "output_type": "execute_result"
    }
   ],
   "source": [
    "y_proba = model.predict(X_new)\n",
    "y_proba.round(2)"
   ]
  },
  {
   "cell_type": "code",
   "execution_count": 35,
   "id": "radical-contemporary",
   "metadata": {},
   "outputs": [],
   "source": [
    "import numpy as np"
   ]
  },
  {
   "cell_type": "code",
   "execution_count": 36,
   "id": "planned-liechtenstein",
   "metadata": {},
   "outputs": [
    {
     "data": {
      "text/plain": [
       "array([9, 2, 1], dtype=int64)"
      ]
     },
     "execution_count": 36,
     "metadata": {},
     "output_type": "execute_result"
    }
   ],
   "source": [
    "y_pred = np.argmax(model.predict(X_new), axis=-1)\n",
    "y_pred"
   ]
  },
  {
   "cell_type": "code",
   "execution_count": 37,
   "id": "invalid-entertainment",
   "metadata": {},
   "outputs": [
    {
     "data": {
      "text/plain": [
       "array(['Ankle boot', 'Pullover', 'Trouser'], dtype='<U11')"
      ]
     },
     "execution_count": 37,
     "metadata": {},
     "output_type": "execute_result"
    }
   ],
   "source": [
    "np.array(class_names)[y_pred]"
   ]
  },
  {
   "cell_type": "code",
   "execution_count": 38,
   "id": "enclosed-monster",
   "metadata": {},
   "outputs": [
    {
     "data": {
      "text/plain": [
       "array([9, 2, 1], dtype=int64)"
      ]
     },
     "execution_count": 38,
     "metadata": {},
     "output_type": "execute_result"
    }
   ],
   "source": [
    "y_pred"
   ]
  },
  {
   "cell_type": "code",
   "execution_count": 39,
   "id": "golden-process",
   "metadata": {},
   "outputs": [
    {
     "data": {
      "text/plain": [
       "array([9, 2, 1], dtype=uint8)"
      ]
     },
     "execution_count": 39,
     "metadata": {},
     "output_type": "execute_result"
    }
   ],
   "source": [
    "y_new = y_test[:3]\n",
    "y_new"
   ]
  },
  {
   "cell_type": "code",
   "execution_count": 40,
   "id": "temporal-marine",
   "metadata": {},
   "outputs": [
    {
     "data": {
      "image/png": "[encoded data removed]",
      "text/plain": [
       "<Figure size 518.4x172.8 with 3 Axes>"
      ]
     },
     "metadata": {
      "needs_background": "light"
     },
     "output_type": "display_data"
    }
   ],
   "source": [
    "plt.figure(figsize=(7.2, 2.4))\n",
    "for index, image in enumerate(X_new):\n",
    "    plt.subplot(1, 3, index + 1)\n",
    "    plt.imshow(image, cmap=\"binary\", interpolation=\"nearest\")\n",
    "    plt.axis('off')\n",
    "    plt.title(class_names[y_test[index]], fontsize=12)\n",
    "plt.subplots_adjust(wspace=0.2, hspace=0.5)\n",
    "plt.show()"
   ]
  },
  {
   "cell_type": "code",
   "execution_count": 41,
   "id": "going-screw",
   "metadata": {},
   "outputs": [],
   "source": [
    "mnist = keras.datasets.mnist\n",
    "\n",
    "(x_train, y_train), (x_test, y_test) = mnist.load_data()"
   ]
  },
  {
   "cell_type": "code",
   "execution_count": 42,
   "id": "vocal-climate",
   "metadata": {},
   "outputs": [
    {
     "data": {
      "image/png": "[encoded data removed]",
      "text/plain": [
       "<Figure size 1440x144 with 40 Axes>"
      ]
     },
     "metadata": {
      "needs_background": "light"
     },
     "output_type": "display_data"
    }
   ],
   "source": [
    "columns = 20\n",
    "rows = 2\n",
    "fig = plt.figure(figsize=(columns, rows))\n",
    "for i in range(1, columns * rows + 1):\n",
    "    fig.add_subplot(rows, columns, i)\n",
    "    plt.imshow(x_train[i], cmap=\"binary\")\n",
    "    plt.axis('off')\n",
    "plt.show()"
   ]
  },
  {
   "cell_type": "code",
   "execution_count": 43,
   "id": "entitled-quantity",
   "metadata": {},
   "outputs": [
    {
     "name": "stdout",
     "output_type": "stream",
     "text": [
      "0, 4, 1, 9, 2, 1, 3, 1, 4, 3, 5, 3, 6, 1, 7, 2, 8, 6, 9, 4, 0, 9, 1, 1, 2, 4, 3, 2, 7, 3, 8, 6, 9, 0, 5, 6, 0, 7, 6, 1, "
     ]
    }
   ],
   "source": [
    "for i in range(1, columns * rows + 1): print(y_train[i], end=\", \")"
   ]
  },
  {
   "cell_type": "code",
   "execution_count": 44,
   "id": "single-tattoo",
   "metadata": {},
   "outputs": [
    {
     "data": {
      "text/plain": [
       "5"
      ]
     },
     "execution_count": 44,
     "metadata": {},
     "output_type": "execute_result"
    }
   ],
   "source": [
    "y_train[0]"
   ]
  },
  {
   "cell_type": "code",
   "execution_count": 45,
   "id": "vocational-baptist",
   "metadata": {},
   "outputs": [],
   "source": [
    "x_train = x_train.reshape(60000, 784) \n",
    "x_test = x_test.reshape(10000, 784) \n",
    "x_train = x_train.astype('float32') \n",
    "x_test = x_test.astype('float32') \n",
    "x_train /= 255 \n",
    "x_test /= 255 \n",
    "\n",
    "# to_categorical은 벡터를 bianry matrix로 변환함\n",
    "y_train = keras.utils.to_categorical(y_train, 10) \n",
    "y_test = keras.utils.to_categorical(y_test, 10)"
   ]
  },
  {
   "cell_type": "code",
   "execution_count": 46,
   "id": "selective-bumper",
   "metadata": {},
   "outputs": [
    {
     "data": {
      "text/plain": [
       "array([0., 0., 0., 0., 1., 0., 0., 0., 0., 0.], dtype=float32)"
      ]
     },
     "execution_count": 46,
     "metadata": {},
     "output_type": "execute_result"
    }
   ],
   "source": [
    "y_train[2]"
   ]
  },
  {
   "cell_type": "code",
   "execution_count": 47,
   "id": "isolated-invention",
   "metadata": {},
   "outputs": [],
   "source": [
    "from tensorflow.keras.models import Sequential\n",
    "model = Sequential() \n",
    "model.add(keras.layers.Dense(512, activation = 'relu', input_shape = (784,))) \n",
    "model.add(keras.layers.Dropout(0.2)) \n",
    "model.add(keras.layers.Dense(512, activation = 'relu'))\n",
    "model.add(keras.layers.Dropout(0.2)) \n",
    "model.add(keras.layers.Dense(10, activation = 'softmax'))"
   ]
  },
  {
   "cell_type": "code",
   "execution_count": 48,
   "id": "endless-physiology",
   "metadata": {},
   "outputs": [],
   "source": [
    "model.compile(loss = 'categorical_crossentropy',     \n",
    "   optimizer = 'RMSprop', \n",
    "   metrics = ['accuracy'])"
   ]
  },
  {
   "cell_type": "code",
   "execution_count": 49,
   "id": "verified-hughes",
   "metadata": {},
   "outputs": [
    {
     "name": "stdout",
     "output_type": "stream",
     "text": [
      "Train on 60000 samples, validate on 10000 samples\n",
      "Epoch 1/20\n",
      "60000/60000 [==============================] - 6s 96us/sample - loss: 0.2481 - accuracy: 0.9230 - val_loss: 0.0999 - val_accuracy: 0.9686\n",
      "Epoch 2/20\n",
      "60000/60000 [==============================] - 5s 88us/sample - loss: 0.1017 - accuracy: 0.9689 - val_loss: 0.0967 - val_accuracy: 0.9702\n",
      "Epoch 3/20\n",
      "60000/60000 [==============================] - 5s 88us/sample - loss: 0.0743 - accuracy: 0.9774 - val_loss: 0.0777 - val_accuracy: 0.9784\n",
      "Epoch 4/20\n",
      "60000/60000 [==============================] - 5s 88us/sample - loss: 0.0609 - accuracy: 0.9821 - val_loss: 0.0921 - val_accuracy: 0.9743\n",
      "Epoch 5/20\n",
      "60000/60000 [==============================] - 5s 88us/sample - loss: 0.0496 - accuracy: 0.9845 - val_loss: 0.0782 - val_accuracy: 0.9806\n",
      "Epoch 6/20\n",
      "60000/60000 [==============================] - 5s 89us/sample - loss: 0.0421 - accuracy: 0.9874 - val_loss: 0.0723 - val_accuracy: 0.9806\n",
      "Epoch 7/20\n",
      "60000/60000 [==============================] - 5s 92us/sample - loss: 0.0371 - accuracy: 0.9887 - val_loss: 0.0833 - val_accuracy: 0.9818\n",
      "Epoch 8/20\n",
      "60000/60000 [==============================] - 5s 90us/sample - loss: 0.0350 - accuracy: 0.9894 - val_loss: 0.0807 - val_accuracy: 0.9825\n",
      "Epoch 9/20\n",
      "60000/60000 [==============================] - 5s 89us/sample - loss: 0.0306 - accuracy: 0.9909 - val_loss: 0.0825 - val_accuracy: 0.9821\n",
      "Epoch 10/20\n",
      "60000/60000 [==============================] - 5s 89us/sample - loss: 0.0291 - accuracy: 0.9916 - val_loss: 0.0821 - val_accuracy: 0.9838\n",
      "Epoch 11/20\n",
      "60000/60000 [==============================] - 5s 90us/sample - loss: 0.0265 - accuracy: 0.9923 - val_loss: 0.0919 - val_accuracy: 0.9833\n",
      "Epoch 12/20\n",
      "60000/60000 [==============================] - 5s 90us/sample - loss: 0.0246 - accuracy: 0.9933 - val_loss: 0.0882 - val_accuracy: 0.9833\n",
      "Epoch 13/20\n",
      "60000/60000 [==============================] - 6s 95us/sample - loss: 0.0229 - accuracy: 0.9932 - val_loss: 0.0964 - val_accuracy: 0.9845\n",
      "Epoch 14/20\n",
      "60000/60000 [==============================] - 5s 90us/sample - loss: 0.0226 - accuracy: 0.9941 - val_loss: 0.1066 - val_accuracy: 0.9840\n",
      "Epoch 15/20\n",
      "60000/60000 [==============================] - 5s 89us/sample - loss: 0.0205 - accuracy: 0.9942 - val_loss: 0.1010 - val_accuracy: 0.9848\n",
      "Epoch 16/20\n",
      "60000/60000 [==============================] - 6s 92us/sample - loss: 0.0201 - accuracy: 0.9946 - val_loss: 0.1008 - val_accuracy: 0.9840\n",
      "Epoch 17/20\n",
      "60000/60000 [==============================] - 6s 93us/sample - loss: 0.0178 - accuracy: 0.9950 - val_loss: 0.1040 - val_accuracy: 0.9846\n",
      "Epoch 18/20\n",
      "60000/60000 [==============================] - 6s 94us/sample - loss: 0.0161 - accuracy: 0.9953 - val_loss: 0.1280 - val_accuracy: 0.9832\n",
      "Epoch 19/20\n",
      "60000/60000 [==============================] - 5s 91us/sample - loss: 0.0184 - accuracy: 0.9952 - val_loss: 0.1302 - val_accuracy: 0.9814\n",
      "Epoch 20/20\n",
      "60000/60000 [==============================] - 5s 90us/sample - loss: 0.0176 - accuracy: 0.9956 - val_loss: 0.1176 - val_accuracy: 0.9845\n"
     ]
    }
   ],
   "source": [
    "history = model.fit(\n",
    "   x_train, y_train, \n",
    "   batch_size = 128, \n",
    "   epochs = 20, \n",
    "   verbose = 1, \n",
    "   validation_data = (x_test, y_test)\n",
    ")"
   ]
  },
  {
   "cell_type": "code",
   "execution_count": 50,
   "id": "prerequisite-america",
   "metadata": {},
   "outputs": [
    {
     "name": "stdout",
     "output_type": "stream",
     "text": [
      "7, 2, 1, 0, 4, 1, 4, 9, 5, 9, 0, 6, 9, 0, 1, 5, 9, 7, 3, 4, 9, 6, 6, 5, 4, 0, 7, 4, 0, 1, 3, 1, 3, 4, 7, 2, 7, 1, 2, 1, 1, 7, 4, 2, 3, 5, 1, 2, 4, 4, "
     ]
    }
   ],
   "source": [
    "import numpy as np\n",
    "for i in range(50): print(np.argmax(y_test[i]), end=\", \")"
   ]
  },
  {
   "cell_type": "code",
   "execution_count": 51,
   "id": "disturbed-modification",
   "metadata": {},
   "outputs": [
    {
     "name": "stdout",
     "output_type": "stream",
     "text": [
      "7, 2, 1, 0, 4, 1, 4, 9, 5, 9, 0, 6, 9, 0, 1, 5, 9, 7, 8, 4, 9, 6, 6, 5, 4, 0, 7, 4, 0, 1, 3, 1, 3, 4, 7, 2, 7, 1, 2, 1, 1, 7, 4, 2, 3, 5, 1, 2, 4, 4, "
     ]
    }
   ],
   "source": [
    "for result in model.predict(x_test[:50]) : print(np.argmax(result), end=\", \")"
   ]
  },
  {
   "cell_type": "code",
   "execution_count": 52,
   "id": "silent-understanding",
   "metadata": {},
   "outputs": [
    {
     "name": "stdout",
     "output_type": "stream",
     "text": [
      "prediction :  8\n",
      "actual :  3\n",
      "\n",
      "\n",
      "prediction :  9\n",
      "actual :  4\n",
      "\n",
      "\n",
      "prediction :  3\n",
      "actual :  2\n",
      "\n",
      "\n",
      "prediction :  5\n",
      "actual :  6\n",
      "\n",
      "\n",
      "prediction :  2\n",
      "actual :  4\n",
      "\n",
      "\n"
     ]
    },
    {
     "data": {
      "image/png": "[encoded data removed]",
      "text/plain": [
       "<Figure size 360x72 with 5 Axes>"
      ]
     },
     "metadata": {
      "needs_background": "light"
     },
     "output_type": "display_data"
    }
   ],
   "source": [
    "columns = 5\n",
    "rows = 1\n",
    "fig = plt.figure(figsize=(columns, rows))\n",
    "    \n",
    "count = 1\n",
    "for i, result in enumerate(model.predict(x_test)):\n",
    "    if np.argmax(y_test[i]) != np.argmax(result):\n",
    "        fig.add_subplot(rows, columns, count)\n",
    "        plt.imshow((x_test[i] * 255).reshape(28, 28), cmap=\"binary\")\n",
    "        plt.axis('off')\n",
    "        print(\"prediction : \", np.argmax(result))\n",
    "        print(\"actual : \", np.argmax(y_test[i]))\n",
    "        print(\"\\n\")\n",
    "        count += 1\n",
    "        if count == columns + 1 : break\n",
    "            \n",
    "plt.show()"
   ]
  },
  {
   "cell_type": "code",
   "execution_count": 53,
   "id": "liberal-episode",
   "metadata": {},
   "outputs": [],
   "source": [
    "from sklearn import datasets\n",
    "from sklearn.model_selection import train_test_split"
   ]
  },
  {
   "cell_type": "code",
   "execution_count": 54,
   "id": "gentle-topic",
   "metadata": {},
   "outputs": [],
   "source": [
    "raw_wine = datasets.load_wine()"
   ]
  },
  {
   "cell_type": "code",
   "execution_count": 55,
   "id": "built-filing",
   "metadata": {},
   "outputs": [],
   "source": [
    "X = raw_wine.data\n",
    "y = raw_wine.target"
   ]
  },
  {
   "cell_type": "code",
   "execution_count": 56,
   "id": "indonesian-haven",
   "metadata": {},
   "outputs": [],
   "source": [
    "X_tn, X_te, y_tn, y_te = train_test_split(X, y)"
   ]
  },
  {
   "cell_type": "code",
   "execution_count": 57,
   "id": "running-mozambique",
   "metadata": {},
   "outputs": [],
   "source": [
    "model = keras.models.Sequential()\n",
    "model.add(keras.layers.Dense(13, input_shape=(X_tn.shape[1], ))) # feature 13개\n",
    "model.add(keras.layers.Dense(100, activation=\"relu\"))\n",
    "model.add(keras.layers.Dense(3, activation=\"softmax\"))"
   ]
  },
  {
   "cell_type": "code",
   "execution_count": 58,
   "id": "better-boundary",
   "metadata": {},
   "outputs": [
    {
     "name": "stdout",
     "output_type": "stream",
     "text": [
      "Model: \"sequential_4\"\n",
      "_________________________________________________________________\n",
      "Layer (type)                 Output Shape              Param #   \n",
      "=================================================================\n",
      "dense_12 (Dense)             (None, 13)                182       \n",
      "_________________________________________________________________\n",
      "dense_13 (Dense)             (None, 100)               1400      \n",
      "_________________________________________________________________\n",
      "dense_14 (Dense)             (None, 3)                 303       \n",
      "=================================================================\n",
      "Total params: 1,885\n",
      "Trainable params: 1,885\n",
      "Non-trainable params: 0\n",
      "_________________________________________________________________\n"
     ]
    }
   ],
   "source": [
    "model.summary()"
   ]
  },
  {
   "cell_type": "code",
   "execution_count": 59,
   "id": "satellite-lounge",
   "metadata": {},
   "outputs": [
    {
     "name": "stdout",
     "output_type": "stream",
     "text": [
      "Failed to import pydot. You must install pydot and graphviz for `pydotprint` to work.\n"
     ]
    }
   ],
   "source": [
    "keras.utils.plot_model(model,  show_shapes=True)"
   ]
  },
  {
   "cell_type": "code",
   "execution_count": 60,
   "id": "sustainable-recruitment",
   "metadata": {},
   "outputs": [],
   "source": [
    "model.compile(loss=\"sparse_categorical_crossentropy\",\n",
    "              optimizer=\"adam\",\n",
    "              metrics=[\"accuracy\"])"
   ]
  },
  {
   "cell_type": "code",
   "execution_count": 61,
   "id": "sophisticated-session",
   "metadata": {},
   "outputs": [
    {
     "name": "stdout",
     "output_type": "stream",
     "text": [
      "Train on 133 samples, validate on 45 samples\n",
      "Epoch 1/50\n",
      "133/133 [==============================] - 0s 2ms/sample - loss: 12.2759 - accuracy: 0.3684 - val_loss: 2.4206 - val_accuracy: 0.5111\n",
      "Epoch 2/50\n",
      "133/133 [==============================] - 0s 337us/sample - loss: 1.3209 - accuracy: 0.6241 - val_loss: 2.5885 - val_accuracy: 0.4222\n",
      "Epoch 3/50\n",
      "133/133 [==============================] - 0s 303us/sample - loss: 1.9215 - accuracy: 0.5789 - val_loss: 10.8538 - val_accuracy: 0.3778\n",
      "Epoch 4/50\n",
      "133/133 [==============================] - 0s 281us/sample - loss: 4.3829 - accuracy: 0.6241 - val_loss: 5.5285 - val_accuracy: 0.4444\n",
      "Epoch 5/50\n",
      "133/133 [==============================] - 0s 330us/sample - loss: 2.6591 - accuracy: 0.6541 - val_loss: 3.0114 - val_accuracy: 0.4000\n",
      "Epoch 6/50\n",
      "133/133 [==============================] - 0s 317us/sample - loss: 0.9493 - accuracy: 0.7368 - val_loss: 1.5293 - val_accuracy: 0.5333\n",
      "Epoch 7/50\n",
      "133/133 [==============================] - 0s 299us/sample - loss: 0.9369 - accuracy: 0.7820 - val_loss: 0.8143 - val_accuracy: 0.7333\n",
      "Epoch 8/50\n",
      "133/133 [==============================] - 0s 307us/sample - loss: 0.9779 - accuracy: 0.7068 - val_loss: 2.9754 - val_accuracy: 0.4889\n",
      "Epoch 9/50\n",
      "133/133 [==============================] - 0s 319us/sample - loss: 1.1318 - accuracy: 0.7068 - val_loss: 2.7149 - val_accuracy: 0.5111\n",
      "Epoch 10/50\n",
      "133/133 [==============================] - 0s 298us/sample - loss: 0.8950 - accuracy: 0.7444 - val_loss: 1.8277 - val_accuracy: 0.3778\n",
      "Epoch 11/50\n",
      "133/133 [==============================] - 0s 293us/sample - loss: 0.8227 - accuracy: 0.7594 - val_loss: 1.6400 - val_accuracy: 0.5111\n",
      "Epoch 12/50\n",
      "133/133 [==============================] - 0s 287us/sample - loss: 1.4498 - accuracy: 0.7143 - val_loss: 1.1069 - val_accuracy: 0.6444\n",
      "Epoch 13/50\n",
      "133/133 [==============================] - 0s 312us/sample - loss: 1.1355 - accuracy: 0.7594 - val_loss: 1.1270 - val_accuracy: 0.6667\n",
      "Epoch 14/50\n",
      "133/133 [==============================] - 0s 305us/sample - loss: 0.6633 - accuracy: 0.8195 - val_loss: 0.6265 - val_accuracy: 0.7333\n",
      "Epoch 15/50\n",
      "133/133 [==============================] - 0s 314us/sample - loss: 0.9758 - accuracy: 0.7519 - val_loss: 2.7833 - val_accuracy: 0.4000\n",
      "Epoch 16/50\n",
      "133/133 [==============================] - 0s 319us/sample - loss: 1.2310 - accuracy: 0.7218 - val_loss: 1.6869 - val_accuracy: 0.3778\n",
      "Epoch 17/50\n",
      "133/133 [==============================] - 0s 330us/sample - loss: 2.5712 - accuracy: 0.6090 - val_loss: 7.3754 - val_accuracy: 0.3778\n",
      "Epoch 18/50\n",
      "133/133 [==============================] - 0s 337us/sample - loss: 2.9973 - accuracy: 0.6842 - val_loss: 0.7010 - val_accuracy: 0.8000\n",
      "Epoch 19/50\n",
      "133/133 [==============================] - 0s 322us/sample - loss: 1.2944 - accuracy: 0.6767 - val_loss: 8.3617 - val_accuracy: 0.2889\n",
      "Epoch 20/50\n",
      "133/133 [==============================] - 0s 326us/sample - loss: 2.8758 - accuracy: 0.6466 - val_loss: 0.6439 - val_accuracy: 0.7111\n",
      "Epoch 21/50\n",
      "133/133 [==============================] - 0s 297us/sample - loss: 1.9507 - accuracy: 0.6692 - val_loss: 1.0611 - val_accuracy: 0.7111\n",
      "Epoch 22/50\n",
      "133/133 [==============================] - 0s 301us/sample - loss: 1.7447 - accuracy: 0.7218 - val_loss: 0.6726 - val_accuracy: 0.7556\n",
      "Epoch 23/50\n",
      "133/133 [==============================] - 0s 332us/sample - loss: 1.3705 - accuracy: 0.7519 - val_loss: 2.2276 - val_accuracy: 0.4889\n",
      "Epoch 24/50\n",
      "133/133 [==============================] - 0s 290us/sample - loss: 2.2616 - accuracy: 0.6692 - val_loss: 7.0625 - val_accuracy: 0.3556\n",
      "Epoch 25/50\n",
      "133/133 [==============================] - 0s 291us/sample - loss: 1.1229 - accuracy: 0.7970 - val_loss: 1.4983 - val_accuracy: 0.5556\n",
      "Epoch 26/50\n",
      "133/133 [==============================] - 0s 318us/sample - loss: 0.7792 - accuracy: 0.8120 - val_loss: 0.4547 - val_accuracy: 0.8000\n",
      "Epoch 27/50\n",
      "133/133 [==============================] - 0s 298us/sample - loss: 0.5957 - accuracy: 0.8120 - val_loss: 0.5057 - val_accuracy: 0.8000\n",
      "Epoch 28/50\n",
      "133/133 [==============================] - 0s 300us/sample - loss: 0.6471 - accuracy: 0.8571 - val_loss: 2.0449 - val_accuracy: 0.6444\n",
      "Epoch 29/50\n",
      "133/133 [==============================] - 0s 291us/sample - loss: 1.4563 - accuracy: 0.7669 - val_loss: 2.4359 - val_accuracy: 0.5333\n",
      "Epoch 30/50\n",
      "133/133 [==============================] - 0s 293us/sample - loss: 0.8226 - accuracy: 0.7820 - val_loss: 0.9036 - val_accuracy: 0.7556\n",
      "Epoch 31/50\n",
      "133/133 [==============================] - 0s 298us/sample - loss: 1.3857 - accuracy: 0.7669 - val_loss: 0.5513 - val_accuracy: 0.7556\n",
      "Epoch 32/50\n",
      "133/133 [==============================] - 0s 292us/sample - loss: 1.0040 - accuracy: 0.7895 - val_loss: 1.2088 - val_accuracy: 0.6889\n",
      "Epoch 33/50\n",
      "133/133 [==============================] - 0s 289us/sample - loss: 0.9997 - accuracy: 0.7669 - val_loss: 2.9782 - val_accuracy: 0.3778\n",
      "Epoch 34/50\n",
      "133/133 [==============================] - 0s 300us/sample - loss: 1.6233 - accuracy: 0.6992 - val_loss: 1.7669 - val_accuracy: 0.4889\n",
      "Epoch 35/50\n",
      "133/133 [==============================] - 0s 298us/sample - loss: 2.2937 - accuracy: 0.6241 - val_loss: 6.3560 - val_accuracy: 0.4000\n",
      "Epoch 36/50\n",
      "133/133 [==============================] - 0s 276us/sample - loss: 4.1613 - accuracy: 0.6165 - val_loss: 8.8408 - val_accuracy: 0.2889\n",
      "Epoch 37/50\n",
      "133/133 [==============================] - 0s 273us/sample - loss: 1.2854 - accuracy: 0.7970 - val_loss: 0.6864 - val_accuracy: 0.7556\n",
      "Epoch 38/50\n",
      "133/133 [==============================] - 0s 277us/sample - loss: 0.8565 - accuracy: 0.8722 - val_loss: 4.7297 - val_accuracy: 0.4222\n",
      "Epoch 39/50\n",
      "133/133 [==============================] - 0s 280us/sample - loss: 1.2127 - accuracy: 0.8195 - val_loss: 2.3006 - val_accuracy: 0.4667\n",
      "Epoch 40/50\n",
      "133/133 [==============================] - 0s 290us/sample - loss: 1.5240 - accuracy: 0.7368 - val_loss: 2.2668 - val_accuracy: 0.6000\n",
      "Epoch 41/50\n",
      "133/133 [==============================] - 0s 272us/sample - loss: 0.7915 - accuracy: 0.8120 - val_loss: 2.6936 - val_accuracy: 0.5111\n",
      "Epoch 42/50\n",
      "133/133 [==============================] - 0s 280us/sample - loss: 1.0777 - accuracy: 0.7519 - val_loss: 1.5490 - val_accuracy: 0.5778\n",
      "Epoch 43/50\n",
      "133/133 [==============================] - 0s 281us/sample - loss: 0.6904 - accuracy: 0.7970 - val_loss: 2.4982 - val_accuracy: 0.5111\n",
      "Epoch 44/50\n",
      "133/133 [==============================] - 0s 269us/sample - loss: 1.0201 - accuracy: 0.7744 - val_loss: 0.6626 - val_accuracy: 0.7111\n",
      "Epoch 45/50\n",
      "133/133 [==============================] - 0s 272us/sample - loss: 0.5066 - accuracy: 0.8271 - val_loss: 0.2726 - val_accuracy: 0.9111\n",
      "Epoch 46/50\n",
      "133/133 [==============================] - 0s 280us/sample - loss: 0.5034 - accuracy: 0.9248 - val_loss: 1.2432 - val_accuracy: 0.7111\n",
      "Epoch 47/50\n",
      "133/133 [==============================] - 0s 287us/sample - loss: 0.8121 - accuracy: 0.8496 - val_loss: 0.3165 - val_accuracy: 0.8667\n",
      "Epoch 48/50\n",
      "133/133 [==============================] - 0s 306us/sample - loss: 1.3577 - accuracy: 0.7519 - val_loss: 1.5500 - val_accuracy: 0.5111\n",
      "Epoch 49/50\n",
      "133/133 [==============================] - 0s 292us/sample - loss: 0.6645 - accuracy: 0.8346 - val_loss: 0.8423 - val_accuracy: 0.7111\n",
      "Epoch 50/50\n",
      "133/133 [==============================] - 0s 290us/sample - loss: 0.8012 - accuracy: 0.8271 - val_loss: 2.5343 - val_accuracy: 0.6222\n"
     ]
    }
   ],
   "source": [
    "num_epo = 50\n",
    "history = model.fit(X_tn, y_tn, epochs=num_epo, batch_size=5,\n",
    "                    validation_data=(X_te, y_te))"
   ]
  },
  {
   "cell_type": "code",
   "execution_count": 62,
   "id": "controlled-shelf",
   "metadata": {},
   "outputs": [
    {
     "name": "stdout",
     "output_type": "stream",
     "text": [
      "133/133 [==============================] - 0s 459us/sample - loss: 1.0488 - accuracy: 0.7970\n",
      "0.7969925\n"
     ]
    }
   ],
   "source": [
    "print(model.evaluate(X_tn, y_tn)[1])"
   ]
  },
  {
   "cell_type": "code",
   "execution_count": 63,
   "id": "exotic-stroke",
   "metadata": {},
   "outputs": [
    {
     "name": "stdout",
     "output_type": "stream",
     "text": [
      "45/45 [==============================] - 0s 89us/sample - loss: 2.5343 - accuracy: 0.6222\n",
      "0.62222224\n"
     ]
    }
   ],
   "source": [
    "print(model.evaluate(X_te, y_te)[1])"
   ]
  },
  {
   "cell_type": "code",
   "execution_count": 64,
   "id": "charitable-collaboration",
   "metadata": {},
   "outputs": [
    {
     "name": "stdout",
     "output_type": "stream",
     "text": [
      "[0.36842105, 0.62406015, 0.57894737, 0.62406015, 0.65413535, 0.7368421, 0.7819549, 0.7067669, 0.7067669, 0.7443609, 0.7593985, 0.71428573, 0.7593985, 0.81954885, 0.7518797, 0.7218045, 0.60902256, 0.68421054, 0.6766917, 0.6466165, 0.66917294, 0.7218045, 0.7518797, 0.66917294, 0.7969925, 0.8120301, 0.8120301, 0.85714287, 0.7669173, 0.7819549, 0.7669173, 0.7894737, 0.7669173, 0.69924814, 0.62406015, 0.6165413, 0.7969925, 0.87218046, 0.81954885, 0.7368421, 0.8120301, 0.7518797, 0.7969925, 0.7744361, 0.8270677, 0.924812, 0.84962404, 0.7518797, 0.83458644, 0.8270677]\n"
     ]
    }
   ],
   "source": [
    "print(history.history[\"accuracy\"])"
   ]
  },
  {
   "cell_type": "code",
   "execution_count": 65,
   "id": "further-latino",
   "metadata": {},
   "outputs": [
    {
     "name": "stdout",
     "output_type": "stream",
     "text": [
      "[12.275910931870452, 1.3208530107723142, 1.9215318432245823, 4.382875899815778, 2.659132369902489, 0.9493264117159117, 0.9369052038913158, 0.977939450462993, 1.1318328739949186, 0.8950370425232371, 0.8226660268448637, 1.449819964580798, 1.1354622411632673, 0.663285144695774, 0.9757633112912343, 1.2310271678856552, 2.571164674179443, 2.9973270679614856, 1.2944316577474426, 2.875810385702696, 1.950714324839077, 1.7446998014373887, 1.370482608703091, 2.2615858993438183, 1.1229019033505068, 0.7791521708387794, 0.595671661261161, 0.6471275038092881, 1.4563043668592188, 0.8226320108790931, 1.3856757309592391, 1.0039598837886985, 0.9996606721468375, 1.6232892599681574, 2.293702790629284, 4.161322211071847, 1.285432116296619, 0.8565227259300593, 1.2126927977932014, 1.5240080637300037, 0.7914701994811278, 1.0777212721039628, 0.6904066998365322, 1.020123779706642, 0.506626587468322, 0.5034065414885325, 0.8121340878174773, 1.3577315068107425, 0.6644535364078303, 0.8012315427352276]\n"
     ]
    }
   ],
   "source": [
    "print(history.history[\"loss\"])"
   ]
  },
  {
   "cell_type": "code",
   "execution_count": 66,
   "id": "national-sigma",
   "metadata": {},
   "outputs": [
    {
     "data": {
      "text/plain": [
       "[<matplotlib.lines.Line2D at 0x21ac440c438>]"
      ]
     },
     "execution_count": 66,
     "metadata": {},
     "output_type": "execute_result"
    },
    {
     "data": {
      "image/png": "[encoded data removed]",
      "text/plain": [
       "<Figure size 432x288 with 1 Axes>"
      ]
     },
     "metadata": {
      "needs_background": "light"
     },
     "output_type": "display_data"
    }
   ],
   "source": [
    "plt.plot(range(1, num_epo+1), history.history[\"accuracy\"])"
   ]
  },
  {
   "cell_type": "code",
   "execution_count": 67,
   "id": "applicable-musical",
   "metadata": {},
   "outputs": [
    {
     "data": {
      "text/plain": [
       "[<matplotlib.lines.Line2D at 0x21ac446d0b8>]"
      ]
     },
     "execution_count": 67,
     "metadata": {},
     "output_type": "execute_result"
    },
    {
     "data": {
      "image/png": "[encoded data removed]",
      "text/plain": [
       "<Figure size 432x288 with 1 Axes>"
      ]
     },
     "metadata": {
      "needs_background": "light"
     },
     "output_type": "display_data"
    }
   ],
   "source": [
    "plt.plot(range(1, num_epo+1), history.history[\"loss\"])"
   ]
  },
  {
   "cell_type": "code",
   "execution_count": 68,
   "id": "after-handbook",
   "metadata": {},
   "outputs": [
    {
     "name": "stderr",
     "output_type": "stream",
     "text": [
      "c:\\users\\minse\\appdata\\local\\programs\\python\\python37\\lib\\site-packages\\tensorflow_core\\python\\keras\\datasets\\imdb.py:129: VisibleDeprecationWarning: Creating an ndarray from ragged nested sequences (which is a list-or-tuple of lists-or-tuples-or ndarrays with different lengths or shapes) is deprecated. If you meant to do this, you must specify 'dtype=object' when creating the ndarray\n",
      "  x_train, y_train = np.array(xs[:idx]), np.array(labels[:idx])\n",
      "c:\\users\\minse\\appdata\\local\\programs\\python\\python37\\lib\\site-packages\\tensorflow_core\\python\\keras\\datasets\\imdb.py:130: VisibleDeprecationWarning: Creating an ndarray from ragged nested sequences (which is a list-or-tuple of lists-or-tuples-or ndarrays with different lengths or shapes) is deprecated. If you meant to do this, you must specify 'dtype=object' when creating the ndarray\n",
      "  x_test, y_test = np.array(xs[idx:]), np.array(labels[idx:])\n"
     ]
    }
   ],
   "source": [
    "imdb = keras.datasets.imdb\n",
    "\n",
    "(train_data, train_labels), (test_data, test_labels) = imdb.load_data(num_words=10000)"
   ]
  },
  {
   "cell_type": "code",
   "execution_count": 69,
   "id": "selected-headline",
   "metadata": {},
   "outputs": [
    {
     "data": {
      "text/plain": [
       "1"
      ]
     },
     "execution_count": 69,
     "metadata": {},
     "output_type": "execute_result"
    }
   ],
   "source": [
    "train_labels[3]"
   ]
  },
  {
   "cell_type": "code",
   "execution_count": 70,
   "id": "fourth-rogers",
   "metadata": {},
   "outputs": [
    {
     "name": "stdout",
     "output_type": "stream",
     "text": [
      "훈련 샘플: 25000, 레이블: 25000\n"
     ]
    }
   ],
   "source": [
    "print(\"훈련 샘플: {}, 레이블: {}\".format(len(train_data), len(train_labels)))"
   ]
  },
  {
   "cell_type": "code",
   "execution_count": 71,
   "id": "acknowledged-compound",
   "metadata": {},
   "outputs": [
    {
     "name": "stdout",
     "output_type": "stream",
     "text": [
      "[1, 14, 22, 16, 43, 530, 973, 1622, 1385, 65, 458, 4468, 66, 3941, 4, 173, 36, 256, 5, 25, 100, 43, 838, 112, 50, 670, 2, 9, 35, 480, 284, 5, 150, 4, 172, 112, 167, 2, 336, 385, 39, 4, 172, 4536, 1111, 17, 546, 38, 13, 447, 4, 192, 50, 16, 6, 147, 2025, 19, 14, 22, 4, 1920, 4613, 469, 4, 22, 71, 87, 12, 16, 43, 530, 38, 76, 15, 13, 1247, 4, 22, 17, 515, 17, 12, 16, 626, 18, 2, 5, 62, 386, 12, 8, 316, 8, 106, 5, 4, 2223, 5244, 16, 480, 66, 3785, 33, 4, 130, 12, 16, 38, 619, 5, 25, 124, 51, 36, 135, 48, 25, 1415, 33, 6, 22, 12, 215, 28, 77, 52, 5, 14, 407, 16, 82, 2, 8, 4, 107, 117, 5952, 15, 256, 4, 2, 7, 3766, 5, 723, 36, 71, 43, 530, 476, 26, 400, 317, 46, 7, 4, 2, 1029, 13, 104, 88, 4, 381, 15, 297, 98, 32, 2071, 56, 26, 141, 6, 194, 7486, 18, 4, 226, 22, 21, 134, 476, 26, 480, 5, 144, 30, 5535, 18, 51, 36, 28, 224, 92, 25, 104, 4, 226, 65, 16, 38, 1334, 88, 12, 16, 283, 5, 16, 4472, 113, 103, 32, 15, 16, 5345, 19, 178, 32]\n"
     ]
    }
   ],
   "source": [
    "print(train_data[0])"
   ]
  },
  {
   "cell_type": "code",
   "execution_count": 72,
   "id": "intense-membership",
   "metadata": {},
   "outputs": [
    {
     "data": {
      "text/plain": [
       "(218, 189)"
      ]
     },
     "execution_count": 72,
     "metadata": {},
     "output_type": "execute_result"
    }
   ],
   "source": [
    "len(train_data[0]), len(train_data[1])"
   ]
  },
  {
   "cell_type": "code",
   "execution_count": 73,
   "id": "changed-suite",
   "metadata": {},
   "outputs": [],
   "source": [
    "word_index = imdb.get_word_index()\n",
    "\n",
    "# 처음 몇 개 인덱스는 사전에 정의되어 있음.\n",
    "word_index = {k:(v+3) for k,v in word_index.items()}\n",
    "word_index[\"<PAD>\"] = 0\n",
    "word_index[\"<START>\"] = 1\n",
    "word_index[\"<UNK>\"] = 2  # unknown\n",
    "word_index[\"<UNUSED>\"] = 3\n",
    "\n",
    "reverse_word_index = dict([(value, key) for (key, value) in word_index.items()])\n",
    "\n",
    "def decode_review(text):\n",
    "    return ' '.join([reverse_word_index.get(i, '?') for i in text])"
   ]
  },
  {
   "cell_type": "code",
   "execution_count": 74,
   "id": "curious-arrival",
   "metadata": {},
   "outputs": [
    {
     "data": {
      "text/plain": [
       "550"
      ]
     },
     "execution_count": 74,
     "metadata": {},
     "output_type": "execute_result"
    }
   ],
   "source": [
    "len(train_data[3])"
   ]
  },
  {
   "cell_type": "code",
   "execution_count": 75,
   "id": "capable-samuel",
   "metadata": {},
   "outputs": [],
   "source": [
    "train_data = keras.preprocessing.sequence.pad_sequences(train_data,\n",
    "                                                        value=word_index[\"<PAD>\"],\n",
    "                                                        padding='post',\n",
    "                                                        maxlen=256)\n",
    "\n",
    "test_data = keras.preprocessing.sequence.pad_sequences(test_data,\n",
    "                                                       value=word_index[\"<PAD>\"],\n",
    "                                                       padding='post',\n",
    "                                                       maxlen=256)"
   ]
  },
  {
   "cell_type": "code",
   "execution_count": 76,
   "id": "together-clear",
   "metadata": {},
   "outputs": [
    {
     "data": {
      "text/plain": [
       "array([1784,   86, 1117,    8, 3261,   46,   11,    2,   21,   29,    9,\n",
       "       2841,   23,    4, 1010,    2,  793,    6,    2, 1386, 1830,   10,\n",
       "         10,  246,   50,    9,    6, 2750, 1944,  746,   90,   29,    2,\n",
       "          8,  124,    4,  882,    4,  882,  496,   27,    2, 2213,  537,\n",
       "        121,  127, 1219,  130,    5,   29,  494,    8,  124,    4,  882,\n",
       "        496,    4,  341,    7,   27,  846,   10,   10,   29,    9, 1906,\n",
       "          8,   97,    6,  236,    2, 1311,    8,    4,    2,    7,   31,\n",
       "          7,    2,   91,    2, 3987,   70,    4,  882,   30,  579,   42,\n",
       "          9,   12,   32,   11,  537,   10,   10,   11,   14,   65,   44,\n",
       "        537,   75,    2, 1775, 3353,    2, 1846,    4,    2,    7,  154,\n",
       "          5,    4,  518,   53,    2,    2,    7, 3211,  882,   11,  399,\n",
       "         38,   75,  257, 3807,   19,    2,   17,   29,  456,    4,   65,\n",
       "          7,   27,  205,  113,   10,   10,    2,    4,    2,    2,    9,\n",
       "        242,    4,   91, 1202,    2,    5, 2070,  307,   22,    7, 5168,\n",
       "        126,   93,   40,    2,   13,  188, 1076, 3222,   19,    4,    2,\n",
       "          7, 2348,  537,   23,   53,  537,   21,   82,   40,    2,   13,\n",
       "          2,   14,  280,   13,  219,    4,    2,  431,  758,  859,    4,\n",
       "        953, 1052,    2,    7, 5991,    5,   94,   40,   25,  238,   60,\n",
       "          2,    4,    2,  804,    2,    7,    4, 9941,  132,    8,   67,\n",
       "          6,   22,   15,    9,  283,    8, 5168,   14,   31,    9,  242,\n",
       "        955,   48,   25,  279,    2,   23,   12, 1685,  195,   25,  238,\n",
       "         60,  796,    2,    4,  671,    7, 2804,    5,    4,  559,  154,\n",
       "        888,    7,  726,   50,   26,   49, 7008,   15,  566,   30,  579,\n",
       "         21,   64, 2574])"
      ]
     },
     "execution_count": 76,
     "metadata": {},
     "output_type": "execute_result"
    }
   ],
   "source": [
    "train_data[3]"
   ]
  },
  {
   "cell_type": "code",
   "execution_count": 77,
   "id": "productive-fusion",
   "metadata": {},
   "outputs": [
    {
     "data": {
      "text/plain": [
       "\"twenty first century to hang out in <UNK> but he is raised on the western <UNK> among a <UNK> speaking community br br yet there is a deeper conflict within him he <UNK> to know the truth the truth behind his <UNK> ancient stories where does fiction end and he wants to know the truth behind the death of his parents br br he is pulled to make a last <UNK> journey to the <UNK> of one of <UNK> most <UNK> mountains can the truth be told or is it all in stories br br in this story about stories we <UNK> bloody battles <UNK> lovers the <UNK> of old and the sometimes more <UNK> <UNK> of accepted truth in doing so we each connect with <UNK> as he lives the story of his own life br br <UNK> the <UNK> <UNK> is probably the most honest <UNK> and genuinely beautiful film of scotland ever made like <UNK> i got slightly annoyed with the <UNK> of hanging stories on more stories but also like <UNK> i <UNK> this once i saw the <UNK> picture ' forget the box office <UNK> of braveheart and its like you might even <UNK> the <UNK> famous <UNK> of the wicker man to see a film that is true to scotland this one is probably unique if you maybe <UNK> on it deeply enough you might even re <UNK> the power of storytelling and the age old question of whether there are some truths that cannot be told but only experienced\""
      ]
     },
     "execution_count": 77,
     "metadata": {},
     "output_type": "execute_result"
    }
   ],
   "source": [
    "decode_review(train_data[3])"
   ]
  },
  {
   "cell_type": "code",
   "execution_count": 78,
   "id": "informational-dallas",
   "metadata": {},
   "outputs": [
    {
     "name": "stdout",
     "output_type": "stream",
     "text": [
      "Model: \"sequential_5\"\n",
      "_________________________________________________________________\n",
      "Layer (type)                 Output Shape              Param #   \n",
      "=================================================================\n",
      "embedding (Embedding)        (None, None, 16)          160000    \n",
      "_________________________________________________________________\n",
      "global_average_pooling1d (Gl (None, 16)                0         \n",
      "_________________________________________________________________\n",
      "dense_15 (Dense)             (None, 16)                272       \n",
      "_________________________________________________________________\n",
      "dense_16 (Dense)             (None, 1)                 17        \n",
      "=================================================================\n",
      "Total params: 160,289\n",
      "Trainable params: 160,289\n",
      "Non-trainable params: 0\n",
      "_________________________________________________________________\n"
     ]
    }
   ],
   "source": [
    "vocab_size = 10000\n",
    "\n",
    "model = keras.Sequential()\n",
    "model.add(keras.layers.Embedding(vocab_size, 16, input_shape=(None,)))\n",
    "model.add(keras.layers.GlobalAveragePooling1D())\n",
    "model.add(keras.layers.Dense(16, activation='relu'))\n",
    "model.add(keras.layers.Dense(1, activation='sigmoid'))\n",
    "\n",
    "model.summary()"
   ]
  },
  {
   "cell_type": "code",
   "execution_count": 79,
   "id": "involved-conversion",
   "metadata": {},
   "outputs": [],
   "source": [
    "model.compile(optimizer='adam',\n",
    "              loss='binary_crossentropy',\n",
    "              metrics=['accuracy'])"
   ]
  },
  {
   "cell_type": "code",
   "execution_count": 80,
   "id": "fleet-novelty",
   "metadata": {},
   "outputs": [],
   "source": [
    "x_val = train_data[:10000]\n",
    "partial_x_train = train_data[10000:]\n",
    "\n",
    "y_val = train_labels[:10000]\n",
    "partial_y_train = train_labels[10000:]"
   ]
  },
  {
   "cell_type": "code",
   "execution_count": 81,
   "id": "after-crowd",
   "metadata": {},
   "outputs": [
    {
     "name": "stdout",
     "output_type": "stream",
     "text": [
      "Train on 15000 samples, validate on 10000 samples\n",
      "Epoch 1/40\n",
      "15000/15000 [==============================] - 1s 58us/sample - loss: 0.6919 - accuracy: 0.6289 - val_loss: 0.6901 - val_accuracy: 0.6885\n",
      "Epoch 2/40\n",
      "15000/15000 [==============================] - 1s 35us/sample - loss: 0.6865 - accuracy: 0.7226 - val_loss: 0.6825 - val_accuracy: 0.7059\n",
      "Epoch 3/40\n",
      "15000/15000 [==============================] - 1s 36us/sample - loss: 0.6747 - accuracy: 0.7218 - val_loss: 0.6669 - val_accuracy: 0.7379\n",
      "Epoch 4/40\n",
      "15000/15000 [==============================] - 1s 36us/sample - loss: 0.6527 - accuracy: 0.7639 - val_loss: 0.6420 - val_accuracy: 0.7660\n",
      "Epoch 5/40\n",
      "15000/15000 [==============================] - 1s 35us/sample - loss: 0.6205 - accuracy: 0.7868 - val_loss: 0.6077 - val_accuracy: 0.7809\n",
      "Epoch 6/40\n",
      "15000/15000 [==============================] - 1s 34us/sample - loss: 0.5790 - accuracy: 0.8066 - val_loss: 0.5663 - val_accuracy: 0.7988\n",
      "Epoch 7/40\n",
      "15000/15000 [==============================] - 0s 33us/sample - loss: 0.5312 - accuracy: 0.8267 - val_loss: 0.5218 - val_accuracy: 0.8191\n",
      "Epoch 8/40\n",
      "15000/15000 [==============================] - 1s 37us/sample - loss: 0.4827 - accuracy: 0.8449 - val_loss: 0.4790 - val_accuracy: 0.8316\n",
      "Epoch 9/40\n",
      "15000/15000 [==============================] - 1s 34us/sample - loss: 0.4377 - accuracy: 0.8565 - val_loss: 0.4412 - val_accuracy: 0.8439\n",
      "Epoch 10/40\n",
      "15000/15000 [==============================] - 1s 34us/sample - loss: 0.3967 - accuracy: 0.8719 - val_loss: 0.4094 - val_accuracy: 0.8518\n",
      "Epoch 11/40\n",
      "15000/15000 [==============================] - 1s 34us/sample - loss: 0.3623 - accuracy: 0.8817 - val_loss: 0.3829 - val_accuracy: 0.8584\n",
      "Epoch 12/40\n",
      "15000/15000 [==============================] - 1s 34us/sample - loss: 0.3336 - accuracy: 0.8895 - val_loss: 0.3627 - val_accuracy: 0.8647\n",
      "Epoch 13/40\n",
      "15000/15000 [==============================] - 1s 37us/sample - loss: 0.3093 - accuracy: 0.8953 - val_loss: 0.3457 - val_accuracy: 0.8687\n",
      "Epoch 14/40\n",
      "15000/15000 [==============================] - 1s 40us/sample - loss: 0.2885 - accuracy: 0.9017 - val_loss: 0.3326 - val_accuracy: 0.8724\n",
      "Epoch 15/40\n",
      "15000/15000 [==============================] - 1s 36us/sample - loss: 0.2707 - accuracy: 0.9061 - val_loss: 0.3232 - val_accuracy: 0.8752\n",
      "Epoch 16/40\n",
      "15000/15000 [==============================] - 1s 35us/sample - loss: 0.2551 - accuracy: 0.9114 - val_loss: 0.3139 - val_accuracy: 0.8770\n",
      "Epoch 17/40\n",
      "15000/15000 [==============================] - 1s 38us/sample - loss: 0.2407 - accuracy: 0.9179 - val_loss: 0.3062 - val_accuracy: 0.8795\n",
      "Epoch 18/40\n",
      "15000/15000 [==============================] - 1s 38us/sample - loss: 0.2281 - accuracy: 0.9207 - val_loss: 0.3005 - val_accuracy: 0.8819\n",
      "Epoch 19/40\n",
      "15000/15000 [==============================] - 1s 38us/sample - loss: 0.2161 - accuracy: 0.9257 - val_loss: 0.2964 - val_accuracy: 0.8820\n",
      "Epoch 20/40\n",
      "15000/15000 [==============================] - 1s 37us/sample - loss: 0.2062 - accuracy: 0.9292 - val_loss: 0.2923 - val_accuracy: 0.8829\n",
      "Epoch 21/40\n",
      "15000/15000 [==============================] - 1s 37us/sample - loss: 0.1967 - accuracy: 0.9322 - val_loss: 0.2896 - val_accuracy: 0.8841\n",
      "Epoch 22/40\n",
      "15000/15000 [==============================] - 1s 35us/sample - loss: 0.1868 - accuracy: 0.9369 - val_loss: 0.2873 - val_accuracy: 0.8846\n",
      "Epoch 23/40\n",
      "15000/15000 [==============================] - 1s 34us/sample - loss: 0.1784 - accuracy: 0.9412 - val_loss: 0.2857 - val_accuracy: 0.8853\n",
      "Epoch 24/40\n",
      "15000/15000 [==============================] - 1s 34us/sample - loss: 0.1706 - accuracy: 0.9452 - val_loss: 0.2850 - val_accuracy: 0.8850\n",
      "Epoch 25/40\n",
      "15000/15000 [==============================] - 1s 35us/sample - loss: 0.1632 - accuracy: 0.9483 - val_loss: 0.2852 - val_accuracy: 0.8836\n",
      "Epoch 26/40\n",
      "15000/15000 [==============================] - 1s 35us/sample - loss: 0.1562 - accuracy: 0.9505 - val_loss: 0.2849 - val_accuracy: 0.8846\n",
      "Epoch 27/40\n",
      "15000/15000 [==============================] - 1s 35us/sample - loss: 0.1495 - accuracy: 0.9533 - val_loss: 0.2859 - val_accuracy: 0.8834\n",
      "Epoch 28/40\n",
      "15000/15000 [==============================] - 1s 36us/sample - loss: 0.1432 - accuracy: 0.9557 - val_loss: 0.2857 - val_accuracy: 0.8859\n",
      "Epoch 29/40\n",
      "15000/15000 [==============================] - 1s 33us/sample - loss: 0.1372 - accuracy: 0.9585 - val_loss: 0.2867 - val_accuracy: 0.8851\n",
      "Epoch 30/40\n",
      "15000/15000 [==============================] - 1s 34us/sample - loss: 0.1317 - accuracy: 0.9613 - val_loss: 0.2893 - val_accuracy: 0.8841\n",
      "Epoch 31/40\n",
      "15000/15000 [==============================] - 1s 34us/sample - loss: 0.1275 - accuracy: 0.9615 - val_loss: 0.2902 - val_accuracy: 0.8861\n",
      "Epoch 32/40\n",
      "15000/15000 [==============================] - 1s 37us/sample - loss: 0.1216 - accuracy: 0.9650 - val_loss: 0.2919 - val_accuracy: 0.8856\n",
      "Epoch 33/40\n",
      "15000/15000 [==============================] - 1s 34us/sample - loss: 0.1164 - accuracy: 0.9678 - val_loss: 0.2949 - val_accuracy: 0.8842\n",
      "Epoch 34/40\n",
      "15000/15000 [==============================] - 1s 34us/sample - loss: 0.1117 - accuracy: 0.9695 - val_loss: 0.2966 - val_accuracy: 0.8850\n",
      "Epoch 35/40\n",
      "15000/15000 [==============================] - 1s 33us/sample - loss: 0.1073 - accuracy: 0.9716 - val_loss: 0.2995 - val_accuracy: 0.8847\n",
      "Epoch 36/40\n",
      "15000/15000 [==============================] - 1s 35us/sample - loss: 0.1034 - accuracy: 0.9722 - val_loss: 0.3020 - val_accuracy: 0.8837\n",
      "Epoch 37/40\n",
      "15000/15000 [==============================] - 1s 35us/sample - loss: 0.0994 - accuracy: 0.9731 - val_loss: 0.3056 - val_accuracy: 0.8837\n",
      "Epoch 38/40\n",
      "15000/15000 [==============================] - 1s 38us/sample - loss: 0.0955 - accuracy: 0.9754 - val_loss: 0.3086 - val_accuracy: 0.8840\n",
      "Epoch 39/40\n",
      "15000/15000 [==============================] - 0s 33us/sample - loss: 0.0916 - accuracy: 0.9767 - val_loss: 0.3119 - val_accuracy: 0.8824\n",
      "Epoch 40/40\n",
      "15000/15000 [==============================] - 1s 34us/sample - loss: 0.0882 - accuracy: 0.9781 - val_loss: 0.3160 - val_accuracy: 0.8822\n"
     ]
    }
   ],
   "source": [
    "history = model.fit(partial_x_train,\n",
    "                    partial_y_train,\n",
    "                    epochs=40,\n",
    "                    batch_size=512,\n",
    "                    validation_data=(x_val, y_val),\n",
    "                    verbose=1)"
   ]
  },
  {
   "cell_type": "code",
   "execution_count": 82,
   "id": "retained-skirt",
   "metadata": {},
   "outputs": [
    {
     "name": "stdout",
     "output_type": "stream",
     "text": [
      "25000/25000 - 1s - loss: 0.3367 - accuracy: 0.8725\n",
      "[0.3366960938358307, 0.87248]\n"
     ]
    }
   ],
   "source": [
    "results = model.evaluate(test_data,  test_labels, verbose=2)\n",
    "\n",
    "print(results)"
   ]
  },
  {
   "cell_type": "code",
   "execution_count": 83,
   "id": "general-monroe",
   "metadata": {},
   "outputs": [
    {
     "data": {
      "text/plain": [
       "dict_keys(['loss', 'accuracy', 'val_loss', 'val_accuracy'])"
      ]
     },
     "execution_count": 83,
     "metadata": {},
     "output_type": "execute_result"
    }
   ],
   "source": [
    "history_dict = history.history\n",
    "history_dict.keys()"
   ]
  },
  {
   "cell_type": "code",
   "execution_count": 84,
   "id": "removed-supervision",
   "metadata": {},
   "outputs": [
    {
     "data": {
      "image/png": "[encoded data removed]",
      "text/plain": [
       "<Figure size 432x288 with 1 Axes>"
      ]
     },
     "metadata": {
      "needs_background": "light"
     },
     "output_type": "display_data"
    }
   ],
   "source": [
    "import matplotlib.pyplot as plt\n",
    "\n",
    "acc = history_dict['accuracy']\n",
    "val_acc = history_dict['val_accuracy']\n",
    "loss = history_dict['loss']\n",
    "val_loss = history_dict['val_loss']\n",
    "\n",
    "epochs = range(1, len(acc) + 1)\n",
    "\n",
    "# \"bo\"는 \"파란색 점\"입니다\n",
    "plt.plot(epochs, loss, 'bo', label='Training loss')\n",
    "# b는 \"파란 실선\"입니다\n",
    "plt.plot(epochs, val_loss, 'b', label='Validation loss')\n",
    "plt.title('Training and validation loss')\n",
    "plt.xlabel('Epochs')\n",
    "plt.ylabel('Loss')\n",
    "plt.legend()\n",
    "\n",
    "plt.show()"
   ]
  },
  {
   "cell_type": "code",
   "execution_count": 85,
   "id": "undefined-muscle",
   "metadata": {},
   "outputs": [
    {
     "data": {
      "image/png": "[encoded data removed]",
      "text/plain": [
       "<Figure size 432x288 with 1 Axes>"
      ]
     },
     "metadata": {
      "needs_background": "light"
     },
     "output_type": "display_data"
    }
   ],
   "source": [
    "plt.clf()   # 그림을 초기화합니다\n",
    "\n",
    "plt.plot(epochs, acc, 'bo', label='Training acc')\n",
    "plt.plot(epochs, val_acc, 'b', label='Validation acc')\n",
    "plt.title('Training and validation accuracy')\n",
    "plt.xlabel('Epochs')\n",
    "plt.ylabel('Accuracy')\n",
    "plt.legend()\n",
    "\n",
    "plt.show()"
   ]
  },
  {
   "cell_type": "code",
   "execution_count": 86,
   "id": "adult-validation",
   "metadata": {
    "scrolled": true
   },
   "outputs": [
    {
     "ename": "NameError",
     "evalue": "name 'encoded_docs' is not defined",
     "output_type": "error",
     "traceback": [
      "\u001b[1;31m---------------------------------------------------------------------------\u001b[0m",
      "\u001b[1;31mNameError\u001b[0m                                 Traceback (most recent call last)",
      "\u001b[1;32m<ipython-input-86-547e0d75dd9f>\u001b[0m in \u001b[0;36m<module>\u001b[1;34m\u001b[0m\n\u001b[0;32m     18\u001b[0m \u001b[1;31m# pad documents to a max length of 4 words\u001b[0m\u001b[1;33m\u001b[0m\u001b[1;33m\u001b[0m\u001b[1;33m\u001b[0m\u001b[0m\n\u001b[0;32m     19\u001b[0m \u001b[0mmax_length\u001b[0m \u001b[1;33m=\u001b[0m \u001b[1;36m4\u001b[0m\u001b[1;33m\u001b[0m\u001b[1;33m\u001b[0m\u001b[0m\n\u001b[1;32m---> 20\u001b[1;33m \u001b[0mpadded_docs\u001b[0m \u001b[1;33m=\u001b[0m \u001b[0mkeras\u001b[0m\u001b[1;33m.\u001b[0m\u001b[0mpreprocessing\u001b[0m\u001b[1;33m.\u001b[0m\u001b[0msequence\u001b[0m\u001b[1;33m.\u001b[0m\u001b[0mpad_sequences\u001b[0m\u001b[1;33m(\u001b[0m\u001b[0mencoded_docs\u001b[0m\u001b[1;33m,\u001b[0m \u001b[0mmaxlen\u001b[0m\u001b[1;33m=\u001b[0m\u001b[0mmax_length\u001b[0m\u001b[1;33m,\u001b[0m \u001b[0mpadding\u001b[0m\u001b[1;33m=\u001b[0m\u001b[1;34m'post'\u001b[0m\u001b[1;33m)\u001b[0m\u001b[1;33m\u001b[0m\u001b[1;33m\u001b[0m\u001b[0m\n\u001b[0m",
      "\u001b[1;31mNameError\u001b[0m: name 'encoded_docs' is not defined"
     ]
    }
   ],
   "source": [
    "from numpy import array\n",
    "\n",
    "# define documents\n",
    "docs = ['Well done!',\n",
    "'Good work',\n",
    "'Great effort',\n",
    "'nice work',\n",
    "'Excellent!',\n",
    "'Weak',\n",
    "'Poor effort!',\n",
    "'not good',\n",
    "'poor work',\n",
    "'Could have done better.']\n",
    "# define class labels\n",
    "labels = array([1,1,1,1,1,0,0,0,0,0])\n",
    "# integer encode the documents\n",
    "vocab_size = 50\n",
    "# pad documents to a max length of 4 words\n",
    "max_length = 4\n",
    "padded_docs = keras.preprocessing.sequence.pad_sequences(encoded_docs, maxlen=max_length, padding='post')"
   ]
  },
  {
   "cell_type": "code",
   "execution_count": null,
   "id": "rotary-lecture",
   "metadata": {},
   "outputs": [],
   "source": [
    "# define the model\n",
    "model = Sequential()\n",
    "model.add(keras.layers.Embedding(vocab_size, 4, input_length=max_length))\n",
    "model.add(keras.layers.Flatten())\n",
    "model.add(keras.layers.Dense(1, activation='sigmoid'))\n",
    "# compile the model\n",
    "model.compile(optimizer='adam', loss='binary_crossentropy', metrics=['accuracy'])\n",
    "# summarize the model\n",
    "print(model.summary())\n",
    "# fit the model\n",
    "model.fit(padded_docs, labels, epochs=50, verbose=0)\n",
    "# evaluate the model\n",
    "loss, accuracy = model.evaluate(padded_docs, labels, verbose=0)\n",
    "print('Accuracy: %f' % (accuracy*100))"
   ]
  },
  {
   "cell_type": "code",
   "execution_count": null,
   "id": "another-double",
   "metadata": {},
   "outputs": [],
   "source": [
    "first = keras.models.Model(inputs = model.input, outputs = model.layers[0].output)"
   ]
  },
  {
   "cell_type": "code",
   "execution_count": null,
   "id": "unlike-incentive",
   "metadata": {},
   "outputs": [],
   "source": [
    "print(padded_docs)"
   ]
  },
  {
   "cell_type": "code",
   "execution_count": null,
   "id": "wound-candle",
   "metadata": {},
   "outputs": [],
   "source": [
    "first.predict(padded_docs)"
   ]
  },
  {
   "cell_type": "code",
   "execution_count": null,
   "id": "hazardous-rapid",
   "metadata": {},
   "outputs": [],
   "source": [
    "padded_docs[0]"
   ]
  },
  {
   "cell_type": "code",
   "execution_count": null,
   "id": "million-roommate",
   "metadata": {},
   "outputs": [],
   "source": []
  }
 ],
 "metadata": {
  "kernelspec": {
   "display_name": "Python 3",
   "language": "python",
   "name": "python3"
  },
  "language_info": {
   "codemirror_mode": {
    "name": "ipython",
    "version": 3
   },
   "file_extension": ".py",
   "mimetype": "text/x-python",
   "name": "python",
   "nbconvert_exporter": "python",
   "pygments_lexer": "ipython3",
   "version": "3.7.1"
  }
 },
 "nbformat": 4,
 "nbformat_minor": 5
}
