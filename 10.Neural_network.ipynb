{
 "cells": [
  {
   "cell_type": "code",
   "execution_count": 1,
   "id": "written-colorado",
   "metadata": {},
   "outputs": [],
   "source": [
    "from tensorflow.keras.models import Sequential\n",
    "\n",
    "model = Sequential()"
   ]
  },
  {
   "cell_type": "code",
   "execution_count": 2,
   "id": "continuing-attention",
   "metadata": {},
   "outputs": [],
   "source": [
    "from tensorflow.keras.layers import Dense\n",
    "\n",
    "model.add(Dense(units=12, activation='relu'))\n",
    "model.add(Dense(units=8, activation='relu'))\n",
    "model.add(Dense(units=1, activation='softmax'))"
   ]
  },
  {
   "cell_type": "code",
   "execution_count": 3,
   "id": "irish-territory",
   "metadata": {},
   "outputs": [],
   "source": [
    "model.compile(loss='binary_crossentropy',\n",
    "              optimizer='adam',\n",
    "              metrics=['accuracy'])"
   ]
  },
  {
   "cell_type": "code",
   "execution_count": 4,
   "id": "funky-contractor",
   "metadata": {},
   "outputs": [],
   "source": [
    "from sklearn.datasets import make_circles\n",
    "\n",
    "X, targets = make_circles(n_samples = 1000, factor=0.1)\n",
    "X_training = X[250:, :]\n",
    "X_testing = X[:250, :]\n",
    "Targets_training = targets[250:]\n",
    "Targets_testing = targets[:250]"
   ]
  },
  {
   "cell_type": "code",
   "execution_count": 5,
   "id": "legendary-peeing",
   "metadata": {},
   "outputs": [
    {
     "data": {
      "image/png": "[encoded data removed]",
      "text/plain": [
       "<Figure size 432x288 with 1 Axes>"
      ]
     },
     "metadata": {
      "needs_background": "light"
     },
     "output_type": "display_data"
    }
   ],
   "source": [
    "import matplotlib.pyplot as plt\n",
    "plt.scatter(X_training[:,0], X_training[:,1], Targets_training == 0, color='red')\n",
    "plt.scatter(X_training[:,0], X_training[:,1], Targets_training == 1, color='blue')\n",
    "\n",
    "plt.xlabel('X1')\n",
    "plt.ylabel('X2')\n",
    "plt.show()"
   ]
  },
  {
   "cell_type": "code",
   "execution_count": 6,
   "id": "contemporary-involvement",
   "metadata": {},
   "outputs": [
    {
     "name": "stdout",
     "output_type": "stream",
     "text": [
      "Epoch 1/30\n",
      "150/150 [==============================] - 0s 543us/step - loss: 0.6780 - accuracy: 0.4853\n",
      "Epoch 2/30\n",
      "150/150 [==============================] - 0s 584us/step - loss: 0.5360 - accuracy: 0.4853\n",
      "Epoch 3/30\n",
      "150/150 [==============================] - 0s 553us/step - loss: 0.3650 - accuracy: 0.4853\n",
      "Epoch 4/30\n",
      "150/150 [==============================] - 0s 615us/step - loss: 0.2029 - accuracy: 0.4853\n",
      "Epoch 5/30\n",
      "150/150 [==============================] - 0s 507us/step - loss: 0.0989 - accuracy: 0.4853\n",
      "Epoch 6/30\n",
      "150/150 [==============================] - 0s 601us/step - loss: 0.0509 - accuracy: 0.4853\n",
      "Epoch 7/30\n",
      "150/150 [==============================] - 0s 512us/step - loss: 0.0297 - accuracy: 0.4853\n",
      "Epoch 8/30\n",
      "150/150 [==============================] - 0s 597us/step - loss: 0.0189 - accuracy: 0.4853\n",
      "Epoch 9/30\n",
      "150/150 [==============================] - 0s 617us/step - loss: 0.0129 - accuracy: 0.4853\n",
      "Epoch 10/30\n",
      "150/150 [==============================] - 0s 529us/step - loss: 0.0093 - accuracy: 0.4853\n",
      "Epoch 11/30\n",
      "150/150 [==============================] - 0s 580us/step - loss: 0.0070 - accuracy: 0.4853\n",
      "Epoch 12/30\n",
      "150/150 [==============================] - 0s 824us/step - loss: 0.0054 - accuracy: 0.4853\n",
      "Epoch 13/30\n",
      "150/150 [==============================] - 0s 533us/step - loss: 0.0042 - accuracy: 0.4853\n",
      "Epoch 14/30\n",
      "150/150 [==============================] - 0s 555us/step - loss: 0.0034 - accuracy: 0.4853\n",
      "Epoch 15/30\n",
      "150/150 [==============================] - 0s 578us/step - loss: 0.0028 - accuracy: 0.4853\n",
      "Epoch 16/30\n",
      "150/150 [==============================] - 0s 594us/step - loss: 0.0023 - accuracy: 0.4853\n",
      "Epoch 17/30\n",
      "150/150 [==============================] - 0s 568us/step - loss: 0.0019 - accuracy: 0.4853\n",
      "Epoch 18/30\n",
      "150/150 [==============================] - 0s 563us/step - loss: 0.0016 - accuracy: 0.4853\n",
      "Epoch 19/30\n",
      "150/150 [==============================] - 0s 560us/step - loss: 0.0014 - accuracy: 0.4853\n",
      "Epoch 20/30\n",
      "150/150 [==============================] - 0s 535us/step - loss: 0.0012 - accuracy: 0.4853\n",
      "Epoch 21/30\n",
      "150/150 [==============================] - 0s 535us/step - loss: 0.0010 - accuracy: 0.4853\n",
      "Epoch 22/30\n",
      "150/150 [==============================] - 0s 571us/step - loss: 8.9293e-04 - accuracy: 0.4853\n",
      "Epoch 23/30\n",
      "150/150 [==============================] - 0s 561us/step - loss: 7.7852e-04 - accuracy: 0.4853\n",
      "Epoch 24/30\n",
      "150/150 [==============================] - 0s 579us/step - loss: 6.8213e-04 - accuracy: 0.4853\n",
      "Epoch 25/30\n",
      "150/150 [==============================] - 0s 592us/step - loss: 6.0013e-04 - accuracy: 0.4853\n",
      "Epoch 26/30\n",
      "150/150 [==============================] - 0s 594us/step - loss: 5.2932e-04 - accuracy: 0.4853\n",
      "Epoch 27/30\n",
      "150/150 [==============================] - 0s 616us/step - loss: 4.6880e-04 - accuracy: 0.4853\n",
      "Epoch 28/30\n",
      "150/150 [==============================] - 0s 622us/step - loss: 4.1594e-04 - accuracy: 0.4853\n",
      "Epoch 29/30\n",
      "150/150 [==============================] - 0s 688us/step - loss: 3.7011e-04 - accuracy: 0.4853\n",
      "Epoch 30/30\n",
      "150/150 [==============================] - 0s 599us/step - loss: 3.3026e-04 - accuracy: 0.4853\n"
     ]
    }
   ],
   "source": [
    "history = model.fit(X_training, Targets_training, epochs=30, batch_size=5)"
   ]
  },
  {
   "cell_type": "code",
   "execution_count": 7,
   "id": "fourth-correlation",
   "metadata": {},
   "outputs": [
    {
     "name": "stdout",
     "output_type": "stream",
     "text": [
      "8/8 [==============================] - 0s 855us/step - loss: 3.1660e-04 - accuracy: 0.5440\n",
      "[0.00031660188687965274, 0.5440000295639038]\n"
     ]
    }
   ],
   "source": [
    "test_results = model.evaluate(X_testing, Targets_testing, verbose=1)\n",
    "print(test_results)"
   ]
  },
  {
   "cell_type": "code",
   "execution_count": 8,
   "id": "photographic-liver",
   "metadata": {},
   "outputs": [],
   "source": [
    "import tensorflow as tf\n",
    "from tensorflow import keras\n",
    "import matplotlib.pyplot as plt"
   ]
  },
  {
   "cell_type": "code",
   "execution_count": 9,
   "id": "professional-rough",
   "metadata": {},
   "outputs": [],
   "source": [
    "fashion_mnist = keras.datasets.fashion_mnist\n",
    "(X_train_full, y_train_full), (X_test, y_test) = fashion_mnist.load_data()"
   ]
  },
  {
   "cell_type": "code",
   "execution_count": 10,
   "id": "constant-pollution",
   "metadata": {},
   "outputs": [
    {
     "data": {
      "text/plain": [
       "(60000, 28, 28)"
      ]
     },
     "execution_count": 10,
     "metadata": {},
     "output_type": "execute_result"
    }
   ],
   "source": [
    "X_train_full.shape"
   ]
  },
  {
   "cell_type": "code",
   "execution_count": 11,
   "id": "clear-session",
   "metadata": {},
   "outputs": [
    {
     "data": {
      "text/plain": [
       "(60000,)"
      ]
     },
     "execution_count": 11,
     "metadata": {},
     "output_type": "execute_result"
    }
   ],
   "source": [
    "y_train_full.shape"
   ]
  },
  {
   "cell_type": "code",
   "execution_count": 12,
   "id": "ahead-tractor",
   "metadata": {},
   "outputs": [
    {
     "data": {
      "text/plain": [
       "array([9, 0, 0, ..., 3, 0, 5], dtype=uint8)"
      ]
     },
     "execution_count": 12,
     "metadata": {},
     "output_type": "execute_result"
    }
   ],
   "source": [
    "y_train_full"
   ]
  },
  {
   "cell_type": "code",
   "execution_count": 13,
   "id": "several-sleeping",
   "metadata": {},
   "outputs": [],
   "source": [
    "X_valid, X_train = X_train_full[:5000] / 255., X_train_full[5000:] / 255.\n",
    "y_valid, y_train = y_train_full[:5000], y_train_full[5000:]\n",
    "X_test = X_test / 255."
   ]
  },
  {
   "cell_type": "code",
   "execution_count": 14,
   "id": "governmental-carry",
   "metadata": {},
   "outputs": [
    {
     "data": {
      "image/png": "[encoded data removed]",
      "text/plain": [
       "<Figure size 432x288 with 1 Axes>"
      ]
     },
     "metadata": {
      "needs_background": "light"
     },
     "output_type": "display_data"
    }
   ],
   "source": [
    "plt.imshow(X_train[0], cmap=\"binary\")\n",
    "plt.axis('off')\n",
    "plt.show()"
   ]
  },
  {
   "cell_type": "code",
   "execution_count": 15,
   "id": "absolute-effort",
   "metadata": {},
   "outputs": [
    {
     "data": {
      "text/plain": [
       "array([4, 0, 7, ..., 3, 0, 5], dtype=uint8)"
      ]
     },
     "execution_count": 15,
     "metadata": {},
     "output_type": "execute_result"
    }
   ],
   "source": [
    "y_train"
   ]
  },
  {
   "cell_type": "code",
   "execution_count": 16,
   "id": "bored-reset",
   "metadata": {},
   "outputs": [],
   "source": [
    "class_names = [\"T-shirt/top\", \"Trouser\", \"Pullover\", \"Dress\", \"Coat\",\n",
    "               \"Sandal\", \"Shirt\", \"Sneaker\", \"Bag\", \"Ankle boot\"]"
   ]
  },
  {
   "cell_type": "code",
   "execution_count": 17,
   "id": "crazy-chain",
   "metadata": {},
   "outputs": [],
   "source": [
    "# 두 개의 은닉층이 있는 분류용 다층 퍼셉트론 \n",
    "model = keras.models.Sequential()\n",
    "model.add(keras.layers.Flatten(input_shape=[28, 28]))\n",
    "model.add(keras.layers.Dense(300, activation=\"relu\"))\n",
    "model.add(keras.layers.Dense(100, activation=\"relu\"))\n",
    "model.add(keras.layers.Dense(10, activation=\"softmax\"))"
   ]
  },
  {
   "cell_type": "code",
   "execution_count": 18,
   "id": "innocent-spirituality",
   "metadata": {},
   "outputs": [],
   "source": [
    "# 혹은 아래와 같이 표현할 수도 있다.\n",
    "\n",
    "model = keras.models.Sequential([\n",
    "    keras.layers.Flatten(input_shape=[28, 28]),\n",
    "    keras.layers.Dense(300, activation=\"relu\"),\n",
    "    keras.layers.Dense(100, activation=\"relu\"),\n",
    "    keras.layers.Dense(10, activation=\"softmax\")\n",
    "])"
   ]
  },
  {
   "cell_type": "code",
   "execution_count": 19,
   "id": "official-devil",
   "metadata": {},
   "outputs": [
    {
     "data": {
      "text/plain": [
       "[<tensorflow.python.keras.layers.core.Flatten at 0x11d31954be0>,\n",
       " <tensorflow.python.keras.layers.core.Dense at 0x11d31936ac8>,\n",
       " <tensorflow.python.keras.layers.core.Dense at 0x11d318be978>,\n",
       " <tensorflow.python.keras.layers.core.Dense at 0x11d325aeb70>]"
      ]
     },
     "execution_count": 19,
     "metadata": {},
     "output_type": "execute_result"
    }
   ],
   "source": [
    "model.layers"
   ]
  },
  {
   "cell_type": "code",
   "execution_count": 20,
   "id": "sharing-export",
   "metadata": {},
   "outputs": [
    {
     "name": "stdout",
     "output_type": "stream",
     "text": [
      "Model: \"sequential_2\"\n",
      "_________________________________________________________________\n",
      "Layer (type)                 Output Shape              Param #   \n",
      "=================================================================\n",
      "flatten_1 (Flatten)          (None, 784)               0         \n",
      "_________________________________________________________________\n",
      "dense_6 (Dense)              (None, 300)               235500    \n",
      "_________________________________________________________________\n",
      "dense_7 (Dense)              (None, 100)               30100     \n",
      "_________________________________________________________________\n",
      "dense_8 (Dense)              (None, 10)                1010      \n",
      "=================================================================\n",
      "Total params: 266,610\n",
      "Trainable params: 266,610\n",
      "Non-trainable params: 0\n",
      "_________________________________________________________________\n"
     ]
    }
   ],
   "source": [
    "model.summary()"
   ]
  },
  {
   "cell_type": "code",
   "execution_count": 21,
   "id": "knowing-confusion",
   "metadata": {},
   "outputs": [
    {
     "name": "stdout",
     "output_type": "stream",
     "text": [
      "('You must install pydot (`pip install pydot`) and install graphviz (see instructions at https://graphviz.gitlab.io/download/) ', 'for plot_model/model_to_dot to work.')\n"
     ]
    }
   ],
   "source": [
    "keras.utils.plot_model(model, \"my_fashion_mnist_model.png\", show_shapes=True)"
   ]
  },
  {
   "cell_type": "code",
   "execution_count": 22,
   "id": "verbal-pension",
   "metadata": {},
   "outputs": [
    {
     "data": {
      "text/plain": [
       "array([[ 0.07040693,  0.02706887,  0.01191366, ...,  0.04290716,\n",
       "        -0.02174354,  0.01191775],\n",
       "       [-0.0379065 ,  0.05071688,  0.00347598, ..., -0.02467633,\n",
       "        -0.01027492, -0.04472186],\n",
       "       [-0.06971766,  0.04039605, -0.07319082, ..., -0.05267541,\n",
       "        -0.05604764, -0.00273778],\n",
       "       ...,\n",
       "       [ 0.01218319,  0.0304298 , -0.06116831, ...,  0.0515957 ,\n",
       "        -0.05279821, -0.00675702],\n",
       "       [ 0.07335426, -0.047668  ,  0.01102718, ..., -0.03552113,\n",
       "        -0.05171005, -0.06658989],\n",
       "       [ 0.02111597, -0.00506879,  0.06767486, ..., -0.03235539,\n",
       "        -0.01614228,  0.00968631]], dtype=float32)"
      ]
     },
     "execution_count": 22,
     "metadata": {},
     "output_type": "execute_result"
    }
   ],
   "source": [
    "weights, biases = model.layers[1].get_weights()\n",
    "weights"
   ]
  },
  {
   "cell_type": "code",
   "execution_count": 23,
   "id": "rapid-difficulty",
   "metadata": {},
   "outputs": [],
   "source": [
    "model.compile(loss=\"sparse_categorical_crossentropy\",\n",
    "              optimizer=\"sgd\",\n",
    "              metrics=[\"accuracy\"])"
   ]
  },
  {
   "cell_type": "code",
   "execution_count": 24,
   "id": "lasting-rebecca",
   "metadata": {},
   "outputs": [
    {
     "name": "stdout",
     "output_type": "stream",
     "text": [
      "Epoch 1/30\n",
      "1719/1719 [==============================] - 3s 2ms/step - loss: 0.7218 - accuracy: 0.7662 - val_loss: 0.5129 - val_accuracy: 0.8294\n",
      "Epoch 2/30\n",
      "1719/1719 [==============================] - 2s 1ms/step - loss: 0.4926 - accuracy: 0.8284 - val_loss: 0.4943 - val_accuracy: 0.8350\n",
      "Epoch 3/30\n",
      "1719/1719 [==============================] - 2s 1ms/step - loss: 0.4455 - accuracy: 0.8428 - val_loss: 0.4638 - val_accuracy: 0.8352\n",
      "Epoch 4/30\n",
      "1719/1719 [==============================] - 2s 1ms/step - loss: 0.4186 - accuracy: 0.8523 - val_loss: 0.3936 - val_accuracy: 0.8674\n",
      "Epoch 5/30\n",
      "1719/1719 [==============================] - 2s 1ms/step - loss: 0.3982 - accuracy: 0.8598 - val_loss: 0.3992 - val_accuracy: 0.8638\n",
      "Epoch 6/30\n",
      "1719/1719 [==============================] - 2s 1ms/step - loss: 0.3809 - accuracy: 0.8654 - val_loss: 0.3793 - val_accuracy: 0.8676\n",
      "Epoch 7/30\n",
      "1719/1719 [==============================] - 2s 1ms/step - loss: 0.3674 - accuracy: 0.8698 - val_loss: 0.3594 - val_accuracy: 0.8742\n",
      "Epoch 8/30\n",
      "1719/1719 [==============================] - 2s 1ms/step - loss: 0.3557 - accuracy: 0.8735 - val_loss: 0.3562 - val_accuracy: 0.8776\n",
      "Epoch 9/30\n",
      "1719/1719 [==============================] - 2s 1ms/step - loss: 0.3455 - accuracy: 0.8762 - val_loss: 0.3545 - val_accuracy: 0.8792\n",
      "Epoch 10/30\n",
      "1719/1719 [==============================] - 2s 1ms/step - loss: 0.3364 - accuracy: 0.8802 - val_loss: 0.3476 - val_accuracy: 0.8748\n",
      "Epoch 11/30\n",
      "1719/1719 [==============================] - 2s 1ms/step - loss: 0.3270 - accuracy: 0.8831 - val_loss: 0.3420 - val_accuracy: 0.8790\n",
      "Epoch 12/30\n",
      "1719/1719 [==============================] - 2s 1ms/step - loss: 0.3195 - accuracy: 0.8855 - val_loss: 0.3319 - val_accuracy: 0.8848\n",
      "Epoch 13/30\n",
      "1719/1719 [==============================] - 2s 1ms/step - loss: 0.3119 - accuracy: 0.8888 - val_loss: 0.3265 - val_accuracy: 0.8872\n",
      "Epoch 14/30\n",
      "1719/1719 [==============================] - 2s 1ms/step - loss: 0.3063 - accuracy: 0.8896 - val_loss: 0.3214 - val_accuracy: 0.8842\n",
      "Epoch 15/30\n",
      "1719/1719 [==============================] - 2s 1ms/step - loss: 0.2998 - accuracy: 0.8919 - val_loss: 0.3246 - val_accuracy: 0.8854\n",
      "Epoch 16/30\n",
      "1719/1719 [==============================] - 2s 1ms/step - loss: 0.2933 - accuracy: 0.8940 - val_loss: 0.3230 - val_accuracy: 0.8854\n",
      "Epoch 17/30\n",
      "1719/1719 [==============================] - 2s 1ms/step - loss: 0.2879 - accuracy: 0.8962 - val_loss: 0.3118 - val_accuracy: 0.8878\n",
      "Epoch 18/30\n",
      "1719/1719 [==============================] - 3s 1ms/step - loss: 0.2812 - accuracy: 0.8965 - val_loss: 0.3285 - val_accuracy: 0.8836\n",
      "Epoch 19/30\n",
      "1719/1719 [==============================] - 2s 1ms/step - loss: 0.2766 - accuracy: 0.8997 - val_loss: 0.3132 - val_accuracy: 0.8882\n",
      "Epoch 20/30\n",
      "1719/1719 [==============================] - 2s 1ms/step - loss: 0.2707 - accuracy: 0.9021 - val_loss: 0.3206 - val_accuracy: 0.8856\n",
      "Epoch 21/30\n",
      "1719/1719 [==============================] - 2s 1ms/step - loss: 0.2658 - accuracy: 0.9038 - val_loss: 0.3129 - val_accuracy: 0.8880\n",
      "Epoch 22/30\n",
      "1719/1719 [==============================] - 3s 1ms/step - loss: 0.2621 - accuracy: 0.9051 - val_loss: 0.3031 - val_accuracy: 0.8902\n",
      "Epoch 23/30\n",
      "1719/1719 [==============================] - 2s 1ms/step - loss: 0.2570 - accuracy: 0.9073 - val_loss: 0.3170 - val_accuracy: 0.8848\n",
      "Epoch 24/30\n",
      "1719/1719 [==============================] - 2s 1ms/step - loss: 0.2527 - accuracy: 0.9097 - val_loss: 0.3136 - val_accuracy: 0.8870\n",
      "Epoch 25/30\n",
      "1719/1719 [==============================] - 2s 1ms/step - loss: 0.2488 - accuracy: 0.9102 - val_loss: 0.2981 - val_accuracy: 0.8944\n",
      "Epoch 26/30\n",
      "1719/1719 [==============================] - 2s 1ms/step - loss: 0.2445 - accuracy: 0.9122 - val_loss: 0.3013 - val_accuracy: 0.8900\n",
      "Epoch 27/30\n",
      "1719/1719 [==============================] - 2s 1ms/step - loss: 0.2409 - accuracy: 0.9144 - val_loss: 0.3248 - val_accuracy: 0.8864\n",
      "Epoch 28/30\n",
      "1719/1719 [==============================] - 2s 1ms/step - loss: 0.2366 - accuracy: 0.9148 - val_loss: 0.3162 - val_accuracy: 0.8844\n",
      "Epoch 29/30\n",
      "1719/1719 [==============================] - 2s 1ms/step - loss: 0.2321 - accuracy: 0.9165 - val_loss: 0.3282 - val_accuracy: 0.8844\n",
      "Epoch 30/30\n",
      "1719/1719 [==============================] - 2s 1ms/step - loss: 0.2291 - accuracy: 0.9168 - val_loss: 0.3204 - val_accuracy: 0.8866\n"
     ]
    }
   ],
   "source": [
    "# 신경망 훈련\n",
    "history = model.fit(X_train, y_train, epochs=30,\n",
    "                    validation_data=(X_valid, y_valid))"
   ]
  },
  {
   "cell_type": "code",
   "execution_count": 25,
   "id": "modern-bearing",
   "metadata": {},
   "outputs": [
    {
     "data": {
      "text/plain": [
       "{'verbose': 1, 'epochs': 30, 'steps': 1719}"
      ]
     },
     "execution_count": 25,
     "metadata": {},
     "output_type": "execute_result"
    }
   ],
   "source": [
    "history.params"
   ]
  },
  {
   "cell_type": "code",
   "execution_count": 26,
   "id": "cleared-dallas",
   "metadata": {},
   "outputs": [
    {
     "data": {
      "text/plain": [
       "<tensorflow.python.keras.callbacks.History at 0x11d33855b70>"
      ]
     },
     "execution_count": 26,
     "metadata": {},
     "output_type": "execute_result"
    }
   ],
   "source": [
    "history"
   ]
  },
  {
   "cell_type": "code",
   "execution_count": 27,
   "id": "ordinary-mouth",
   "metadata": {},
   "outputs": [
    {
     "data": {
      "image/png": "[encoded data removed]",
      "text/plain": [
       "<Figure size 576x360 with 1 Axes>"
      ]
     },
     "metadata": {
      "needs_background": "light"
     },
     "output_type": "display_data"
    }
   ],
   "source": [
    "import pandas as pd\n",
    "\n",
    "pd.DataFrame(history.history).plot(figsize=(8, 5))\n",
    "plt.grid(True)\n",
    "plt.gca().set_ylim(0, 1)\n",
    "plt.show()"
   ]
  },
  {
   "cell_type": "code",
   "execution_count": 28,
   "id": "interim-astrology",
   "metadata": {},
   "outputs": [
    {
     "name": "stdout",
     "output_type": "stream",
     "text": [
      "313/313 [==============================] - 0s 880us/step - loss: 0.3519 - accuracy: 0.8726\n"
     ]
    },
    {
     "data": {
      "text/plain": [
       "[0.3518993556499481, 0.8726000189781189]"
      ]
     },
     "execution_count": 28,
     "metadata": {},
     "output_type": "execute_result"
    }
   ],
   "source": [
    "model.evaluate(X_test, y_test)"
   ]
  },
  {
   "cell_type": "code",
   "execution_count": 29,
   "id": "entire-liabilities",
   "metadata": {},
   "outputs": [
    {
     "data": {
      "text/plain": [
       "array([[0.        , 0.        , 0.        , 0.        , 0.        ,\n",
       "        0.        , 0.        , 0.        , 0.00392157, 0.        ,\n",
       "        0.2627451 , 0.69411765, 0.50588235, 0.6       , 0.45882353,\n",
       "        0.50588235, 0.57254902, 0.55294118, 0.68627451, 0.        ,\n",
       "        0.        , 0.        , 0.        , 0.        , 0.        ,\n",
       "        0.        , 0.        , 0.        ],\n",
       "       [0.        , 0.        , 0.        , 0.        , 0.        ,\n",
       "        0.        , 0.        , 0.        , 0.00784314, 0.        ,\n",
       "        0.76862745, 1.        , 1.        , 1.        , 0.94509804,\n",
       "        0.98431373, 1.        , 0.96078431, 1.        , 0.29803922,\n",
       "        0.        , 0.        , 0.        , 0.        , 0.        ,\n",
       "        0.        , 0.        , 0.        ],\n",
       "       [0.        , 0.        , 0.        , 0.        , 0.        ,\n",
       "        0.        , 0.        , 0.        , 0.        , 0.        ,\n",
       "        0.95294118, 0.92941176, 0.85098039, 0.89411765, 0.90588235,\n",
       "        0.87058824, 0.85490196, 0.85882353, 1.        , 0.45490196,\n",
       "        0.        , 0.        , 0.        , 0.        , 0.        ,\n",
       "        0.        , 0.        , 0.        ],\n",
       "       [0.        , 0.        , 0.        , 0.        , 0.        ,\n",
       "        0.        , 0.        , 0.        , 0.        , 0.        ,\n",
       "        1.        , 0.92156863, 0.90588235, 0.91372549, 0.88627451,\n",
       "        0.88235294, 0.89803922, 0.87058824, 1.        , 0.56862745,\n",
       "        0.        , 0.        , 0.        , 0.        , 0.        ,\n",
       "        0.        , 0.        , 0.        ],\n",
       "       [0.        , 0.        , 0.        , 0.        , 0.        ,\n",
       "        0.        , 0.        , 0.        , 0.        , 0.09019608,\n",
       "        1.        , 0.90196078, 0.89803922, 0.91372549, 0.89803922,\n",
       "        0.88235294, 0.89019608, 0.86666667, 0.94509804, 0.65490196,\n",
       "        0.        , 0.        , 0.        , 0.        , 0.        ,\n",
       "        0.        , 0.        , 0.        ],\n",
       "       [0.        , 0.        , 0.        , 0.        , 0.        ,\n",
       "        0.        , 0.        , 0.        , 0.        , 0.2627451 ,\n",
       "        1.        , 0.88235294, 0.91764706, 0.90588235, 0.88627451,\n",
       "        0.89019608, 0.89411765, 0.87843137, 0.91764706, 0.73333333,\n",
       "        0.        , 0.        , 0.        , 0.        , 0.        ,\n",
       "        0.        , 0.        , 0.        ],\n",
       "       [0.        , 0.        , 0.        , 0.        , 0.        ,\n",
       "        0.        , 0.        , 0.        , 0.        , 0.44705882,\n",
       "        0.97647059, 0.85098039, 0.92156863, 0.93333333, 0.96078431,\n",
       "        0.89019608, 0.89019608, 0.88235294, 0.94509804, 0.69019608,\n",
       "        0.        , 0.        , 0.        , 0.        , 0.        ,\n",
       "        0.        , 0.        , 0.        ],\n",
       "       [0.        , 0.        , 0.        , 0.        , 0.        ,\n",
       "        0.        , 0.        , 0.        , 0.        , 0.65490196,\n",
       "        0.96862745, 0.89019608, 0.90588235, 0.98039216, 0.78431373,\n",
       "        0.97254902, 0.90588235, 0.87843137, 0.98431373, 0.57647059,\n",
       "        0.        , 0.        , 0.        , 0.        , 0.        ,\n",
       "        0.        , 0.        , 0.        ],\n",
       "       [0.        , 0.        , 0.        , 0.        , 0.        ,\n",
       "        0.        , 0.        , 0.        , 0.        , 0.81568627,\n",
       "        0.94901961, 0.88235294, 0.95294118, 0.88235294, 0.        ,\n",
       "        1.        , 0.91372549, 0.88627451, 1.        , 0.50588235,\n",
       "        0.        , 0.        , 0.        , 0.        , 0.        ,\n",
       "        0.        , 0.        , 0.        ],\n",
       "       [0.        , 0.        , 0.        , 0.        , 0.        ,\n",
       "        0.        , 0.        , 0.        , 0.        , 0.8745098 ,\n",
       "        0.93333333, 0.8745098 , 1.        , 0.63137255, 0.        ,\n",
       "        1.        , 0.9254902 , 0.8745098 , 1.        , 0.52941176,\n",
       "        0.        , 0.        , 0.        , 0.        , 0.        ,\n",
       "        0.        , 0.        , 0.        ],\n",
       "       [0.        , 0.        , 0.        , 0.        , 0.        ,\n",
       "        0.        , 0.        , 0.        , 0.        , 0.96078431,\n",
       "        0.92156863, 0.87058824, 1.        , 0.28235294, 0.        ,\n",
       "        0.97254902, 0.99607843, 0.85098039, 1.        , 0.56862745,\n",
       "        0.        , 0.        , 0.        , 0.        , 0.        ,\n",
       "        0.        , 0.        , 0.        ],\n",
       "       [0.        , 0.        , 0.        , 0.        , 0.        ,\n",
       "        0.        , 0.        , 0.        , 0.        , 1.        ,\n",
       "        0.91372549, 0.88627451, 1.        , 0.02745098, 0.        ,\n",
       "        0.74901961, 0.97254902, 0.8627451 , 1.        , 0.49411765,\n",
       "        0.        , 0.        , 0.        , 0.        , 0.        ,\n",
       "        0.        , 0.        , 0.        ],\n",
       "       [0.        , 0.        , 0.        , 0.        , 0.        ,\n",
       "        0.        , 0.        , 0.        , 0.        , 1.        ,\n",
       "        0.91372549, 0.90588235, 0.98431373, 0.        , 0.        ,\n",
       "        0.62352941, 0.98431373, 0.86666667, 1.        , 0.43529412,\n",
       "        0.        , 0.        , 0.        , 0.        , 0.        ,\n",
       "        0.        , 0.        , 0.        ],\n",
       "       [0.        , 0.        , 0.        , 0.        , 0.        ,\n",
       "        0.        , 0.        , 0.        , 0.        , 1.        ,\n",
       "        0.90980392, 0.9254902 , 0.84705882, 0.        , 0.        ,\n",
       "        0.51372549, 0.99215686, 0.8627451 , 1.        , 0.43529412,\n",
       "        0.        , 0.        , 0.        , 0.        , 0.        ,\n",
       "        0.        , 0.        , 0.        ],\n",
       "       [0.        , 0.        , 0.        , 0.        , 0.        ,\n",
       "        0.        , 0.        , 0.        , 0.        , 1.        ,\n",
       "        0.89411765, 0.95294118, 0.6745098 , 0.        , 0.        ,\n",
       "        0.22352941, 0.97647059, 0.87058824, 1.        , 0.43529412,\n",
       "        0.        , 0.        , 0.        , 0.        , 0.        ,\n",
       "        0.        , 0.        , 0.        ],\n",
       "       [0.        , 0.        , 0.        , 0.        , 0.        ,\n",
       "        0.        , 0.        , 0.        , 0.        , 1.        ,\n",
       "        0.90196078, 0.95686275, 0.54509804, 0.        , 0.        ,\n",
       "        0.03921569, 1.        , 0.89019608, 1.        , 0.39215686,\n",
       "        0.        , 0.        , 0.        , 0.        , 0.        ,\n",
       "        0.        , 0.        , 0.        ],\n",
       "       [0.        , 0.        , 0.        , 0.        , 0.        ,\n",
       "        0.        , 0.        , 0.        , 0.        , 0.89019608,\n",
       "        0.92941176, 0.94901961, 0.44313725, 0.        , 0.        ,\n",
       "        0.02352941, 1.        , 0.90196078, 1.        , 0.34901961,\n",
       "        0.        , 0.        , 0.        , 0.        , 0.        ,\n",
       "        0.        , 0.        , 0.        ],\n",
       "       [0.        , 0.        , 0.        , 0.        , 0.        ,\n",
       "        0.        , 0.        , 0.        , 0.        , 0.8       ,\n",
       "        0.9372549 , 0.96078431, 0.59215686, 0.        , 0.        ,\n",
       "        0.        , 1.        , 0.89019608, 1.        , 0.38823529,\n",
       "        0.        , 0.        , 0.        , 0.        , 0.        ,\n",
       "        0.        , 0.        , 0.        ],\n",
       "       [0.        , 0.        , 0.        , 0.        , 0.        ,\n",
       "        0.        , 0.        , 0.        , 0.        , 0.59215686,\n",
       "        0.96078431, 0.93333333, 0.77647059, 0.        , 0.        ,\n",
       "        0.        , 1.        , 0.91764706, 1.        , 0.36078431,\n",
       "        0.        , 0.        , 0.        , 0.        , 0.        ,\n",
       "        0.        , 0.        , 0.        ],\n",
       "       [0.        , 0.        , 0.        , 0.        , 0.        ,\n",
       "        0.        , 0.        , 0.        , 0.        , 0.34901961,\n",
       "        0.97254902, 0.91372549, 0.97254902, 0.        , 0.        ,\n",
       "        0.        , 0.98823529, 0.92941176, 1.        , 0.35294118,\n",
       "        0.        , 0.        , 0.        , 0.        , 0.        ,\n",
       "        0.        , 0.        , 0.        ],\n",
       "       [0.        , 0.        , 0.        , 0.        , 0.        ,\n",
       "        0.        , 0.        , 0.        , 0.        , 0.12156863,\n",
       "        0.94117647, 0.89803922, 0.88627451, 0.        , 0.        ,\n",
       "        0.        , 0.9372549 , 0.93333333, 1.        , 0.36078431,\n",
       "        0.        , 0.        , 0.        , 0.        , 0.        ,\n",
       "        0.        , 0.        , 0.        ],\n",
       "       [0.        , 0.        , 0.        , 0.        , 0.        ,\n",
       "        0.        , 0.        , 0.        , 0.        , 0.        ,\n",
       "        0.88627451, 0.91372549, 0.92941176, 0.13333333, 0.        ,\n",
       "        0.        , 0.91764706, 0.93333333, 1.        , 0.37254902,\n",
       "        0.        , 0.        , 0.        , 0.        , 0.        ,\n",
       "        0.        , 0.        , 0.        ],\n",
       "       [0.        , 0.        , 0.        , 0.        , 0.        ,\n",
       "        0.        , 0.        , 0.        , 0.        , 0.        ,\n",
       "        0.91372549, 0.9254902 , 0.95686275, 0.26666667, 0.        ,\n",
       "        0.        , 0.81960784, 0.94509804, 0.92941176, 0.38431373,\n",
       "        0.        , 0.        , 0.        , 0.        , 0.        ,\n",
       "        0.        , 0.        , 0.        ],\n",
       "       [0.        , 0.        , 0.        , 0.        , 0.        ,\n",
       "        0.        , 0.        , 0.        , 0.00392157, 0.        ,\n",
       "        0.59607843, 0.94901961, 0.96078431, 0.50196078, 0.        ,\n",
       "        0.        , 0.77647059, 0.94509804, 0.93333333, 0.31764706,\n",
       "        0.        , 0.        , 0.        , 0.        , 0.        ,\n",
       "        0.        , 0.        , 0.        ],\n",
       "       [0.        , 0.        , 0.        , 0.        , 0.        ,\n",
       "        0.        , 0.        , 0.        , 0.00784314, 0.        ,\n",
       "        0.28627451, 0.96470588, 0.94509804, 0.82745098, 0.        ,\n",
       "        0.        , 0.79215686, 0.94117647, 0.92941176, 0.29019608,\n",
       "        0.        , 0.        , 0.        , 0.        , 0.        ,\n",
       "        0.        , 0.        , 0.        ],\n",
       "       [0.        , 0.        , 0.        , 0.        , 0.        ,\n",
       "        0.        , 0.        , 0.        , 0.01568627, 0.        ,\n",
       "        0.        , 0.89803922, 0.9254902 , 0.81960784, 0.        ,\n",
       "        0.        , 0.61960784, 0.96862745, 0.93333333, 0.38823529,\n",
       "        0.        , 0.        , 0.        , 0.        , 0.        ,\n",
       "        0.        , 0.        , 0.        ],\n",
       "       [0.        , 0.        , 0.        , 0.        , 0.        ,\n",
       "        0.        , 0.        , 0.        , 0.00392157, 0.        ,\n",
       "        0.        , 0.78039216, 1.        , 0.96862745, 0.22745098,\n",
       "        0.        , 0.63137255, 1.        , 0.98823529, 0.46666667,\n",
       "        0.        , 0.        , 0.        , 0.        , 0.        ,\n",
       "        0.        , 0.        , 0.        ],\n",
       "       [0.        , 0.        , 0.        , 0.        , 0.        ,\n",
       "        0.        , 0.        , 0.        , 0.        , 0.        ,\n",
       "        0.        , 0.38431373, 0.62352941, 0.27843137, 0.        ,\n",
       "        0.        , 0.26666667, 0.69019608, 0.64313725, 0.22745098,\n",
       "        0.        , 0.        , 0.        , 0.        , 0.        ,\n",
       "        0.        , 0.        , 0.        ]])"
      ]
     },
     "execution_count": 29,
     "metadata": {},
     "output_type": "execute_result"
    }
   ],
   "source": [
    "X_new = X_test[:3]\n",
    "X_new[2]"
   ]
  },
  {
   "cell_type": "code",
   "execution_count": 30,
   "id": "heavy-commitment",
   "metadata": {},
   "outputs": [],
   "source": [
    "class_names = [\"T-shirt/top\", \"Trouser\", \"Pullover\", \"Dress\", \"Coat\",\n",
    "               \"Sandal\", \"Shirt\", \"Sneaker\", \"Bag\", \"Ankle boot\"]"
   ]
  },
  {
   "cell_type": "code",
   "execution_count": 31,
   "id": "severe-click",
   "metadata": {},
   "outputs": [
    {
     "data": {
      "image/png": "[encoded data removed]",
      "text/plain": [
       "<Figure size 432x288 with 1 Axes>"
      ]
     },
     "metadata": {
      "needs_background": "light"
     },
     "output_type": "display_data"
    }
   ],
   "source": [
    "plt.imshow(X_new[0], cmap=\"binary\")\n",
    "plt.axis('off')\n",
    "plt.show()"
   ]
  },
  {
   "cell_type": "code",
   "execution_count": 32,
   "id": "amateur-advice",
   "metadata": {},
   "outputs": [
    {
     "data": {
      "image/png": "[encoded data removed]",
      "text/plain": [
       "<Figure size 432x288 with 1 Axes>"
      ]
     },
     "metadata": {
      "needs_background": "light"
     },
     "output_type": "display_data"
    }
   ],
   "source": [
    "plt.imshow(X_new[1], cmap=\"binary\")\n",
    "plt.axis('off')\n",
    "plt.show()"
   ]
  },
  {
   "cell_type": "code",
   "execution_count": 33,
   "id": "headed-korean",
   "metadata": {},
   "outputs": [
    {
     "data": {
      "image/png": "[encoded data removed]",
      "text/plain": [
       "<Figure size 432x288 with 1 Axes>"
      ]
     },
     "metadata": {
      "needs_background": "light"
     },
     "output_type": "display_data"
    }
   ],
   "source": [
    "plt.imshow(X_new[2], cmap=\"binary\")\n",
    "plt.axis('off')\n",
    "plt.show()"
   ]
  },
  {
   "cell_type": "code",
   "execution_count": 34,
   "id": "proof-circulation",
   "metadata": {},
   "outputs": [
    {
     "data": {
      "text/plain": [
       "array([[0.  , 0.  , 0.  , 0.  , 0.  , 0.02, 0.  , 0.01, 0.  , 0.97],\n",
       "       [0.  , 0.  , 1.  , 0.  , 0.  , 0.  , 0.  , 0.  , 0.  , 0.  ],\n",
       "       [0.  , 1.  , 0.  , 0.  , 0.  , 0.  , 0.  , 0.  , 0.  , 0.  ]],\n",
       "      dtype=float32)"
      ]
     },
     "execution_count": 34,
     "metadata": {},
     "output_type": "execute_result"
    }
   ],
   "source": [
    "y_proba = model.predict(X_new)\n",
    "y_proba.round(2)"
   ]
  },
  {
   "cell_type": "code",
   "execution_count": 35,
   "id": "radical-contemporary",
   "metadata": {},
   "outputs": [],
   "source": [
    "import numpy as np"
   ]
  },
  {
   "cell_type": "code",
   "execution_count": 36,
   "id": "planned-liechtenstein",
   "metadata": {},
   "outputs": [
    {
     "data": {
      "text/plain": [
       "array([9, 2, 1], dtype=int64)"
      ]
     },
     "execution_count": 36,
     "metadata": {},
     "output_type": "execute_result"
    }
   ],
   "source": [
    "y_pred = np.argmax(model.predict(X_new), axis=-1)\n",
    "y_pred"
   ]
  },
  {
   "cell_type": "code",
   "execution_count": 37,
   "id": "invalid-entertainment",
   "metadata": {},
   "outputs": [
    {
     "data": {
      "text/plain": [
       "array(['Ankle boot', 'Pullover', 'Trouser'], dtype='<U11')"
      ]
     },
     "execution_count": 37,
     "metadata": {},
     "output_type": "execute_result"
    }
   ],
   "source": [
    "np.array(class_names)[y_pred]"
   ]
  },
  {
   "cell_type": "code",
   "execution_count": 38,
   "id": "enclosed-monster",
   "metadata": {},
   "outputs": [
    {
     "data": {
      "text/plain": [
       "array([9, 2, 1], dtype=int64)"
      ]
     },
     "execution_count": 38,
     "metadata": {},
     "output_type": "execute_result"
    }
   ],
   "source": [
    "y_pred"
   ]
  },
  {
   "cell_type": "code",
   "execution_count": 39,
   "id": "golden-process",
   "metadata": {},
   "outputs": [
    {
     "data": {
      "text/plain": [
       "array([9, 2, 1], dtype=uint8)"
      ]
     },
     "execution_count": 39,
     "metadata": {},
     "output_type": "execute_result"
    }
   ],
   "source": [
    "y_new = y_test[:3]\n",
    "y_new"
   ]
  },
  {
   "cell_type": "code",
   "execution_count": 40,
   "id": "temporal-marine",
   "metadata": {},
   "outputs": [
    {
     "data": {
      "image/png": "[encoded data removed]",
      "text/plain": [
       "<Figure size 518.4x172.8 with 3 Axes>"
      ]
     },
     "metadata": {
      "needs_background": "light"
     },
     "output_type": "display_data"
    }
   ],
   "source": [
    "plt.figure(figsize=(7.2, 2.4))\n",
    "for index, image in enumerate(X_new):\n",
    "    plt.subplot(1, 3, index + 1)\n",
    "    plt.imshow(image, cmap=\"binary\", interpolation=\"nearest\")\n",
    "    plt.axis('off')\n",
    "    plt.title(class_names[y_test[index]], fontsize=12)\n",
    "plt.subplots_adjust(wspace=0.2, hspace=0.5)\n",
    "plt.show()"
   ]
  },
  {
   "cell_type": "code",
   "execution_count": null,
   "id": "going-screw",
   "metadata": {},
   "outputs": [],
   "source": []
  }
 ],
 "metadata": {
  "kernelspec": {
   "display_name": "Python 3",
   "language": "python",
   "name": "python3"
  },
  "language_info": {
   "codemirror_mode": {
    "name": "ipython",
    "version": 3
   },
   "file_extension": ".py",
   "mimetype": "text/x-python",
   "name": "python",
   "nbconvert_exporter": "python",
   "pygments_lexer": "ipython3",
   "version": "3.7.1"
  }
 },
 "nbformat": 4,
 "nbformat_minor": 5
}
